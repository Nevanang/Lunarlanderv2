{
  "cells": [
    {
      "attachments": {},
      "cell_type": "markdown",
      "metadata": {},
      "source": [
        "<h1>Nevan Ang Kai Wen\n",
        "<h1>P2122867\n",
        "<h1>Khor Yu Yang\n",
        "<h1>P2123590\n",
        "<h1>DAAA/FT/2B/01"
      ]
    },
    {
      "cell_type": "code",
      "execution_count": 36,
      "metadata": {
        "id": "04LsYY8QncT7"
      },
      "outputs": [],
      "source": [
        "from keras.optimizers import Adam\n",
        "import numpy as np\n",
        "from keras.layers import Dense,Activation\n",
        "from keras.models import Sequential,load_model\n",
        "import datetime\n",
        "import gym\n",
        "import matplotlib.pyplot as plt\n",
        "import tensorflow as tf"
      ]
    },
    {
      "cell_type": "code",
      "execution_count": 37,
      "metadata": {
        "id": "Lh7vrzEHD-WT"
      },
      "outputs": [],
      "source": [
        "import os\n",
        "os.environ['TF_CPP_MIN_LOG_LEVEL'] = '3'"
      ]
    },
    {
      "cell_type": "code",
      "execution_count": 38,
      "metadata": {
        "id": "WmOk_8arT8Ih"
      },
      "outputs": [],
      "source": [
        "tf.compat.v1.disable_eager_execution()"
      ]
    },
    {
      "cell_type": "markdown",
      "metadata": {
        "id": "Yel41NOpncT9"
      },
      "source": [
        "<h2>Replay Buffer"
      ]
    },
    {
      "cell_type": "markdown",
      "metadata": {
        "id": "Ewjo-YorncT-"
      },
      "source": [
        "Storage of state,action,reward,state transition,tuples and done(terminal)"
      ]
    },
    {
      "cell_type": "markdown",
      "metadata": {
        "id": "hhLJ9YvYncT-"
      },
      "source": [
        "So that agent can use transitions to learn about parameter space of problem"
      ]
    },
    {
      "cell_type": "code",
      "execution_count": 41,
      "metadata": {
        "id": "HrZSDR2qncT-"
      },
      "outputs": [],
      "source": [
        "class ReplayBuffer():\n",
        "    def __init__(self,max_size,input_shape,n_actions,discrete=True):\n",
        "        self.mem_size=max_size\n",
        "        self.mem_cntr=0\n",
        "        self.discrete=discrete #if dealt with discrete action space, we want to store them as vector\n",
        "        self.state_mem=np.zeros((self.mem_size,input_shape))\n",
        "        #to store new states of environment\n",
        "        self.new_state_mem=np.zeros((self.mem_size,input_shape)) #track new states after each new action\n",
        "        dtype=np.int8 if discrete else np.float32 #discrete or continuous\n",
        "        self.action_mem=np.zeros((self.mem_size,n_actions),dtype=dtype)\n",
        "        self.reward_mem=np.zeros(self.mem_size)\n",
        "        self.terminal_mem=np.zeros(self.mem_size,dtype=np.float32) #determine whether episode is done, dont take in reward of next state\n",
        "    #learn from its experiences by storing in info about its interactions\n",
        "    def store_transition(self,state,action,reward,state_,terminal):\n",
        "        index=self.mem_cntr %self.mem_size #from 0 to 1m size of memory, to replace exisiting when it hits 1m \n",
        "        self.state_mem[index]=state\n",
        "        self.new_state_mem[index]=state_\n",
        "        self.reward_mem[index]=reward\n",
        "        self.terminal_mem[index]=1-int(terminal)# 1- true or 0\n",
        "        if self.discrete: #one hot encoded actions\n",
        "            actions=np.zeros(self.action_mem.shape[1])\n",
        "            actions[action]=1.0\n",
        "            self.action_mem[index]=actions\n",
        "        else:\n",
        "            self.action_mem[index]=action\n",
        "        self.mem_cntr+=1\n",
        "        \n",
        "    def sample_memory(self,batch_size): # subset of memsize\n",
        "        max_mem=min(self.mem_cntr,self.mem_size)#only sample from existing \n",
        "        batch=np.random.choice(max_mem,batch_size)\n",
        "        states=self.state_mem[batch]\n",
        "        states_=self.new_state_mem[batch]\n",
        "        rewards=self.reward_mem[batch]\n",
        "        actions=self.action_mem[batch]\n",
        "        terminal=self.terminal_mem[batch]\n",
        "        return states,actions, rewards,states_,terminal\n"
      ]
    },
    {
      "attachments": {},
      "cell_type": "markdown",
      "metadata": {},
      "source": [
        "<h2>DQN Network"
      ]
    },
    {
      "attachments": {},
      "cell_type": "markdown",
      "metadata": {},
      "source": [
        "2 fully connected layers of dense"
      ]
    },
    {
      "cell_type": "code",
      "execution_count": 42,
      "metadata": {
        "id": "s853_KcGncT_"
      },
      "outputs": [],
      "source": [
        "def dqn(lr,n_actions,input_dim,fc1,fc2):\n",
        "    model=Sequential([\n",
        "        Dense(fc1,input_shape=(input_dim,)),#pass batch or single memory\n",
        "        Activation('relu'),\n",
        "        Dense(fc2),\n",
        "        Activation('relu'),\n",
        "        Dense(n_actions)\n",
        "    ])\n",
        "    model.compile(optimizer=Adam(lr=lr),loss='mse')\n",
        "    return model\n"
      ]
    },
    {
      "attachments": {},
      "cell_type": "markdown",
      "metadata": {},
      "source": [
        "<h2>Agent "
      ]
    },
    {
      "attachments": {},
      "cell_type": "markdown",
      "metadata": {},
      "source": [
        "Where the model is run, experience stored,action chosen, generate experience and learn and to save or load models"
      ]
    },
    {
      "cell_type": "markdown",
      "metadata": {
        "id": "LaHUeiuMncUA"
      },
      "source": [
        "gamma-discount factor for future rewards\n"
      ]
    },
    {
      "cell_type": "markdown",
      "metadata": {
        "id": "E7zV7TBbncUA"
      },
      "source": [
        "epsilon-random factor for epsilon greedy"
      ]
    },
    {
      "cell_type": "markdown",
      "metadata": {
        "id": "RPloZGmA6_HR"
      },
      "source": [
        "W/ Target Network"
      ]
    },
    {
      "cell_type": "code",
      "execution_count": 44,
      "metadata": {
        "id": "Qp55RYCp7BAB"
      },
      "outputs": [],
      "source": [
        "class Agent():\n",
        "    def __init__(self,alpha,gamma,n_actions,epsilon,batch_size,input_dims,epsilon_dec=0.996,epsilon_end=0.01,mem_size=1_000_000,fname='best_2_5_dqn_model.h5',replace=200):\n",
        "        self.action_space=[i for i in range(n_actions)] # for randm action\n",
        "        self.gamma=gamma\n",
        "        self.epsilon=epsilon\n",
        "        self.ep_dec=epsilon_dec\n",
        "        self.eps_min=epsilon_end\n",
        "        self.batch_size=batch_size\n",
        "        self.model_file=fname\n",
        "        self.step_counter=0\n",
        "        self.update_rate=replace\n",
        "        self.memory=ReplayBuffer(mem_size,input_dims,n_actions,discrete=True)\n",
        "        self.Q_eval=dqn(alpha,n_actions,input_dims,256,256)\n",
        "        self.Q_targetnet=dqn(alpha,n_actions,input_dims,256,256)\n",
        "    #interfacing w/ memory to save new state transitions\n",
        "    def remember(self,state,action,reward,new_state,terminal):\n",
        "        self.memory.store_transition(state,action,reward,new_state,terminal)\n",
        "\n",
        "    #epsilon greedy strategy\n",
        "    def choose_action(self,state): #shaped input dims\n",
        "        #reshape\n",
        "        state=state[np.newaxis,:]\n",
        "        rand=np.random.random()\n",
        "        if rand<self.epsilon: #exploration\n",
        "            action=np.random.choice(self.action_space)\n",
        "        else:\n",
        "            actions=self.Q_eval.predict(state,verbose=0)\n",
        "            action=np.argmax(actions)#pass state through the network,get value of all actions and get max highest value\n",
        "        return action\n",
        "\n",
        "        ###Sample Memory,\n",
        "        #Calculate value of current and next state\n",
        "        #Update q_target based on next state as target for loss function of q_eval\n",
        "    def learn(self):\n",
        "        #Temporal difference learning method: learning every step, fill memory with random until batchsize\n",
        "        if self.memory.mem_cntr<self.batch_size:\n",
        "            return\n",
        "        if self.step_counter % self.update_rate == 0:\n",
        "            self.Q_targetnet.set_weights(self.Q_eval.get_weights())\n",
        "        state,action,reward,new_state,terminal= self.memory.sample_memory(self.batch_size) #gives sample in shape batch_size\n",
        "        action_values=np.array(self.action_space,dtype=np.int8)\n",
        "        action_indices=np.dot(action,action_values) #from one hot to normal integer\n",
        "        Q_eval=self.Q_eval.predict(state,verbose=0) #feed state through model to calculate current and next state \n",
        "        Q_next=self.Q_targetnet.predict(new_state,verbose=0)\n",
        "        q_target=Q_eval.copy()\n",
        "        #q-target in bellman equation\n",
        "        #Address all states in particular batch, not normal array slicing because Shape(batchsize,batchsize) gives u wrong answer \n",
        "        batch_index=np.arange(self.batch_size,dtype=np.int32)\n",
        "        q_target[batch_index,action_indices]= reward+self.gamma*np.max(Q_next,axis=1)*terminal #what q target shoots for\n",
        "        #best possible reward received in next state \n",
        "        #0 to batchsize-1,action taken\n",
        "        self.Q_eval.train_on_batch(state,q_target)#pass batch to network, compare to q target and \n",
        "        self.epsilon=self.epsilon*self.ep_dec if self.epsilon > self.eps_min else self.eps_min\n",
        "        self.step_counter += 1\n",
        "    def save_model(self,i):\n",
        "        self.Q_eval.save(f'ep{i}_{self.model_file}')\n",
        "    def load_model(self):\n",
        "        self.Q_eval=load_model(self.model_file)\n",
        "        "
      ]
    },
    {
      "cell_type": "code",
      "execution_count": 45,
      "metadata": {
        "colab": {
          "base_uri": "https://localhost:8080/"
        },
        "id": "mW2yPinYncUB",
        "outputId": "53554a17-dbee-49e5-d4d5-5836271e96ba"
      },
      "outputs": [
        {
          "name": "stdout",
          "output_type": "stream",
          "text": [
            "State shape:  (8,)\n",
            "Number of actions:  4\n"
          ]
        }
      ],
      "source": [
        "env=gym.make(\"LunarLander-v2\")\n",
        "print('State shape: ', env.observation_space.shape)\n",
        "print('Number of actions: ', env.action_space.n)"
      ]
    },
    {
      "attachments": {},
      "cell_type": "markdown",
      "metadata": {},
      "source": [
        "<h2>Training"
      ]
    },
    {
      "cell_type": "code",
      "execution_count": 46,
      "metadata": {
        "colab": {
          "base_uri": "https://localhost:8080/"
        },
        "id": "9LzoBmLUncUB",
        "outputId": "5b65e2ad-5a6f-4832-ba17-f05239645423"
      },
      "outputs": [
        {
          "name": "stdout",
          "output_type": "stream",
          "text": [
            "Ep  1 score -120.71 avg score -120.71 epsilon 1.00\n",
            "Ep  2 score -238.65 avg score -179.68 epsilon 0.88\n",
            "Ep  3 score -349.26 avg score -236.21 epsilon 0.63\n",
            "Ep  4 score -157.65 avg score -216.57 epsilon 0.45\n",
            "Ep  5 score -173.84 avg score -208.02 epsilon 0.24\n",
            "Ep  6 score -290.30 avg score -221.73 epsilon 0.11\n",
            "Ep  7 score -425.71 avg score -250.87 epsilon 0.07\n",
            "Ep  8 score -271.22 avg score -253.42 epsilon 0.04\n",
            "Ep  9 score -191.27 avg score -246.51 epsilon 0.01\n",
            "Ep  10 score -42.82 avg score -226.14 epsilon 0.01\n",
            "Ep  11 score -93.66 avg score -214.10 epsilon 0.01\n",
            "Ep  12 score -261.79 avg score -218.07 epsilon 0.01\n",
            "Ep  13 score -593.28 avg score -246.93 epsilon 0.01\n",
            "Ep  14 score -120.58 avg score -237.91 epsilon 0.01\n",
            "Ep  15 score -95.52 avg score -228.42 epsilon 0.01\n",
            "Ep  16 score -35.15 avg score -216.34 epsilon 0.01\n",
            "Ep  17 score -29.13 avg score -205.33 epsilon 0.01\n",
            "Ep  18 score -109.68 avg score -200.01 epsilon 0.01\n",
            "Ep  19 score -23.00 avg score -190.70 epsilon 0.01\n",
            "Ep  20 score -121.60 avg score -187.24 epsilon 0.01\n",
            "Ep  21 score -35.85 avg score -180.03 epsilon 0.01\n",
            "Ep  22 score -48.33 avg score -174.05 epsilon 0.01\n",
            "Ep  23 score -118.49 avg score -171.63 epsilon 0.01\n",
            "Ep  24 score -82.99 avg score -167.94 epsilon 0.01\n",
            "Ep  25 score -158.67 avg score -167.57 epsilon 0.01\n",
            "Ep  26 score -88.86 avg score -164.54 epsilon 0.01\n",
            "Ep  27 score -135.20 avg score -163.45 epsilon 0.01\n",
            "Ep  28 score -84.55 avg score -160.63 epsilon 0.01\n",
            "Ep  29 score -51.27 avg score -156.86 epsilon 0.01\n",
            "Ep  30 score -84.32 avg score -154.45 epsilon 0.01\n",
            "Ep  31 score -115.59 avg score -153.19 epsilon 0.01\n",
            "Ep  32 score -41.77 avg score -149.71 epsilon 0.01\n",
            "Ep  33 score -111.48 avg score -148.55 epsilon 0.01\n",
            "Ep  34 score -60.49 avg score -145.96 epsilon 0.01\n",
            "Ep  35 score -112.15 avg score -145.00 epsilon 0.01\n",
            "Ep  36 score -73.72 avg score -143.02 epsilon 0.01\n",
            "Ep  37 score -111.70 avg score -142.17 epsilon 0.01\n",
            "Ep  38 score -62.15 avg score -140.06 epsilon 0.01\n",
            "Ep  39 score -59.16 avg score -137.99 epsilon 0.01\n",
            "Ep  40 score -67.20 avg score -136.22 epsilon 0.01\n",
            "Ep  41 score -44.56 avg score -133.98 epsilon 0.01\n",
            "Ep  42 score -91.11 avg score -132.96 epsilon 0.01\n",
            "Ep  43 score 1.83 avg score -129.83 epsilon 0.01\n",
            "Ep  44 score -88.42 avg score -128.89 epsilon 0.01\n",
            "Ep  45 score -174.36 avg score -129.90 epsilon 0.01\n",
            "Ep  46 score -55.78 avg score -128.29 epsilon 0.01\n",
            "Ep  47 score -27.36 avg score -126.14 epsilon 0.01\n",
            "Ep  48 score -103.72 avg score -125.67 epsilon 0.01\n",
            "Ep  49 score -84.41 avg score -124.83 epsilon 0.01\n",
            "Ep  50 score -112.04 avg score -124.57 epsilon 0.01\n",
            "Ep  51 score 120.91 avg score -119.76 epsilon 0.01\n",
            "Ep  52 score -112.78 avg score -119.63 epsilon 0.01\n",
            "Ep  53 score -111.48 avg score -119.47 epsilon 0.01\n",
            "Ep  54 score -72.52 avg score -118.60 epsilon 0.01\n",
            "Ep  55 score -249.35 avg score -120.98 epsilon 0.01\n",
            "Ep  56 score -107.17 avg score -120.73 epsilon 0.01\n",
            "Ep  57 score -80.56 avg score -120.03 epsilon 0.01\n",
            "Ep  58 score -94.49 avg score -119.59 epsilon 0.01\n",
            "Ep  59 score -59.05 avg score -118.56 epsilon 0.01\n",
            "Ep  60 score -90.84 avg score -118.10 epsilon 0.01\n",
            "Ep  61 score -45.90 avg score -116.92 epsilon 0.01\n",
            "Ep  62 score -150.16 avg score -117.45 epsilon 0.01\n",
            "Ep  63 score -72.15 avg score -116.73 epsilon 0.01\n",
            "Ep  64 score -55.06 avg score -115.77 epsilon 0.01\n",
            "Ep  65 score -306.63 avg score -118.71 epsilon 0.01\n",
            "Ep  66 score -81.79 avg score -118.15 epsilon 0.01\n",
            "Ep  67 score 168.26 avg score -113.87 epsilon 0.01\n",
            "Ep  68 score -29.84 avg score -112.64 epsilon 0.01\n",
            "Ep  69 score -25.01 avg score -111.37 epsilon 0.01\n",
            "Ep  70 score -40.28 avg score -110.35 epsilon 0.01\n",
            "Ep  71 score -87.88 avg score -110.03 epsilon 0.01\n",
            "Ep  72 score -6.17 avg score -108.59 epsilon 0.01\n",
            "Ep  73 score 168.16 avg score -104.80 epsilon 0.01\n",
            "Ep  74 score -73.99 avg score -104.38 epsilon 0.01\n",
            "Ep  75 score -25.75 avg score -103.34 epsilon 0.01\n",
            "Ep  76 score -20.91 avg score -102.25 epsilon 0.01\n",
            "Ep  77 score -126.60 avg score -102.57 epsilon 0.01\n",
            "Ep  78 score -205.60 avg score -103.89 epsilon 0.01\n",
            "Ep  79 score -130.25 avg score -104.22 epsilon 0.01\n",
            "Ep  80 score -133.15 avg score -104.58 epsilon 0.01\n",
            "Ep  81 score -182.80 avg score -105.55 epsilon 0.01\n",
            "Ep  82 score -159.86 avg score -106.21 epsilon 0.01\n",
            "Ep  83 score 139.03 avg score -103.26 epsilon 0.01\n",
            "Ep  84 score -109.58 avg score -103.33 epsilon 0.01\n",
            "Ep  85 score 202.00 avg score -99.74 epsilon 0.01\n",
            "Ep  86 score -149.56 avg score -100.32 epsilon 0.01\n",
            "Ep  87 score -114.21 avg score -100.48 epsilon 0.01\n",
            "Ep  88 score 109.66 avg score -98.09 epsilon 0.01\n",
            "Ep  89 score -44.05 avg score -97.48 epsilon 0.01\n",
            "Ep  90 score 0.69 avg score -96.39 epsilon 0.01\n",
            "Ep  91 score -27.29 avg score -95.63 epsilon 0.01\n",
            "Ep  92 score -205.94 avg score -96.83 epsilon 0.01\n",
            "Ep  93 score -97.33 avg score -96.84 epsilon 0.01\n",
            "Ep  94 score -42.83 avg score -96.26 epsilon 0.01\n",
            "Ep  95 score -31.02 avg score -95.58 epsilon 0.01\n",
            "Ep  96 score -24.68 avg score -94.84 epsilon 0.01\n",
            "Ep  97 score -24.87 avg score -94.12 epsilon 0.01\n",
            "Ep  98 score -97.59 avg score -94.15 epsilon 0.01\n",
            "Ep  99 score -35.85 avg score -93.56 epsilon 0.01\n",
            "Ep  100 score -0.15 avg score -92.63 epsilon 0.01\n",
            "Ep  101 score 17.98 avg score -91.53 epsilon 0.01\n",
            "Ep  102 score -52.82 avg score -90.86 epsilon 0.01\n",
            "Ep  103 score -4.52 avg score -88.54 epsilon 0.01\n",
            "Ep  104 score -12.04 avg score -85.20 epsilon 0.01\n",
            "Ep  105 score 105.02 avg score -82.60 epsilon 0.01\n",
            "Ep  106 score 17.45 avg score -80.71 epsilon 0.01\n",
            "Ep  107 score -29.38 avg score -78.13 epsilon 0.01\n",
            "Ep  108 score 191.60 avg score -72.01 epsilon 0.01\n",
            "Ep  109 score -170.53 avg score -71.02 epsilon 0.01\n",
            "Ep  110 score 70.20 avg score -68.43 epsilon 0.01\n",
            "Ep  111 score -81.49 avg score -68.81 epsilon 0.01\n",
            "Ep  112 score -67.38 avg score -68.55 epsilon 0.01\n",
            "Ep  113 score 6.21 avg score -65.90 epsilon 0.01\n",
            "Ep  114 score -39.36 avg score -60.41 epsilon 0.01\n",
            "Ep  115 score 190.23 avg score -57.34 epsilon 0.01\n",
            "Ep  116 score 57.63 avg score -55.82 epsilon 0.01\n",
            "Ep  117 score 257.13 avg score -52.93 epsilon 0.01\n",
            "Ep  118 score 232.13 avg score -50.34 epsilon 0.01\n",
            "Ep  119 score 127.41 avg score -47.99 epsilon 0.01\n",
            "Ep  120 score 156.77 avg score -46.21 epsilon 0.01\n",
            "Ep  121 score 190.78 avg score -43.12 epsilon 0.01\n",
            "Ep  122 score 226.85 avg score -40.52 epsilon 0.01\n",
            "Ep  123 score 213.08 avg score -37.93 epsilon 0.01\n",
            "Ep  124 score 154.38 avg score -35.23 epsilon 0.01\n",
            "Ep  125 score 123.06 avg score -33.19 epsilon 0.01\n",
            "Ep  126 score 225.18 avg score -29.39 epsilon 0.01\n",
            "Ep  127 score 2.23 avg score -28.49 epsilon 0.01\n",
            "Ep  128 score 72.79 avg score -26.43 epsilon 0.01\n",
            "Ep  129 score 217.88 avg score -23.43 epsilon 0.01\n",
            "Ep  130 score 186.56 avg score -21.08 epsilon 0.01\n",
            "Ep  131 score 188.28 avg score -18.38 epsilon 0.01\n",
            "Ep  132 score 278.34 avg score -14.48 epsilon 0.01\n",
            "Ep  133 score 256.37 avg score -11.53 epsilon 0.01\n",
            "Ep  134 score 201.43 avg score -8.43 epsilon 0.01\n",
            "Ep  135 score 197.25 avg score -5.88 epsilon 0.01\n",
            "Ep  136 score 256.50 avg score -2.23 epsilon 0.01\n",
            "Ep  137 score 208.30 avg score 0.57 epsilon 0.01\n",
            "Ep  138 score 176.83 avg score 3.42 epsilon 0.01\n",
            "Ep  139 score 164.83 avg score 5.67 epsilon 0.01\n",
            "Ep  140 score 217.59 avg score 8.41 epsilon 0.01\n",
            "Ep  141 score 141.45 avg score 10.48 epsilon 0.01\n",
            "Ep  142 score 283.50 avg score 13.72 epsilon 0.01\n",
            "Ep  143 score -5.28 avg score 14.57 epsilon 0.01\n",
            "Ep  144 score 264.36 avg score 17.17 epsilon 0.01\n",
            "Ep  145 score 69.96 avg score 18.74 epsilon 0.01\n",
            "Ep  146 score 274.54 avg score 23.19 epsilon 0.01\n",
            "Ep  147 score 238.89 avg score 26.10 epsilon 0.01\n",
            "Ep  148 score 262.26 avg score 28.97 epsilon 0.01\n",
            "Ep  149 score 251.24 avg score 32.48 epsilon 0.01\n",
            "Ep  150 score 171.34 avg score 35.02 epsilon 0.01\n",
            "Ep  151 score 196.81 avg score 38.08 epsilon 0.01\n",
            "Ep  152 score 241.36 avg score 39.27 epsilon 0.01\n",
            "Ep  153 score 265.02 avg score 43.01 epsilon 0.01\n",
            "Ep  154 score 246.41 avg score 46.55 epsilon 0.01\n",
            "Ep  155 score 271.82 avg score 49.96 epsilon 0.01\n",
            "Ep  156 score -19.97 avg score 52.23 epsilon 0.01\n",
            "Ep  157 score 197.39 avg score 55.25 epsilon 0.01\n",
            "Ep  158 score 243.49 avg score 58.46 epsilon 0.01\n",
            "Ep  159 score -168.88 avg score 57.72 epsilon 0.01\n",
            "Ep  160 score 216.38 avg score 60.45 epsilon 0.01\n",
            "Ep  161 score 210.93 avg score 63.43 epsilon 0.01\n",
            "Ep  162 score -127.93 avg score 62.62 epsilon 0.01\n",
            "Ep  163 score 211.37 avg score 66.20 epsilon 0.01\n",
            "Ep  164 score 242.39 avg score 69.32 epsilon 0.01\n",
            "Ep  165 score 80.11 avg score 70.65 epsilon 0.01\n",
            "Ep  166 score 287.54 avg score 76.54 epsilon 0.01\n",
            "Ep  167 score -511.84 avg score 72.28 epsilon 0.01\n",
            "Ep  168 score 214.12 avg score 72.73 epsilon 0.01\n",
            "Ep  169 score -103.07 avg score 72.01 epsilon 0.01\n",
            "Ep  170 score 233.33 avg score 74.57 epsilon 0.01\n",
            "Ep  171 score 227.61 avg score 77.22 epsilon 0.01\n",
            "Ep  172 score -186.23 avg score 76.24 epsilon 0.01\n",
            "Ep  173 score 224.29 avg score 78.53 epsilon 0.01\n",
            "Ep  174 score -128.82 avg score 75.59 epsilon 0.01\n",
            "Ep  175 score -221.72 avg score 74.12 epsilon 0.01\n",
            "Ep  176 score 276.25 avg score 77.11 epsilon 0.01\n",
            "Ep  177 score 239.78 avg score 79.69 epsilon 0.01\n",
            "Ep  178 score 224.99 avg score 83.18 epsilon 0.01\n",
            "Ep  179 score 212.96 avg score 87.32 epsilon 0.01\n",
            "Ep  180 score 303.09 avg score 91.61 epsilon 0.01\n",
            "Ep  181 score -40.45 avg score 92.53 epsilon 0.01\n",
            "Ep  182 score 231.80 avg score 96.63 epsilon 0.01\n",
            "Ep  183 score -368.48 avg score 94.57 epsilon 0.01\n",
            "Ep  184 score 236.67 avg score 95.53 epsilon 0.01\n",
            "Ep  185 score -108.58 avg score 95.54 epsilon 0.01\n",
            "Ep  186 score 233.11 avg score 95.85 epsilon 0.01\n",
            "Ep  187 score 271.34 avg score 100.02 epsilon 0.01\n",
            "Ep  188 score 229.41 avg score 103.42 epsilon 0.01\n",
            "Ep  189 score -35.80 avg score 101.98 epsilon 0.01\n",
            "Ep  190 score 247.73 avg score 104.87 epsilon 0.01\n",
            "Ep  191 score -283.08 avg score 102.06 epsilon 0.01\n",
            "Ep  192 score 229.23 avg score 104.60 epsilon 0.01\n",
            "Ep  193 score 280.61 avg score 109.42 epsilon 0.01\n",
            "Ep  194 score 116.20 avg score 111.53 epsilon 0.01\n",
            "Ep  195 score 281.98 avg score 114.75 epsilon 0.01\n",
            "Ep  196 score 90.16 avg score 115.95 epsilon 0.01\n",
            "Ep  197 score 268.86 avg score 118.85 epsilon 0.01\n",
            "Ep  198 score 248.28 avg score 121.56 epsilon 0.01\n",
            "Ep  199 score 273.59 avg score 125.23 epsilon 0.01\n",
            "Ep  200 score 276.89 avg score 128.33 epsilon 0.01\n",
            "Ep  201 score 245.44 avg score 130.76 epsilon 0.01\n",
            "Ep  202 score -275.11 avg score 127.86 epsilon 0.01\n",
            "Ep  203 score 293.42 avg score 131.29 epsilon 0.01\n",
            "Ep  204 score 301.29 avg score 134.32 epsilon 0.01\n",
            "Ep  205 score 319.86 avg score 137.60 epsilon 0.01\n",
            "Ep  206 score 246.59 avg score 139.00 epsilon 0.01\n",
            "Ep  207 score 240.99 avg score 141.22 epsilon 0.01\n",
            "Ep  208 score -202.63 avg score 139.50 epsilon 0.01\n",
            "Ep  209 score 247.29 avg score 140.05 epsilon 0.01\n",
            "Ep  210 score -103.05 avg score 140.72 epsilon 0.01\n",
            "Ep  211 score 17.70 avg score 140.20 epsilon 0.01\n",
            "Ep  212 score 275.99 avg score 143.74 epsilon 0.01\n",
            "Ep  213 score 271.58 avg score 147.10 epsilon 0.01\n",
            "Ep  214 score 248.50 avg score 149.50 epsilon 0.01\n",
            "Ep  215 score 277.09 avg score 152.63 epsilon 0.01\n",
            "Ep  216 score 230.53 avg score 153.03 epsilon 0.01\n",
            "Ep  217 score 279.28 avg score 155.22 epsilon 0.01\n",
            "Ep  218 score 265.43 avg score 155.30 epsilon 0.01\n",
            "Ep  219 score 187.54 avg score 154.86 epsilon 0.01\n",
            "Ep  220 score 228.14 avg score 155.86 epsilon 0.01\n",
            "Ep  221 score 178.36 avg score 156.07 epsilon 0.01\n",
            "Ep  222 score -52.63 avg score 153.66 epsilon 0.01\n",
            "Ep  223 score 140.84 avg score 152.81 epsilon 0.01\n",
            "Ep  224 score -45.36 avg score 150.25 epsilon 0.01\n",
            "Ep  225 score 0.58 avg score 148.73 epsilon 0.01\n",
            "Ep  226 score -10.16 avg score 147.41 epsilon 0.01\n",
            "Ep  227 score -102.55 avg score 144.17 epsilon 0.01\n",
            "Ep  228 score 252.45 avg score 146.64 epsilon 0.01\n",
            "Ep  229 score 236.54 avg score 148.27 epsilon 0.01\n",
            "Ep  230 score 13.71 avg score 146.24 epsilon 0.01\n",
            "Ep  231 score 237.27 avg score 146.75 epsilon 0.01\n",
            "Ep  232 score 219.80 avg score 147.06 epsilon 0.01\n",
            "Ep  233 score 273.12 avg score 147.01 epsilon 0.01\n",
            "Ep  234 score -84.38 avg score 143.63 epsilon 0.01\n",
            "Ep  235 score -154.83 avg score 140.11 epsilon 0.01\n",
            "Ep  236 score 179.11 avg score 139.93 epsilon 0.01\n",
            "Ep  237 score 309.83 avg score 140.45 epsilon 0.01\n",
            "Ep  238 score 239.74 avg score 140.76 epsilon 0.01\n",
            "Ep  239 score 244.90 avg score 141.44 epsilon 0.01\n",
            "Ep  240 score 187.79 avg score 141.67 epsilon 0.01\n",
            "Ep  241 score 108.22 avg score 140.58 epsilon 0.01\n",
            "Ep  242 score 236.51 avg score 141.52 epsilon 0.01\n",
            "Ep  243 score -23.88 avg score 138.48 epsilon 0.01\n",
            "Ep  244 score 289.26 avg score 141.40 epsilon 0.01\n",
            "Ep  245 score 270.45 avg score 141.46 epsilon 0.01\n",
            "Ep  246 score 260.99 avg score 143.35 epsilon 0.01\n",
            "Ep  247 score 310.96 avg score 143.71 epsilon 0.01\n",
            "Ep  248 score 273.97 avg score 144.06 epsilon 0.01\n",
            "Ep  249 score 273.33 avg score 144.17 epsilon 0.01\n",
            "Ep  250 score 267.98 avg score 144.33 epsilon 0.01\n",
            "Ep  251 score 276.19 avg score 145.37 epsilon 0.01\n",
            "Ep  252 score 259.95 avg score 146.00 epsilon 0.01\n",
            "Ep  253 score 246.77 avg score 146.05 epsilon 0.01\n",
            "Ep  254 score 248.69 avg score 145.89 epsilon 0.01\n",
            "Ep  255 score 261.97 avg score 146.04 epsilon 0.01\n",
            "Ep  256 score 285.50 avg score 146.18 epsilon 0.01\n",
            "Ep  257 score 257.38 avg score 148.92 epsilon 0.01\n",
            "Ep  258 score 256.28 avg score 149.51 epsilon 0.01\n",
            "Ep  259 score -1.61 avg score 147.08 epsilon 0.01\n",
            "Ep  260 score 302.73 avg score 151.75 epsilon 0.01\n",
            "Ep  261 score 266.79 avg score 152.25 epsilon 0.01\n",
            "Ep  262 score 286.32 avg score 152.99 epsilon 0.01\n",
            "Ep  263 score 268.47 avg score 156.92 epsilon 0.01\n",
            "Ep  264 score 261.51 avg score 157.42 epsilon 0.01\n",
            "Ep  265 score -38.88 avg score 154.63 epsilon 0.01\n",
            "Ep  266 score 280.59 avg score 156.62 epsilon 0.01\n",
            "Ep  267 score 288.95 avg score 156.63 epsilon 0.01\n",
            "Ep  268 score 286.11 avg score 164.53 epsilon 0.01\n",
            "Ep  269 score 281.63 avg score 165.20 epsilon 0.01\n",
            "Ep  270 score 228.58 avg score 168.48 epsilon 0.01\n",
            "Ep  271 score 260.92 avg score 168.76 epsilon 0.01\n",
            "Ep  272 score 280.81 avg score 169.28 epsilon 0.01\n",
            "Ep  273 score 255.15 avg score 173.65 epsilon 0.01\n",
            "Ep  274 score 255.85 avg score 173.96 epsilon 0.01\n",
            "Ep  275 score 263.29 avg score 177.85 epsilon 0.01\n",
            "Ep  276 score 248.50 avg score 182.50 epsilon 0.01\n",
            "Ep  277 score 280.70 avg score 182.55 epsilon 0.01\n",
            "Ep  278 score -130.50 avg score 178.88 epsilon 0.01\n",
            "Ep  279 score 214.75 avg score 178.78 epsilon 0.01\n",
            "Ep  280 score 239.16 avg score 179.04 epsilon 0.01\n",
            "Ep  281 score 261.05 avg score 178.62 epsilon 0.01\n",
            "Ep  282 score 272.84 avg score 181.72 epsilon 0.01\n",
            "Ep  283 score 255.15 avg score 181.96 epsilon 0.01\n",
            "Ep  284 score 236.55 avg score 187.95 epsilon 0.01\n",
            "Ep  285 score 237.09 avg score 187.95 epsilon 0.01\n",
            "Ep  286 score 290.33 avg score 191.90 epsilon 0.01\n",
            "Ep  287 score -209.77 avg score 187.51 epsilon 0.01\n",
            "Ep  288 score 263.57 avg score 187.44 epsilon 0.01\n",
            "Ep  289 score -97.61 avg score 184.20 epsilon 0.01\n",
            "Ep  290 score 271.35 avg score 187.24 epsilon 0.01\n",
            "Ep  291 score -108.25 avg score 183.72 epsilon 0.01\n",
            "Ep  292 score -100.00 avg score 185.53 epsilon 0.01\n",
            "Ep  293 score -136.95 avg score 181.90 epsilon 0.01\n",
            "Ep  294 score 267.78 avg score 181.78 epsilon 0.01\n",
            "Ep  295 score 227.43 avg score 182.88 epsilon 0.01\n",
            "Ep  296 score -81.28 avg score 179.28 epsilon 0.01\n",
            "Ep  297 score 227.00 avg score 180.64 epsilon 0.01\n",
            "Ep  298 score -99.95 avg score 176.98 epsilon 0.01\n",
            "Ep  299 score -144.28 avg score 173.10 epsilon 0.01\n",
            "Ep  300 score -20.84 avg score 170.18 epsilon 0.01\n",
            "Ep  301 score -123.76 avg score 166.22 epsilon 0.01\n",
            "Ep  302 score -99.60 avg score 162.80 epsilon 0.01\n",
            "Ep  303 score -144.50 avg score 164.09 epsilon 0.01\n",
            "Ep  304 score -62.92 avg score 160.56 epsilon 0.01\n",
            "Ep  305 score 198.22 avg score 159.54 epsilon 0.01\n",
            "Ep  306 score 0.29 avg score 156.38 epsilon 0.01\n",
            "Ep  307 score -301.50 avg score 150.95 epsilon 0.01\n",
            "Ep  308 score -308.70 avg score 145.51 epsilon 0.01\n",
            "Ep  309 score -9.35 avg score 147.42 epsilon 0.01\n",
            "Ep  310 score 133.66 avg score 146.30 epsilon 0.01\n",
            "Ep  311 score 230.43 avg score 149.60 epsilon 0.01\n",
            "Ep  312 score -8.85 avg score 149.34 epsilon 0.01\n",
            "Ep  313 score -119.86 avg score 145.42 epsilon 0.01\n",
            "Ep  314 score 1.24 avg score 142.74 epsilon 0.01\n",
            "Ep  315 score 248.58 avg score 142.74 epsilon 0.01\n",
            "Ep  316 score 279.00 avg score 142.76 epsilon 0.01\n",
            "Ep  317 score 273.08 avg score 143.18 epsilon 0.01\n",
            "Ep  318 score 274.54 avg score 143.14 epsilon 0.01\n",
            "Ep  319 score 253.72 avg score 143.02 epsilon 0.01\n",
            "Ep  320 score 257.62 avg score 143.71 epsilon 0.01\n",
            "Ep  321 score 271.96 avg score 144.15 epsilon 0.01\n",
            "Ep  322 score 275.46 avg score 145.11 epsilon 0.01\n",
            "Ep  323 score 270.49 avg score 148.31 epsilon 0.01\n",
            "Ep  324 score 183.12 avg score 148.73 epsilon 0.01\n",
            "Ep  325 score 265.27 avg score 151.80 epsilon 0.01\n",
            "Ep  326 score 275.33 avg score 154.52 epsilon 0.01\n",
            "Ep  327 score 272.80 avg score 157.33 epsilon 0.01\n",
            "Ep  328 score 250.09 avg score 160.82 epsilon 0.01\n",
            "Ep  329 score 241.53 avg score 160.71 epsilon 0.01\n",
            "Ep  330 score -64.49 avg score 157.73 epsilon 0.01\n",
            "Ep  331 score 197.95 avg score 159.55 epsilon 0.01\n",
            "Ep  332 score 274.16 avg score 159.92 epsilon 0.01\n",
            "Ep  333 score 229.92 avg score 160.02 epsilon 0.01\n",
            "Ep  334 score 288.79 avg score 160.17 epsilon 0.01\n",
            "Ep  335 score 285.78 avg score 163.84 epsilon 0.01\n",
            "Ep  336 score 259.64 avg score 167.94 epsilon 0.01\n",
            "Ep  337 score -5.33 avg score 166.11 epsilon 0.01\n",
            "Ep  338 score -271.73 avg score 160.36 epsilon 0.01\n",
            "Ep  339 score 295.95 avg score 160.91 epsilon 0.01\n",
            "Ep  340 score 15.72 avg score 158.64 epsilon 0.01\n",
            "Ep  341 score 252.86 avg score 159.29 epsilon 0.01\n",
            "Ep  342 score 240.65 avg score 160.60 epsilon 0.01\n",
            "Ep  343 score 60.07 avg score 158.85 epsilon 0.01\n",
            "Ep  344 score 218.32 avg score 161.25 epsilon 0.01\n",
            "Ep  345 score 18.38 avg score 158.57 epsilon 0.01\n",
            "Ep  346 score 43.12 avg score 156.32 epsilon 0.01\n",
            "Ep  347 score -82.48 avg score 152.92 epsilon 0.01\n",
            "Ep  348 score -117.83 avg score 148.67 epsilon 0.01\n",
            "Ep  349 score 255.38 avg score 148.49 epsilon 0.01\n",
            "Ep  350 score -79.92 avg score 144.99 epsilon 0.01\n",
            "Ep  351 score -2.12 avg score 142.32 epsilon 0.01\n",
            "Ep  352 score -69.70 avg score 138.89 epsilon 0.01\n",
            "Ep  353 score -19.74 avg score 136.12 epsilon 0.01\n",
            "Ep  354 score 25.46 avg score 133.93 epsilon 0.01\n",
            "Ep  355 score -47.55 avg score 131.00 epsilon 0.01\n",
            "Ep  356 score 274.26 avg score 131.12 epsilon 0.01\n",
            "Ep  357 score 24.98 avg score 128.54 epsilon 0.01\n",
            "Ep  358 score 266.16 avg score 128.63 epsilon 0.01\n",
            "Ep  359 score -34.30 avg score 125.75 epsilon 0.01\n",
            "Ep  360 score 1.24 avg score 125.78 epsilon 0.01\n",
            "Ep  361 score 251.80 avg score 125.27 epsilon 0.01\n",
            "Ep  362 score 245.51 avg score 125.06 epsilon 0.01\n",
            "Ep  363 score 183.86 avg score 124.05 epsilon 0.01\n",
            "Ep  364 score -30.89 avg score 121.08 epsilon 0.01\n",
            "Ep  365 score -63.49 avg score 117.87 epsilon 0.01\n",
            "Ep  366 score -73.31 avg score 117.53 epsilon 0.01\n",
            "Ep  367 score 10.02 avg score 114.85 epsilon 0.01\n",
            "Ep  368 score -173.64 avg score 110.27 epsilon 0.01\n",
            "Ep  369 score 159.99 avg score 109.02 epsilon 0.01\n",
            "Ep  370 score 169.77 avg score 107.91 epsilon 0.01\n",
            "Ep  371 score 214.94 avg score 107.78 epsilon 0.01\n",
            "Ep  372 score 217.78 avg score 107.35 epsilon 0.01\n",
            "Ep  373 score 213.98 avg score 106.69 epsilon 0.01\n",
            "Ep  374 score -90.54 avg score 103.26 epsilon 0.01\n",
            "Ep  375 score 269.18 avg score 103.40 epsilon 0.01\n",
            "Ep  376 score -100.53 avg score 99.79 epsilon 0.01\n",
            "Ep  377 score -116.00 avg score 96.19 epsilon 0.01\n",
            "Ep  378 score -49.13 avg score 92.92 epsilon 0.01\n",
            "Ep  379 score 228.96 avg score 96.48 epsilon 0.01\n",
            "Ep  380 score 280.70 avg score 97.13 epsilon 0.01\n",
            "Ep  381 score 258.23 avg score 97.32 epsilon 0.01\n",
            "Ep  382 score 224.39 avg score 96.96 epsilon 0.01\n",
            "Ep  383 score 280.09 avg score 97.03 epsilon 0.01\n",
            "Ep  384 score 272.19 avg score 97.20 epsilon 0.01\n",
            "Ep  385 score 186.26 avg score 96.70 epsilon 0.01\n",
            "Ep  386 score 226.92 avg score 96.60 epsilon 0.01\n",
            "Ep  387 score 266.63 avg score 96.37 epsilon 0.01\n",
            "Ep  388 score 245.08 avg score 100.87 epsilon 0.01\n",
            "Ep  389 score 278.52 avg score 101.02 epsilon 0.01\n",
            "Ep  390 score 264.65 avg score 104.60 epsilon 0.01\n",
            "Ep  391 score 277.63 avg score 104.67 epsilon 0.01\n",
            "Ep  392 score 258.37 avg score 108.30 epsilon 0.01\n",
            "Ep  393 score 271.85 avg score 111.98 epsilon 0.01\n",
            "Ep  394 score 267.83 avg score 115.98 epsilon 0.01\n",
            "Ep  395 score 249.43 avg score 115.80 epsilon 0.01\n",
            "Ep  396 score 244.95 avg score 115.98 epsilon 0.01\n",
            "Ep  397 score 223.49 avg score 118.99 epsilon 0.01\n",
            "Ep  398 score 219.22 avg score 118.92 epsilon 0.01\n",
            "Ep  399 score 243.36 avg score 122.32 epsilon 0.01\n",
            "Ep  400 score -159.56 avg score 122.16 epsilon 0.01\n"
          ]
        }
      ],
      "source": [
        "from torch.utils.tensorboard import SummaryWriter\n",
        "agent=Agent(gamma=0.99,epsilon=1.0,alpha=0.001,input_dims=8,n_actions=4,batch_size=128,epsilon_end=0.01)\n",
        "#agent scores\n",
        "scores,eps_hist=[],[] #ontaining scores from each episode/epsiolon\n",
        "# scores_window =[] #every 100 epsiode\n",
        "episode=400\n",
        "for i in range(episode):\n",
        "    score=0\n",
        "    terminate=False\n",
        "    observation=env.reset()\n",
        "    while not terminate:\n",
        "        action=agent.choose_action(observation)\n",
        "        observation_,reward,terminate,info=env.step(action)\n",
        "        score+= reward\n",
        "        agent.remember(observation,action,reward,observation_,terminate)\n",
        "        observation=observation_\n",
        "        agent.learn()\n",
        "    scores.append(score)\n",
        "    eps_hist.append(agent.epsilon)\n",
        "    avg=np.mean(scores[max(0,i-100):(i+1)])#last 100 games\n",
        "    print('Ep ',i+1, 'score %.2f'%score,'avg score %.2f'%avg,'epsilon %.2f'%agent.epsilon)\n",
        "    # if i%10==0 and i>0:\n",
        "    #     agent.save_model(i)\n",
        "    # writer_score.add_image\n",
        "    # if i % 100 == 0:\n",
        "    #     print('\\rEpisode {}\\tAverage Score: {:.2f}'.format(i, np.mean(scores_window)))\n",
        "    # if np.mean(scores_window)>=200.0:\n",
        "    #     print('\\nEnvironment solved in {:d} episodes!\\tAverage Score: {:.2f}'.format(i-100, np.mean(scores_window)))\n",
        "x=[i+1 for i in range(episode)]\n",
        "env.close()"
      ]
    },
    {
      "attachments": {},
      "cell_type": "markdown",
      "metadata": {},
      "source": [
        "<h2>Moving Average"
      ]
    },
    {
      "cell_type": "code",
      "execution_count": 47,
      "metadata": {
        "colab": {
          "base_uri": "https://localhost:8080/",
          "height": 279
        },
        "id": "igDsJGLUncUB",
        "outputId": "570f9c4d-e185-4f38-827b-3bbb9668c939"
      },
      "outputs": [
        {
          "data": {
            "image/png": "[encoded data removed]",
            "text/plain": [
              "<Figure size 432x288 with 1 Axes>"
            ]
          },
          "metadata": {
            "needs_background": "light"
          },
          "output_type": "display_data"
        }
      ],
      "source": [
        "def moving_average(a, n=100) : #calculating the average of a certain number of data points over a fixed period of time.\n",
        "    #average of a certain number of consecutive data points, and then sliding the window of data points over the entire dataset, \n",
        "    #updating the average as the window moves. \n",
        "    ret = np.cumsum(a, dtype=float)\n",
        "    ret[n:] = ret[n:] - ret[:-n]\n",
        "    return ret[n - 1:] / n\n",
        "def plot_scores(scores):\n",
        "    scores_ma=moving_average(scores,n=100)\n",
        "    plt.plot(np.arange(len(scores_ma)), scores_ma)\n",
        "    plt.ylabel('Score')\n",
        "    plt.xlabel('Episode')\n",
        "    plt.show()\n",
        "    \n",
        "plot_scores(scores)"
      ]
    },
    {
      "attachments": {},
      "cell_type": "markdown",
      "metadata": {},
      "source": [
        "<h2>Total rewards over episodes"
      ]
    },
    {
      "cell_type": "code",
      "execution_count": 48,
      "metadata": {
        "colab": {
          "base_uri": "https://localhost:8080/",
          "height": 282
        },
        "id": "_deb3mcWncUC",
        "outputId": "e94fd035-d82b-473d-aab9-f5c612639a7e"
      },
      "outputs": [
        {
          "data": {
            "text/plain": [
              "[<matplotlib.lines.Line2D at 0x7f6c982edb20>]"
            ]
          },
          "execution_count": 48,
          "metadata": {},
          "output_type": "execute_result"
        },
        {
          "data": {
            "image/png": "[encoded data removed]",
            "text/plain": [
              "<Figure size 432x288 with 1 Axes>"
            ]
          },
          "metadata": {
            "needs_background": "light"
          },
          "output_type": "display_data"
        }
      ],
      "source": [
        "plt.plot(x,scores)"
      ]
    },
    {
      "cell_type": "code",
      "execution_count": 48,
      "metadata": {
        "id": "Cd4lQOzaETcC"
      },
      "outputs": [],
      "source": []
    }
  ],
  "metadata": {
    "accelerator": "GPU",
    "colab": {
      "provenance": []
    },
    "gpuClass": "standard",
    "kernelspec": {
      "display_name": "tf-gpu",
      "language": "python",
      "name": "python3"
    },
    "language_info": {
      "codemirror_mode": {
        "name": "ipython",
        "version": 3
      },
      "file_extension": ".py",
      "mimetype": "text/x-python",
      "name": "python",
      "nbconvert_exporter": "python",
      "pygments_lexer": "ipython3",
      "version": "3.9.13"
    },
    "vscode": {
      "interpreter": {
        "hash": "222ffca9ce43879094c17e6b40bc3545027533de975f61fa4f3cf9869f4e486e"
      }
    }
  },
  "nbformat": 4,
  "nbformat_minor": 0
}
