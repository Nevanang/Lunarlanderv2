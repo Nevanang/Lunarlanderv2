{
  "cells": [
    {
      "attachments": {},
      "cell_type": "markdown",
      "metadata": {},
      "source": [
        "<h1>Nevan Ang Kai Wen\n",
        "<h1>P2122867\n",
        "<h1>Khor Yu Yang\n",
        "<h1>P2123590\n",
        "<h1>DAAA/FT/2B/01"
      ]
    },
    {
      "cell_type": "markdown",
      "metadata": {
        "id": "3TW1gUXBEEv9"
      },
      "source": [
        "References used"
      ]
    },
    {
      "cell_type": "markdown",
      "metadata": {
        "id": "O4G9U8sBEHdd"
      },
      "source": [
        "\n",
        "https://www.youtube.com/watch?v=SMZfgeHFFcA\n"
      ]
    },
    {
      "cell_type": "markdown",
      "metadata": {
        "id": "sRWydhHA6T2v"
      },
      "source": [
        "https://www.youtube.com/watch?v=5fHngyN8Qhw&t=1727s"
      ]
    },
    {
      "cell_type": "code",
      "execution_count": 1,
      "metadata": {
        "id": "04LsYY8QncT7"
      },
      "outputs": [],
      "source": [
        "from keras.optimizers import Adam\n",
        "import numpy as np\n",
        "from keras.layers import Dense,Activation\n",
        "from keras.models import Sequential,load_model\n",
        "import datetime\n",
        "import gym\n",
        "import matplotlib.pyplot as plt\n",
        "import tensorflow as tf"
      ]
    },
    {
      "cell_type": "code",
      "execution_count": 2,
      "metadata": {
        "id": "Lh7vrzEHD-WT"
      },
      "outputs": [],
      "source": [
        "import os\n",
        "os.environ['TF_CPP_MIN_LOG_LEVEL'] = '3'"
      ]
    },
    {
      "cell_type": "code",
      "execution_count": 3,
      "metadata": {
        "id": "WmOk_8arT8Ih"
      },
      "outputs": [],
      "source": [
        "tf.compat.v1.disable_eager_execution()"
      ]
    },
    {
      "cell_type": "markdown",
      "metadata": {
        "id": "Yel41NOpncT9"
      },
      "source": [
        "<h2>Replay Buffer"
      ]
    },
    {
      "cell_type": "markdown",
      "metadata": {
        "id": "Ewjo-YorncT-"
      },
      "source": [
        "Storage of state,action,reward,state transition,tuples and done(terminal)"
      ]
    },
    {
      "cell_type": "markdown",
      "metadata": {
        "id": "hhLJ9YvYncT-"
      },
      "source": [
        "So that agent can use transitions to learn about parameter space of problem"
      ]
    },
    {
      "cell_type": "code",
      "execution_count": 5,
      "metadata": {
        "id": "HrZSDR2qncT-"
      },
      "outputs": [],
      "source": [
        "class ReplayBuffer():\n",
        "    def __init__(self,max_size,input_shape,n_actions,discrete=True):\n",
        "        self.mem_size=max_size\n",
        "        self.mem_cntr=0\n",
        "        self.discrete=discrete #if dealt with discrete action space, we want to store them as vector\n",
        "        self.state_mem=np.zeros((self.mem_size,input_shape))\n",
        "        #to store new states of environment\n",
        "        self.new_state_mem=np.zeros((self.mem_size,input_shape)) #track new states after each new action\n",
        "        dtype=np.int8 if discrete else np.float32 #discrete or continuous\n",
        "        self.action_mem=np.zeros((self.mem_size,n_actions),dtype=dtype)\n",
        "        self.reward_mem=np.zeros(self.mem_size)\n",
        "        self.terminal_mem=np.zeros(self.mem_size,dtype=np.float32) #determine whether episode is done, dont take in reward of next state\n",
        "    #learn from its experiences by storing in info about its interactions\n",
        "    def store_transition(self,state,action,reward,state_,terminal):\n",
        "        index=self.mem_cntr %self.mem_size #from 0 to 1m size of memory, to replace exisiting when it hits 1m \n",
        "        self.state_mem[index]=state\n",
        "        self.new_state_mem[index]=state_\n",
        "        self.reward_mem[index]=reward\n",
        "        self.terminal_mem[index]=1-int(terminal)# 1- true or 0\n",
        "        if self.discrete: #one hot encoded actions\n",
        "            actions=np.zeros(self.action_mem.shape[1])\n",
        "            actions[action]=1.0\n",
        "            self.action_mem[index]=actions\n",
        "        else:\n",
        "            self.action_mem[index]=action\n",
        "        self.mem_cntr+=1\n",
        "        \n",
        "    def sample_memory(self,batch_size): # subset of memsize\n",
        "        max_mem=min(self.mem_cntr,self.mem_size)#only sample from existing \n",
        "        batch=np.random.choice(max_mem,batch_size)\n",
        "        states=self.state_mem[batch]\n",
        "        states_=self.new_state_mem[batch]\n",
        "        rewards=self.reward_mem[batch]\n",
        "        actions=self.action_mem[batch]\n",
        "        terminal=self.terminal_mem[batch]\n",
        "        return states,actions, rewards,states_,terminal\n"
      ]
    },
    {
      "cell_type": "code",
      "execution_count": 6,
      "metadata": {
        "id": "s853_KcGncT_"
      },
      "outputs": [],
      "source": [
        "def dqn(lr,n_actions,input_dim,fc1,fc2):\n",
        "    model=Sequential([\n",
        "        Dense(fc1,input_shape=(input_dim,)),#pass batch or single memory\n",
        "        Activation('relu'),\n",
        "        Dense(fc2),\n",
        "        Activation('relu'),\n",
        "        Dense(n_actions)\n",
        "    ])\n",
        "    model.compile(optimizer=Adam(lr=lr),loss='mse')\n",
        "    return model\n"
      ]
    },
    {
      "cell_type": "markdown",
      "metadata": {
        "id": "RPloZGmA6_HR"
      },
      "source": [
        "<h2>Agent W/ Target Network"
      ]
    },
    {
      "attachments": {},
      "cell_type": "markdown",
      "metadata": {},
      "source": [
        "Where the model is run, experience stored,action chosen, generate experience and learn and to save or load models"
      ]
    },
    {
      "cell_type": "markdown",
      "metadata": {
        "id": "LaHUeiuMncUA"
      },
      "source": [
        "gamma-discount factor for future rewards\n"
      ]
    },
    {
      "cell_type": "markdown",
      "metadata": {
        "id": "E7zV7TBbncUA"
      },
      "source": [
        "epsilon-random factor for epsilon greedy"
      ]
    },
    {
      "cell_type": "code",
      "execution_count": 7,
      "metadata": {
        "id": "Qp55RYCp7BAB"
      },
      "outputs": [],
      "source": [
        "class Agent():\n",
        "    def __init__(self,alpha,gamma,n_actions,epsilon,batch_size,input_dims,epsilon_dec=0.996,epsilon_end=0.01,mem_size=1_000_000,fname='best_2_5_dqn_model.h5',replace=200):\n",
        "        self.action_space=[i for i in range(n_actions)] # for randm action\n",
        "        self.gamma=gamma\n",
        "        self.epsilon=epsilon\n",
        "        self.ep_dec=epsilon_dec\n",
        "        self.eps_min=epsilon_end\n",
        "        self.batch_size=batch_size\n",
        "        self.model_file=fname\n",
        "        self.step_counter=0\n",
        "        self.update_rate=replace\n",
        "        self.memory=ReplayBuffer(mem_size,input_dims,n_actions,discrete=True)\n",
        "        self.Q_eval=dqn(alpha,n_actions,input_dims,150,130)\n",
        "        self.Q_targetnet=dqn(alpha,n_actions,input_dims,150,130)\n",
        "    #interfacing w/ memory to save new state transitions\n",
        "    def remember(self,state,action,reward,new_state,terminal):\n",
        "        self.memory.store_transition(state,action,reward,new_state,terminal)\n",
        "\n",
        "    #epsilon greedy strategy\n",
        "    def choose_action(self,state): #shaped input dims\n",
        "        #reshape\n",
        "        state=state[np.newaxis,:]\n",
        "        rand=np.random.random()\n",
        "        if rand<self.epsilon: #exploration\n",
        "            action=np.random.choice(self.action_space)\n",
        "        else:\n",
        "            actions=self.Q_eval.predict(state,verbose=0)\n",
        "            action=np.argmax(actions)#pass state through the network,get value of all actions and get max highest value\n",
        "        return action\n",
        "\n",
        "        ###Sample Memory,\n",
        "        #Calculate value of current and next state\n",
        "        #Update q_target based on next state as target for loss function of q_eval\n",
        "    def learn(self):\n",
        "        #Temporal difference learning method: learning every step, fill memory with random until batchsize\n",
        "        if self.memory.mem_cntr<self.batch_size:\n",
        "            return\n",
        "        if self.step_counter % self.update_rate == 0:\n",
        "            self.Q_targetnet.set_weights(self.Q_eval.get_weights())\n",
        "        state,action,reward,new_state,terminal= self.memory.sample_memory(self.batch_size) #gives sample in shape batch_size\n",
        "        action_values=np.array(self.action_space,dtype=np.int8)\n",
        "        action_indices=np.dot(action,action_values) #from one hot to normal integer\n",
        "        Q_eval=self.Q_eval.predict(state,verbose=0) #feed state through model to calculate current and next state \n",
        "        Q_next=self.Q_targetnet.predict(new_state,verbose=0)\n",
        "        q_target=Q_eval.copy()\n",
        "        #q-target in bellman equation\n",
        "        #Address all states in particular batch, not normal array slicing because Shape(batchsize,batchsize) gives u wrong answer \n",
        "        batch_index=np.arange(self.batch_size,dtype=np.int32)\n",
        "        q_target[batch_index,action_indices]= reward+self.gamma*np.max(Q_next,axis=1)*terminal #what q target shoots for\n",
        "        #best possible reward received in next state \n",
        "        #0 to batchsize-1,action taken\n",
        "        self.Q_eval.train_on_batch(state,q_target)#pass batch to network, compare to q target and \n",
        "        self.epsilon=self.epsilon*self.ep_dec if self.epsilon > self.eps_min else self.eps_min\n",
        "        self.step_counter += 1\n",
        "    def save_model(self,i):\n",
        "        self.Q_eval.save(f'ep{i}_{self.model_file}')\n",
        "    def load_model(self,name):\n",
        "        self.Q_eval=load_model(name)\n",
        "        "
      ]
    },
    {
      "cell_type": "code",
      "execution_count": null,
      "metadata": {
        "colab": {
          "base_uri": "https://localhost:8080/"
        },
        "id": "mW2yPinYncUB",
        "outputId": "ef75abb5-dd6e-4944-e31d-4f245a9ad1fe"
      },
      "outputs": [
        {
          "name": "stdout",
          "output_type": "stream",
          "text": [
            "State shape:  (8,)\n",
            "Number of actions:  4\n"
          ]
        },
        {
          "name": "stderr",
          "output_type": "stream",
          "text": [
            "/usr/local/lib/python3.8/dist-packages/gym/core.py:317: DeprecationWarning: \u001b[33mWARN: Initializing wrapper in old step API which returns one bool instead of two. It is recommended to set `new_step_api=True` to use new step API. This will be the default behaviour in future.\u001b[0m\n",
            "  deprecation(\n",
            "/usr/local/lib/python3.8/dist-packages/gym/wrappers/step_api_compatibility.py:39: DeprecationWarning: \u001b[33mWARN: Initializing environment in old step API which returns one bool instead of two. It is recommended to set `new_step_api=True` to use new step API. This will be the default behaviour in future.\u001b[0m\n",
            "  deprecation(\n"
          ]
        }
      ],
      "source": [
        "env=gym.make(\"LunarLander-v2\")\n",
        "print('State shape: ', env.observation_space.shape)\n",
        "print('Number of actions: ', env.action_space.n)"
      ]
    },
    {
      "cell_type": "markdown",
      "metadata": {
        "id": "iuo-I1Md536M"
      },
      "source": [
        "<h2>Training with 400 Episodes"
      ]
    },
    {
      "cell_type": "code",
      "execution_count": null,
      "metadata": {
        "colab": {
          "base_uri": "https://localhost:8080/"
        },
        "id": "9LzoBmLUncUB",
        "outputId": "f01319bc-7d7b-474c-e80f-e82d240e8cf7"
      },
      "outputs": [
        {
          "name": "stderr",
          "output_type": "stream",
          "text": [
            "/usr/local/lib/python3.8/dist-packages/keras/optimizers/optimizer_v2/adam.py:110: UserWarning: The `lr` argument is deprecated, use `learning_rate` instead.\n",
            "  super(Adam, self).__init__(name, **kwargs)\n"
          ]
        },
        {
          "name": "stdout",
          "output_type": "stream",
          "text": [
            "Ep  1 score -202.70 avg score -202.70 epsilon 1.00\n"
          ]
        },
        {
          "name": "stderr",
          "output_type": "stream",
          "text": [
            "/usr/local/lib/python3.8/dist-packages/keras/engine/training_v1.py:2067: UserWarning: `Model.state_updates` will be removed in a future version. This property should not be used in TensorFlow 2.0, as `updates` are applied automatically.\n",
            "  updates=self.state_updates,\n"
          ]
        },
        {
          "name": "stdout",
          "output_type": "stream",
          "text": [
            "Ep  2 score -52.22 avg score -127.46 epsilon 0.76\n",
            "Ep  3 score -85.19 avg score -113.37 epsilon 0.52\n",
            "Ep  4 score 229.16 avg score -27.74 epsilon 0.03\n",
            "Ep  5 score -687.88 avg score -159.77 epsilon 0.02\n",
            "Ep  6 score -366.77 avg score -194.27 epsilon 0.01\n",
            "Ep  7 score -67.97 avg score -176.23 epsilon 0.01\n",
            "Ep  8 score -389.43 avg score -202.88 epsilon 0.01\n",
            "Ep  9 score -132.91 avg score -195.10 epsilon 0.01\n",
            "Ep  10 score -528.12 avg score -228.40 epsilon 0.01\n",
            "Ep  11 score -261.90 avg score -231.45 epsilon 0.01\n",
            "Ep  12 score -214.19 avg score -230.01 epsilon 0.01\n",
            "Ep  13 score -315.86 avg score -236.61 epsilon 0.01\n",
            "Ep  14 score -380.86 avg score -246.92 epsilon 0.01\n",
            "Ep  15 score -294.46 avg score -250.09 epsilon 0.01\n",
            "Ep  16 score -13.92 avg score -235.33 epsilon 0.01\n",
            "Ep  17 score -252.32 avg score -236.33 epsilon 0.01\n",
            "Ep  18 score -132.78 avg score -230.57 epsilon 0.01\n",
            "Ep  19 score -175.74 avg score -227.69 epsilon 0.01\n",
            "Ep  20 score -166.84 avg score -224.65 epsilon 0.01\n",
            "Ep  21 score -159.32 avg score -221.53 epsilon 0.01\n",
            "Ep  22 score -21.18 avg score -212.43 epsilon 0.01\n",
            "Ep  23 score 29.36 avg score -201.92 epsilon 0.01\n",
            "Ep  24 score -30.72 avg score -194.78 epsilon 0.01\n",
            "Ep  25 score -85.52 avg score -190.41 epsilon 0.01\n",
            "Ep  26 score -67.41 avg score -185.68 epsilon 0.01\n",
            "Ep  27 score -19.26 avg score -179.52 epsilon 0.01\n",
            "Ep  28 score -24.98 avg score -174.00 epsilon 0.01\n",
            "Ep  29 score -220.57 avg score -175.60 epsilon 0.01\n",
            "Ep  30 score -189.42 avg score -176.06 epsilon 0.01\n",
            "Ep  31 score -0.72 avg score -170.41 epsilon 0.01\n",
            "Ep  32 score -201.94 avg score -171.39 epsilon 0.01\n",
            "Ep  33 score 71.63 avg score -164.03 epsilon 0.01\n",
            "Ep  34 score -180.26 avg score -164.51 epsilon 0.01\n",
            "Ep  35 score -47.23 avg score -161.16 epsilon 0.01\n",
            "Ep  36 score 28.64 avg score -155.88 epsilon 0.01\n",
            "Ep  37 score -19.69 avg score -152.20 epsilon 0.01\n",
            "Ep  38 score -50.33 avg score -149.52 epsilon 0.01\n",
            "Ep  39 score -294.75 avg score -153.25 epsilon 0.01\n",
            "Ep  40 score 6.45 avg score -149.25 epsilon 0.01\n",
            "Ep  41 score 248.18 avg score -139.56 epsilon 0.01\n",
            "Ep  42 score -132.97 avg score -139.40 epsilon 0.01\n",
            "Ep  43 score -19.10 avg score -136.61 epsilon 0.01\n",
            "Ep  44 score 118.68 avg score -130.80 epsilon 0.01\n",
            "Ep  45 score -72.98 avg score -129.52 epsilon 0.01\n",
            "Ep  46 score -291.00 avg score -133.03 epsilon 0.01\n",
            "Ep  47 score -207.34 avg score -134.61 epsilon 0.01\n",
            "Ep  48 score -56.27 avg score -132.98 epsilon 0.01\n",
            "Ep  49 score -114.87 avg score -132.61 epsilon 0.01\n",
            "Ep  50 score 15.26 avg score -129.65 epsilon 0.01\n",
            "Ep  51 score -200.79 avg score -131.05 epsilon 0.01\n",
            "Ep  52 score -84.75 avg score -130.16 epsilon 0.01\n",
            "Ep  53 score -128.91 avg score -130.13 epsilon 0.01\n",
            "Ep  54 score -314.87 avg score -133.55 epsilon 0.01\n",
            "Ep  55 score 3.57 avg score -131.06 epsilon 0.01\n",
            "Ep  56 score -363.84 avg score -135.22 epsilon 0.01\n",
            "Ep  57 score 187.72 avg score -129.55 epsilon 0.01\n",
            "Ep  58 score -66.13 avg score -128.46 epsilon 0.01\n",
            "Ep  59 score 198.93 avg score -122.91 epsilon 0.01\n",
            "Ep  60 score 205.34 avg score -117.44 epsilon 0.01\n",
            "Ep  61 score -117.54 avg score -117.44 epsilon 0.01\n",
            "Ep  62 score -395.45 avg score -121.92 epsilon 0.01\n",
            "Ep  63 score 235.22 avg score -116.25 epsilon 0.01\n",
            "Ep  64 score 221.26 avg score -110.98 epsilon 0.01\n",
            "Ep  65 score 187.85 avg score -106.38 epsilon 0.01\n",
            "Ep  66 score -55.89 avg score -105.62 epsilon 0.01\n",
            "Ep  67 score -57.87 avg score -104.91 epsilon 0.01\n",
            "Ep  68 score 189.58 avg score -100.58 epsilon 0.01\n",
            "Ep  69 score 205.74 avg score -96.14 epsilon 0.01\n",
            "Ep  70 score 230.92 avg score -91.46 epsilon 0.01\n",
            "Ep  71 score 243.16 avg score -86.75 epsilon 0.01\n",
            "Ep  72 score 270.90 avg score -81.78 epsilon 0.01\n",
            "Ep  73 score -537.46 avg score -88.03 epsilon 0.01\n",
            "Ep  74 score 151.30 avg score -84.79 epsilon 0.01\n",
            "Ep  75 score 199.32 avg score -81.00 epsilon 0.01\n",
            "Ep  76 score 244.27 avg score -76.72 epsilon 0.01\n",
            "Ep  77 score 214.17 avg score -72.95 epsilon 0.01\n",
            "Ep  78 score -134.89 avg score -73.74 epsilon 0.01\n",
            "Ep  79 score -224.45 avg score -75.65 epsilon 0.01\n",
            "Ep  80 score -45.17 avg score -75.27 epsilon 0.01\n",
            "Ep  81 score 286.50 avg score -70.80 epsilon 0.01\n",
            "Ep  82 score -196.37 avg score -72.33 epsilon 0.01\n",
            "Ep  83 score 67.11 avg score -70.65 epsilon 0.01\n",
            "Ep  84 score -127.10 avg score -71.32 epsilon 0.01\n",
            "Ep  85 score -23.50 avg score -70.76 epsilon 0.01\n",
            "Ep  86 score 249.39 avg score -67.04 epsilon 0.01\n",
            "Ep  87 score 19.73 avg score -66.04 epsilon 0.01\n",
            "Ep  88 score 297.39 avg score -61.91 epsilon 0.01\n",
            "Ep  89 score 227.64 avg score -58.66 epsilon 0.01\n",
            "Ep  90 score 241.73 avg score -55.32 epsilon 0.01\n",
            "Ep  91 score -13.57 avg score -54.86 epsilon 0.01\n",
            "Ep  92 score 247.75 avg score -51.57 epsilon 0.01\n",
            "Ep  93 score 293.07 avg score -47.87 epsilon 0.01\n",
            "Ep  94 score 245.84 avg score -44.74 epsilon 0.01\n",
            "Ep  95 score 268.28 avg score -41.45 epsilon 0.01\n",
            "Ep  96 score 240.60 avg score -38.51 epsilon 0.01\n",
            "Ep  97 score 153.23 avg score -36.53 epsilon 0.01\n",
            "Ep  98 score 199.49 avg score -34.12 epsilon 0.01\n",
            "Ep  99 score 266.28 avg score -31.09 epsilon 0.01\n",
            "Ep  100 score -214.10 avg score -32.92 epsilon 0.01\n",
            "Ep  101 score -169.58 avg score -34.27 epsilon 0.01\n",
            "Ep  102 score -13.14 avg score -32.40 epsilon 0.01\n",
            "Ep  103 score -153.85 avg score -33.40 epsilon 0.01\n",
            "Ep  104 score 231.06 avg score -30.27 epsilon 0.01\n",
            "Ep  105 score 219.38 avg score -30.37 epsilon 0.01\n",
            "Ep  106 score -201.91 avg score -25.56 epsilon 0.01\n",
            "Ep  107 score 199.93 avg score -19.94 epsilon 0.01\n",
            "Ep  108 score -32.63 avg score -19.59 epsilon 0.01\n",
            "Ep  109 score 215.94 avg score -13.60 epsilon 0.01\n",
            "Ep  110 score 223.90 avg score -10.07 epsilon 0.01\n",
            "Ep  111 score 281.88 avg score -2.05 epsilon 0.01\n",
            "Ep  112 score 70.34 avg score 1.24 epsilon 0.01\n",
            "Ep  113 score 286.57 avg score 6.20 epsilon 0.01\n",
            "Ep  114 score -236.64 avg score 6.98 epsilon 0.01\n",
            "Ep  115 score -63.82 avg score 10.12 epsilon 0.01\n",
            "Ep  116 score 271.25 avg score 15.72 epsilon 0.01\n",
            "Ep  117 score -126.14 avg score 14.61 epsilon 0.01\n",
            "Ep  118 score 242.83 avg score 19.52 epsilon 0.01\n",
            "Ep  119 score 268.12 avg score 23.48 epsilon 0.01\n",
            "Ep  120 score 243.02 avg score 27.63 epsilon 0.01\n",
            "Ep  121 score 255.12 avg score 31.81 epsilon 0.01\n",
            "Ep  122 score -76.91 avg score 32.62 epsilon 0.01\n",
            "Ep  123 score -44.81 avg score 32.39 epsilon 0.01\n",
            "Ep  124 score 241.31 avg score 34.49 epsilon 0.01\n",
            "Ep  125 score 240.13 avg score 37.17 epsilon 0.01\n",
            "Ep  126 score 198.45 avg score 39.98 epsilon 0.01\n",
            "Ep  127 score 238.92 avg score 43.01 epsilon 0.01\n",
            "Ep  128 score 269.79 avg score 45.88 epsilon 0.01\n",
            "Ep  129 score -144.36 avg score 44.69 epsilon 0.01\n",
            "Ep  130 score 218.91 avg score 49.05 epsilon 0.01\n",
            "Ep  131 score 214.18 avg score 53.04 epsilon 0.01\n",
            "Ep  132 score -131.28 avg score 51.75 epsilon 0.01\n",
            "Ep  133 score -518.71 avg score 48.61 epsilon 0.01\n",
            "Ep  134 score 278.03 avg score 50.66 epsilon 0.01\n",
            "Ep  135 score -10.74 avg score 52.34 epsilon 0.01\n",
            "Ep  136 score 234.20 avg score 55.12 epsilon 0.01\n",
            "Ep  137 score 268.05 avg score 57.49 epsilon 0.01\n",
            "Ep  138 score 258.40 avg score 60.25 epsilon 0.01\n",
            "Ep  139 score -45.74 avg score 60.29 epsilon 0.01\n",
            "Ep  140 score 205.20 avg score 65.24 epsilon 0.01\n",
            "Ep  141 score 24.82 avg score 65.42 epsilon 0.01\n",
            "Ep  142 score -615.48 avg score 56.87 epsilon 0.01\n",
            "Ep  143 score 216.11 avg score 60.33 epsilon 0.01\n",
            "Ep  144 score 258.91 avg score 63.08 epsilon 0.01\n",
            "Ep  145 score -214.41 avg score 59.78 epsilon 0.01\n",
            "Ep  146 score 240.47 avg score 62.89 epsilon 0.01\n",
            "Ep  147 score 238.01 avg score 68.12 epsilon 0.01\n",
            "Ep  148 score 186.02 avg score 72.02 epsilon 0.01\n",
            "Ep  149 score 204.40 avg score 74.60 epsilon 0.01\n",
            "Ep  150 score 205.14 avg score 77.77 epsilon 0.01\n",
            "Ep  151 score 207.55 avg score 79.67 epsilon 0.01\n",
            "Ep  152 score 248.60 avg score 84.12 epsilon 0.01\n",
            "Ep  153 score 251.15 avg score 87.45 epsilon 0.01\n",
            "Ep  154 score 216.87 avg score 90.87 epsilon 0.01\n",
            "Ep  155 score 214.48 avg score 96.11 epsilon 0.01\n",
            "Ep  156 score 194.74 avg score 98.00 epsilon 0.01\n",
            "Ep  157 score 236.69 avg score 103.95 epsilon 0.01\n",
            "Ep  158 score 239.57 avg score 104.46 epsilon 0.01\n",
            "Ep  159 score 3.72 avg score 105.15 epsilon 0.01\n",
            "Ep  160 score -9.94 avg score 103.09 epsilon 0.01\n",
            "Ep  161 score 260.67 avg score 103.63 epsilon 0.01\n",
            "Ep  162 score 239.59 avg score 107.17 epsilon 0.01\n",
            "Ep  163 score 284.03 avg score 113.90 epsilon 0.01\n",
            "Ep  164 score 45.78 avg score 112.02 epsilon 0.01\n",
            "Ep  165 score -59.08 avg score 109.25 epsilon 0.01\n",
            "Ep  166 score -385.73 avg score 103.57 epsilon 0.01\n",
            "Ep  167 score 262.90 avg score 106.72 epsilon 0.01\n",
            "Ep  168 score 267.09 avg score 109.94 epsilon 0.01\n",
            "Ep  169 score 94.09 avg score 109.00 epsilon 0.01\n",
            "Ep  170 score -50.74 avg score 106.46 epsilon 0.01\n",
            "Ep  171 score 2.39 avg score 104.19 epsilon 0.01\n",
            "Ep  172 score -81.70 avg score 100.98 epsilon 0.01\n",
            "Ep  173 score 5.65 avg score 98.35 epsilon 0.01\n",
            "Ep  174 score -41.78 avg score 103.26 epsilon 0.01\n",
            "Ep  175 score 277.99 avg score 104.51 epsilon 0.01\n",
            "Ep  176 score 248.14 avg score 105.00 epsilon 0.01\n",
            "Ep  177 score 257.06 avg score 105.12 epsilon 0.01\n",
            "Ep  178 score -135.72 avg score 101.66 epsilon 0.01\n",
            "Ep  179 score 249.30 avg score 105.46 epsilon 0.01\n",
            "Ep  180 score -37.14 avg score 107.32 epsilon 0.01\n",
            "Ep  181 score -140.16 avg score 106.38 epsilon 0.01\n",
            "Ep  182 score 304.53 avg score 106.56 epsilon 0.01\n",
            "Ep  183 score 235.17 avg score 110.83 epsilon 0.01\n",
            "Ep  184 score 225.57 avg score 112.40 epsilon 0.01\n",
            "Ep  185 score 240.09 avg score 116.03 epsilon 0.01\n",
            "Ep  186 score 247.39 avg score 118.71 epsilon 0.01\n",
            "Ep  187 score 221.68 avg score 118.44 epsilon 0.01\n",
            "Ep  188 score 196.41 avg score 120.19 epsilon 0.01\n",
            "Ep  189 score -221.69 avg score 115.05 epsilon 0.01\n",
            "Ep  190 score -251.77 avg score 110.30 epsilon 0.01\n",
            "Ep  191 score 198.45 avg score 109.88 epsilon 0.01\n",
            "Ep  192 score 172.88 avg score 111.72 epsilon 0.01\n",
            "Ep  193 score 224.77 avg score 111.49 epsilon 0.01\n",
            "Ep  194 score 254.03 avg score 111.11 epsilon 0.01\n",
            "Ep  195 score -57.51 avg score 108.10 epsilon 0.01\n",
            "Ep  196 score 285.96 avg score 108.28 epsilon 0.01\n",
            "Ep  197 score 219.05 avg score 108.07 epsilon 0.01\n",
            "Ep  198 score 231.06 avg score 108.84 epsilon 0.01\n",
            "Ep  199 score 286.45 avg score 109.70 epsilon 0.01\n",
            "Ep  200 score 250.77 avg score 109.54 epsilon 0.01\n",
            "Ep  201 score -10.73 avg score 111.56 epsilon 0.01\n",
            "Ep  202 score 239.03 avg score 115.60 epsilon 0.01\n",
            "Ep  203 score 270.10 avg score 118.41 epsilon 0.01\n",
            "Ep  204 score 247.88 avg score 122.38 epsilon 0.01\n",
            "Ep  205 score -177.96 avg score 118.33 epsilon 0.01\n",
            "Ep  206 score 236.88 avg score 118.51 epsilon 0.01\n",
            "Ep  207 score 244.10 avg score 122.92 epsilon 0.01\n",
            "Ep  208 score -155.27 avg score 119.41 epsilon 0.01\n",
            "Ep  209 score 71.24 avg score 120.44 epsilon 0.01\n",
            "Ep  210 score 251.10 avg score 120.78 epsilon 0.01\n",
            "Ep  211 score 273.38 avg score 121.27 epsilon 0.01\n",
            "Ep  212 score -19.21 avg score 118.29 epsilon 0.01\n",
            "Ep  213 score 286.46 avg score 120.43 epsilon 0.01\n",
            "Ep  214 score 288.07 avg score 120.45 epsilon 0.01\n",
            "Ep  215 score 281.09 avg score 125.57 epsilon 0.01\n",
            "Ep  216 score 183.85 avg score 128.03 epsilon 0.01\n",
            "Ep  217 score -85.01 avg score 124.50 epsilon 0.01\n",
            "Ep  218 score -104.62 avg score 124.71 epsilon 0.01\n",
            "Ep  219 score -94.61 avg score 121.37 epsilon 0.01\n",
            "Ep  220 score -173.73 avg score 117.00 epsilon 0.01\n",
            "Ep  221 score 260.67 avg score 117.17 epsilon 0.01\n",
            "Ep  222 score 132.02 avg score 115.95 epsilon 0.01\n",
            "Ep  223 score 250.03 avg score 119.19 epsilon 0.01\n",
            "Ep  224 score 252.35 avg score 122.13 epsilon 0.01\n",
            "Ep  225 score 275.07 avg score 122.46 epsilon 0.01\n",
            "Ep  226 score -67.81 avg score 119.42 epsilon 0.01\n",
            "Ep  227 score 256.06 avg score 119.99 epsilon 0.01\n",
            "Ep  228 score 237.51 avg score 119.97 epsilon 0.01\n",
            "Ep  229 score 254.65 avg score 119.82 epsilon 0.01\n",
            "Ep  230 score 282.58 avg score 124.05 epsilon 0.01\n",
            "Ep  231 score 258.47 avg score 124.44 epsilon 0.01\n",
            "Ep  232 score 290.92 avg score 125.20 epsilon 0.01\n",
            "Ep  233 score 243.93 avg score 128.92 epsilon 0.01\n",
            "Ep  234 score 255.46 avg score 136.58 epsilon 0.01\n",
            "Ep  235 score 287.71 avg score 136.68 epsilon 0.01\n",
            "Ep  236 score 245.95 avg score 139.22 epsilon 0.01\n",
            "Ep  237 score 291.35 avg score 139.78 epsilon 0.01\n",
            "Ep  238 score 282.73 avg score 139.93 epsilon 0.01\n",
            "Ep  239 score 277.06 avg score 140.11 epsilon 0.01\n",
            "Ep  240 score 299.66 avg score 143.53 epsilon 0.01\n",
            "Ep  241 score 250.25 avg score 143.98 epsilon 0.01\n",
            "Ep  242 score 242.79 avg score 146.14 epsilon 0.01\n",
            "Ep  243 score 277.60 avg score 154.98 epsilon 0.01\n",
            "Ep  244 score 260.25 avg score 155.42 epsilon 0.01\n",
            "Ep  245 score 273.84 avg score 155.57 epsilon 0.01\n",
            "Ep  246 score 266.97 avg score 160.33 epsilon 0.01\n",
            "Ep  247 score 277.39 avg score 160.70 epsilon 0.01\n",
            "Ep  248 score 273.85 avg score 161.05 epsilon 0.01\n",
            "Ep  249 score 283.49 avg score 162.02 epsilon 0.01\n",
            "Ep  250 score 145.97 avg score 161.44 epsilon 0.01\n",
            "Ep  251 score 244.99 avg score 161.83 epsilon 0.01\n",
            "Ep  252 score 279.73 avg score 162.55 epsilon 0.01\n",
            "Ep  253 score 224.76 avg score 162.31 epsilon 0.01\n",
            "Ep  254 score 263.97 avg score 162.44 epsilon 0.01\n",
            "Ep  255 score -450.34 avg score 155.83 epsilon 0.01\n",
            "Ep  256 score 248.04 avg score 156.16 epsilon 0.01\n",
            "Ep  257 score 258.24 avg score 156.79 epsilon 0.01\n",
            "Ep  258 score 268.64 avg score 157.11 epsilon 0.01\n",
            "Ep  259 score 259.23 avg score 157.30 epsilon 0.01\n",
            "Ep  260 score 202.38 avg score 159.27 epsilon 0.01\n",
            "Ep  261 score 293.14 avg score 162.27 epsilon 0.01\n",
            "Ep  262 score 274.64 avg score 162.41 epsilon 0.01\n",
            "Ep  263 score 275.43 avg score 162.77 epsilon 0.01\n",
            "Ep  264 score 213.29 avg score 162.07 epsilon 0.01\n",
            "Ep  265 score 248.56 avg score 164.07 epsilon 0.01\n",
            "Ep  266 score 254.81 avg score 167.18 epsilon 0.01\n",
            "Ep  267 score 266.73 avg score 173.64 epsilon 0.01\n",
            "Ep  268 score 268.92 avg score 173.70 epsilon 0.01\n",
            "Ep  269 score 264.63 avg score 173.68 epsilon 0.01\n",
            "Ep  270 score 287.37 avg score 175.59 epsilon 0.01\n",
            "Ep  271 score -209.04 avg score 174.02 epsilon 0.01\n",
            "Ep  272 score 259.70 avg score 176.57 epsilon 0.01\n",
            "Ep  273 score 274.83 avg score 180.10 epsilon 0.01\n",
            "Ep  274 score 274.90 avg score 182.77 epsilon 0.01\n",
            "Ep  275 score 271.00 avg score 185.86 epsilon 0.01\n",
            "Ep  276 score 232.89 avg score 185.42 epsilon 0.01\n",
            "Ep  277 score 275.92 avg score 185.69 epsilon 0.01\n",
            "Ep  278 score 269.75 avg score 185.82 epsilon 0.01\n",
            "Ep  279 score 251.75 avg score 189.65 epsilon 0.01\n",
            "Ep  280 score 257.36 avg score 189.73 epsilon 0.01\n",
            "Ep  281 score 253.99 avg score 192.62 epsilon 0.01\n",
            "Ep  282 score 256.72 avg score 196.54 epsilon 0.01\n",
            "Ep  283 score 254.03 avg score 196.04 epsilon 0.01\n",
            "Ep  284 score 205.50 avg score 195.75 epsilon 0.01\n",
            "Ep  285 score 204.83 avg score 195.55 epsilon 0.01\n",
            "Ep  286 score -32.51 avg score 192.85 epsilon 0.01\n",
            "Ep  287 score 277.76 avg score 193.15 epsilon 0.01\n",
            "Ep  288 score 273.09 avg score 193.66 epsilon 0.01\n",
            "Ep  289 score 247.53 avg score 194.16 epsilon 0.01\n",
            "Ep  290 score -47.18 avg score 195.89 epsilon 0.01\n",
            "Ep  291 score 305.35 avg score 201.41 epsilon 0.01\n",
            "Ep  292 score 276.64 avg score 202.18 epsilon 0.01\n",
            "Ep  293 score 262.56 avg score 203.07 epsilon 0.01\n",
            "Ep  294 score 231.41 avg score 203.13 epsilon 0.01\n",
            "Ep  295 score 266.24 avg score 203.26 epsilon 0.01\n",
            "Ep  296 score 237.60 avg score 206.18 epsilon 0.01\n",
            "Ep  297 score 227.19 avg score 205.60 epsilon 0.01\n",
            "Ep  298 score 30.43 avg score 203.73 epsilon 0.01\n",
            "Ep  299 score 233.29 avg score 203.75 epsilon 0.01\n",
            "Ep  300 score 263.75 avg score 203.53 epsilon 0.01\n",
            "Ep  301 score 226.77 avg score 203.29 epsilon 0.01\n",
            "Ep  302 score 287.29 avg score 206.24 epsilon 0.01\n",
            "Ep  303 score 242.11 avg score 206.27 epsilon 0.01\n",
            "Ep  304 score 255.20 avg score 206.12 epsilon 0.01\n",
            "Ep  305 score 247.19 avg score 206.11 epsilon 0.01\n",
            "Ep  306 score 272.18 avg score 210.57 epsilon 0.01\n",
            "Ep  307 score 236.56 avg score 210.57 epsilon 0.01\n",
            "Ep  308 score 265.50 avg score 210.78 epsilon 0.01\n",
            "Ep  309 score 268.12 avg score 214.97 epsilon 0.01\n",
            "Ep  310 score 256.74 avg score 216.81 epsilon 0.01\n",
            "Ep  311 score 271.28 avg score 217.01 epsilon 0.01\n",
            "Ep  312 score 296.75 avg score 217.24 epsilon 0.01\n",
            "Ep  313 score 242.66 avg score 219.83 epsilon 0.01\n",
            "Ep  314 score 265.21 avg score 219.62 epsilon 0.01\n",
            "Ep  315 score 254.16 avg score 219.29 epsilon 0.01\n",
            "Ep  316 score 286.28 avg score 219.34 epsilon 0.01\n",
            "Ep  317 score 255.79 avg score 220.05 epsilon 0.01\n",
            "Ep  318 score 279.37 avg score 223.66 epsilon 0.01\n",
            "Ep  319 score 262.90 avg score 227.30 epsilon 0.01\n",
            "Ep  320 score 273.38 avg score 230.94 epsilon 0.01\n",
            "Ep  321 score 196.72 avg score 234.61 epsilon 0.01\n",
            "Ep  322 score 278.17 avg score 234.78 epsilon 0.01\n",
            "Ep  323 score 241.28 avg score 235.86 epsilon 0.01\n",
            "Ep  324 score 230.62 avg score 235.67 epsilon 0.01\n",
            "Ep  325 score 294.52 avg score 236.09 epsilon 0.01\n",
            "Ep  326 score 258.36 avg score 235.92 epsilon 0.01\n",
            "Ep  327 score 249.90 avg score 239.07 epsilon 0.01\n",
            "Ep  328 score 265.64 avg score 239.16 epsilon 0.01\n",
            "Ep  329 score 236.41 avg score 239.15 epsilon 0.01\n",
            "Ep  330 score 253.26 avg score 239.14 epsilon 0.01\n",
            "Ep  331 score 276.01 avg score 239.07 epsilon 0.01\n",
            "Ep  332 score 302.02 avg score 239.50 epsilon 0.01\n",
            "Ep  333 score 253.44 avg score 239.13 epsilon 0.01\n",
            "Ep  334 score 264.85 avg score 239.34 epsilon 0.01\n",
            "Ep  335 score 221.30 avg score 239.00 epsilon 0.01\n",
            "Ep  336 score 192.06 avg score 238.06 epsilon 0.01\n",
            "Ep  337 score 275.37 avg score 238.35 epsilon 0.01\n",
            "Ep  338 score 240.71 avg score 237.85 epsilon 0.01\n",
            "Ep  339 score 261.84 avg score 237.64 epsilon 0.01\n",
            "Ep  340 score 259.91 avg score 237.47 epsilon 0.01\n",
            "Ep  341 score 300.49 avg score 237.48 epsilon 0.01\n",
            "Ep  342 score 224.39 avg score 237.22 epsilon 0.01\n",
            "Ep  343 score 279.32 avg score 237.58 epsilon 0.01\n",
            "Ep  344 score 253.66 avg score 237.35 epsilon 0.01\n",
            "Ep  345 score 246.48 avg score 237.21 epsilon 0.01\n",
            "Ep  346 score 256.23 avg score 237.03 epsilon 0.01\n",
            "Ep  347 score 223.77 avg score 236.61 epsilon 0.01\n",
            "Ep  348 score 261.47 avg score 236.45 epsilon 0.01\n",
            "Ep  349 score 264.25 avg score 236.35 epsilon 0.01\n",
            "Ep  350 score 269.29 avg score 236.21 epsilon 0.01\n",
            "Ep  351 score 23.34 avg score 235.00 epsilon 0.01\n",
            "Ep  352 score 266.63 avg score 235.21 epsilon 0.01\n",
            "Ep  353 score 268.95 avg score 235.11 epsilon 0.01\n",
            "Ep  354 score 260.88 avg score 235.46 epsilon 0.01\n",
            "Ep  355 score 240.09 avg score 235.23 epsilon 0.01\n",
            "Ep  356 score 281.58 avg score 242.48 epsilon 0.01\n",
            "Ep  357 score 228.66 avg score 242.28 epsilon 0.01\n",
            "Ep  358 score 303.49 avg score 242.73 epsilon 0.01\n",
            "Ep  359 score 249.80 avg score 242.54 epsilon 0.01\n",
            "Ep  360 score 264.03 avg score 242.59 epsilon 0.01\n",
            "Ep  361 score -178.45 avg score 238.82 epsilon 0.01\n",
            "Ep  362 score 281.99 avg score 238.71 epsilon 0.01\n",
            "Ep  363 score 240.00 avg score 238.37 epsilon 0.01\n",
            "Ep  364 score 275.63 avg score 238.37 epsilon 0.01\n",
            "Ep  365 score 282.94 avg score 239.06 epsilon 0.01\n",
            "Ep  366 score 217.24 avg score 238.75 epsilon 0.01\n",
            "Ep  367 score 280.04 avg score 239.00 epsilon 0.01\n",
            "Ep  368 score 224.36 avg score 238.58 epsilon 0.01\n",
            "Ep  369 score 262.84 avg score 238.52 epsilon 0.01\n",
            "Ep  370 score 237.65 avg score 238.25 epsilon 0.01\n",
            "Ep  371 score 236.23 avg score 237.75 epsilon 0.01\n",
            "Ep  372 score 271.92 avg score 242.51 epsilon 0.01\n",
            "Ep  373 score 265.09 avg score 242.56 epsilon 0.01\n",
            "Ep  374 score 264.47 avg score 242.46 epsilon 0.01\n",
            "Ep  375 score -35.55 avg score 239.39 epsilon 0.01\n",
            "Ep  376 score 280.96 avg score 239.48 epsilon 0.01\n",
            "Ep  377 score 38.53 avg score 237.56 epsilon 0.01\n",
            "Ep  378 score 256.08 avg score 237.36 epsilon 0.01\n",
            "Ep  379 score 280.04 avg score 237.47 epsilon 0.01\n",
            "Ep  380 score 247.36 avg score 237.42 epsilon 0.01\n",
            "Ep  381 score 255.86 avg score 237.41 epsilon 0.01\n",
            "Ep  382 score -47.42 avg score 234.42 epsilon 0.01\n",
            "Ep  383 score 226.54 avg score 234.12 epsilon 0.01\n",
            "Ep  384 score -148.39 avg score 230.14 epsilon 0.01\n",
            "Ep  385 score -35.47 avg score 227.75 epsilon 0.01\n",
            "Ep  386 score 244.37 avg score 228.15 epsilon 0.01\n",
            "Ep  387 score 258.99 avg score 231.03 epsilon 0.01\n",
            "Ep  388 score 256.15 avg score 230.82 epsilon 0.01\n",
            "Ep  389 score 224.54 avg score 230.34 epsilon 0.01\n",
            "Ep  390 score 251.44 avg score 230.38 epsilon 0.01\n",
            "Ep  391 score 247.01 avg score 233.29 epsilon 0.01\n",
            "Ep  392 score -137.64 avg score 228.90 epsilon 0.01\n",
            "Ep  393 score 229.76 avg score 228.44 epsilon 0.01\n",
            "Ep  394 score 241.46 avg score 228.23 epsilon 0.01\n",
            "Ep  395 score 265.12 avg score 228.56 epsilon 0.01\n",
            "Ep  396 score 252.96 avg score 228.43 epsilon 0.01\n",
            "Ep  397 score 239.66 avg score 228.45 epsilon 0.01\n",
            "Ep  398 score 235.67 avg score 228.54 epsilon 0.01\n",
            "Ep  399 score 265.09 avg score 230.86 epsilon 0.01\n",
            "Ep  400 score 212.43 avg score 230.65 epsilon 0.01\n"
          ]
        }
      ],
      "source": [
        "from torch.utils.tensorboard import SummaryWriter\n",
        "agent=Agent(gamma=0.99,epsilon=1.0,alpha=0.001,input_dims=8,n_actions=4,batch_size=128,epsilon_end=0.01)\n",
        "#agent scores\n",
        "scores,eps_hist=[],[] #ontaining scores from each episode/epsiolon\n",
        "# scores_window =[] #every 100 epsiode\n",
        "episode=400\n",
        "for i in range(episode):\n",
        "    score=0\n",
        "    terminate=False\n",
        "    observation=env.reset()\n",
        "    while not terminate:\n",
        "        action=agent.choose_action(observation)\n",
        "        observation_,reward,terminate,info=env.step(action)\n",
        "        score+= reward\n",
        "        agent.remember(observation,action,reward,observation_,terminate)\n",
        "        observation=observation_\n",
        "        agent.learn()\n",
        "    scores.append(score)\n",
        "    eps_hist.append(agent.epsilon)\n",
        "    avg=np.mean(scores[max(0,i-100):(i+1)])#last 100 games\n",
        "    print('Ep ',i+1, 'score %.2f'%score,'avg score %.2f'%avg,'epsilon %.2f'%agent.epsilon)\n",
        "    if i%10==0 and i>0:\n",
        "        agent.save_model(i)\n",
        "\n",
        "env.close()"
      ]
    },
    {
      "cell_type": "code",
      "execution_count": null,
      "metadata": {
        "id": "vcGqDPJCq-fb"
      },
      "outputs": [],
      "source": [
        "agent.save_model(400)"
      ]
    },
    {
      "cell_type": "code",
      "execution_count": 8,
      "metadata": {
        "id": "5Lps6LaErd6T"
      },
      "outputs": [],
      "source": [
        "def moving_average(a, n=100) : #calculating the average of a certain number of data points over a fixed period of time.\n",
        "    #average of a certain number of consecutive data points, and then sliding the window of data points over the entire dataset, \n",
        "    #updating the average as the window moves. \n",
        "    ret = np.cumsum(a, dtype=float)\n",
        "    ret[n:] = ret[n:] - ret[:-n]\n",
        "    return ret[n - 1:] / n\n",
        "def plot_scores(scores):\n",
        "    scores_ma=moving_average(scores,n=100)\n",
        "    plt.plot(np.arange(len(scores_ma)), scores_ma)\n",
        "    plt.ylabel('Score')\n",
        "    plt.xlabel('Episode')\n",
        "    plt.show()"
      ]
    },
    {
      "cell_type": "markdown",
      "metadata": {
        "id": "Pbv-X8Tq6Ahx"
      },
      "source": [
        "<h2>Moving Average For 400 Epochs"
      ]
    },
    {
      "cell_type": "code",
      "execution_count": null,
      "metadata": {
        "colab": {
          "base_uri": "https://localhost:8080/",
          "height": 279
        },
        "id": "igDsJGLUncUB",
        "outputId": "d2cd4954-c139-4c33-9313-930b8011a1d0"
      },
      "outputs": [
        {
          "data": {
            "image/png": "[encoded data removed]",
            "text/plain": [
              "<Figure size 432x288 with 1 Axes>"
            ]
          },
          "metadata": {
            "needs_background": "light"
          },
          "output_type": "display_data"
        }
      ],
      "source": [
        "plot_scores(scores)"
      ]
    },
    {
      "cell_type": "markdown",
      "metadata": {
        "id": "1jW45P6d6DKG"
      },
      "source": [
        "<h2>Rewards for all episodes"
      ]
    },
    {
      "cell_type": "code",
      "execution_count": null,
      "metadata": {
        "colab": {
          "base_uri": "https://localhost:8080/",
          "height": 282
        },
        "id": "_deb3mcWncUC",
        "outputId": "cfa3fe32-8ae6-4df5-b67b-84655fc5d095"
      },
      "outputs": [
        {
          "data": {
            "text/plain": [
              "[<matplotlib.lines.Line2D at 0x7f6c980cff70>]"
            ]
          },
          "execution_count": 61,
          "metadata": {},
          "output_type": "execute_result"
        },
        {
          "data": {
            "image/png": "[encoded data removed]",
            "text/plain": [
              "<Figure size 432x288 with 1 Axes>"
            ]
          },
          "metadata": {
            "needs_background": "light"
          },
          "output_type": "display_data"
        }
      ],
      "source": [
        "plt.plot(x,scores)"
      ]
    },
    {
      "attachments": {},
      "cell_type": "markdown",
      "metadata": {},
      "source": [
        "<h2>Testing best model"
      ]
    },
    {
      "cell_type": "code",
      "execution_count": 9,
      "metadata": {
        "colab": {
          "base_uri": "https://localhost:8080/"
        },
        "id": "m7B6EFUgF-QN",
        "outputId": "ad2ad08f-8963-4a01-e516-0c4de0e1b473"
      },
      "outputs": [
        {
          "name": "stdout",
          "output_type": "stream",
          "text": [
            "Looking in indexes: https://pypi.org/simple, https://us-python.pkg.dev/colab-wheels/public/simple/\n",
            "Collecting tensorboardX\n",
            "  Downloading tensorboardX-2.5.1-py2.py3-none-any.whl (125 kB)\n",
            "\u001b[2K     \u001b[90m━━━━━━━━━━━━━━━━━━━━━━━━━━━━━━━━━━━━━━\u001b[0m \u001b[32m125.4/125.4 KB\u001b[0m \u001b[31m12.8 MB/s\u001b[0m eta \u001b[36m0:00:00\u001b[0m\n",
            "\u001b[?25hRequirement already satisfied: tensorflow in /usr/local/lib/python3.8/dist-packages (2.9.2)\n",
            "Requirement already satisfied: gymnasium in /usr/local/lib/python3.8/dist-packages (0.27.1)\n",
            "Requirement already satisfied: numpy in /usr/local/lib/python3.8/dist-packages (1.21.6)\n",
            "Collecting Box2D\n",
            "  Downloading Box2D-2.3.10-cp38-cp38-manylinux1_x86_64.whl (1.3 MB)\n",
            "\u001b[2K     \u001b[90m━━━━━━━━━━━━━━━━━━━━━━━━━━━━━━━━━━━━━━━━\u001b[0m \u001b[32m1.3/1.3 MB\u001b[0m \u001b[31m9.6 MB/s\u001b[0m eta \u001b[36m0:00:00\u001b[0m\n",
            "\u001b[?25hRequirement already satisfied: pygame in /usr/local/lib/python3.8/dist-packages (2.1.3.dev8)\n",
            "Requirement already satisfied: protobuf<=3.20.1,>=3.8.0 in /usr/local/lib/python3.8/dist-packages (from tensorboardX) (3.19.6)\n",
            "Requirement already satisfied: grpcio<2.0,>=1.24.3 in /usr/local/lib/python3.8/dist-packages (from tensorflow) (1.51.1)\n",
            "Requirement already satisfied: google-pasta>=0.1.1 in /usr/local/lib/python3.8/dist-packages (from tensorflow) (0.2.0)\n",
            "Requirement already satisfied: absl-py>=1.0.0 in /usr/local/lib/python3.8/dist-packages (from tensorflow) (1.4.0)\n",
            "Requirement already satisfied: tensorflow-io-gcs-filesystem>=0.23.1 in /usr/local/lib/python3.8/dist-packages (from tensorflow) (0.30.0)\n",
            "Requirement already satisfied: termcolor>=1.1.0 in /usr/local/lib/python3.8/dist-packages (from tensorflow) (2.2.0)\n",
            "Requirement already satisfied: tensorflow-estimator<2.10.0,>=2.9.0rc0 in /usr/local/lib/python3.8/dist-packages (from tensorflow) (2.9.0)\n",
            "Requirement already satisfied: typing-extensions>=3.6.6 in /usr/local/lib/python3.8/dist-packages (from tensorflow) (4.4.0)\n",
            "Requirement already satisfied: h5py>=2.9.0 in /usr/local/lib/python3.8/dist-packages (from tensorflow) (3.1.0)\n",
            "Requirement already satisfied: libclang>=13.0.0 in /usr/local/lib/python3.8/dist-packages (from tensorflow) (15.0.6.1)\n",
            "Requirement already satisfied: opt-einsum>=2.3.2 in /usr/local/lib/python3.8/dist-packages (from tensorflow) (3.3.0)\n",
            "Requirement already satisfied: wrapt>=1.11.0 in /usr/local/lib/python3.8/dist-packages (from tensorflow) (1.14.1)\n",
            "Requirement already satisfied: tensorboard<2.10,>=2.9 in /usr/local/lib/python3.8/dist-packages (from tensorflow) (2.9.1)\n",
            "Requirement already satisfied: gast<=0.4.0,>=0.2.1 in /usr/local/lib/python3.8/dist-packages (from tensorflow) (0.4.0)\n",
            "Requirement already satisfied: astunparse>=1.6.0 in /usr/local/lib/python3.8/dist-packages (from tensorflow) (1.6.3)\n",
            "Requirement already satisfied: keras<2.10.0,>=2.9.0rc0 in /usr/local/lib/python3.8/dist-packages (from tensorflow) (2.9.0)\n",
            "Requirement already satisfied: flatbuffers<2,>=1.12 in /usr/local/lib/python3.8/dist-packages (from tensorflow) (1.12)\n",
            "Requirement already satisfied: packaging in /usr/local/lib/python3.8/dist-packages (from tensorflow) (23.0)\n",
            "Requirement already satisfied: setuptools in /usr/local/lib/python3.8/dist-packages (from tensorflow) (57.4.0)\n",
            "Requirement already satisfied: keras-preprocessing>=1.1.1 in /usr/local/lib/python3.8/dist-packages (from tensorflow) (1.1.2)\n",
            "Requirement already satisfied: six>=1.12.0 in /usr/local/lib/python3.8/dist-packages (from tensorflow) (1.15.0)\n",
            "Requirement already satisfied: importlib-metadata>=4.8.0 in /usr/local/lib/python3.8/dist-packages (from gymnasium) (6.0.0)\n",
            "Requirement already satisfied: gymnasium-notices>=0.0.1 in /usr/local/lib/python3.8/dist-packages (from gymnasium) (0.0.1)\n",
            "Requirement already satisfied: cloudpickle>=1.2.0 in /usr/local/lib/python3.8/dist-packages (from gymnasium) (2.2.1)\n",
            "Requirement already satisfied: jax-jumpy>=0.2.0 in /usr/local/lib/python3.8/dist-packages (from gymnasium) (0.2.0)\n",
            "Requirement already satisfied: wheel<1.0,>=0.23.0 in /usr/local/lib/python3.8/dist-packages (from astunparse>=1.6.0->tensorflow) (0.38.4)\n",
            "Requirement already satisfied: zipp>=0.5 in /usr/local/lib/python3.8/dist-packages (from importlib-metadata>=4.8.0->gymnasium) (3.12.0)\n",
            "Requirement already satisfied: tensorboard-data-server<0.7.0,>=0.6.0 in /usr/local/lib/python3.8/dist-packages (from tensorboard<2.10,>=2.9->tensorflow) (0.6.1)\n",
            "Requirement already satisfied: tensorboard-plugin-wit>=1.6.0 in /usr/local/lib/python3.8/dist-packages (from tensorboard<2.10,>=2.9->tensorflow) (1.8.1)\n",
            "Requirement already satisfied: werkzeug>=1.0.1 in /usr/local/lib/python3.8/dist-packages (from tensorboard<2.10,>=2.9->tensorflow) (1.0.1)\n",
            "Requirement already satisfied: markdown>=2.6.8 in /usr/local/lib/python3.8/dist-packages (from tensorboard<2.10,>=2.9->tensorflow) (3.4.1)\n",
            "Requirement already satisfied: google-auth<3,>=1.6.3 in /usr/local/lib/python3.8/dist-packages (from tensorboard<2.10,>=2.9->tensorflow) (2.16.0)\n",
            "Requirement already satisfied: google-auth-oauthlib<0.5,>=0.4.1 in /usr/local/lib/python3.8/dist-packages (from tensorboard<2.10,>=2.9->tensorflow) (0.4.6)\n",
            "Requirement already satisfied: requests<3,>=2.21.0 in /usr/local/lib/python3.8/dist-packages (from tensorboard<2.10,>=2.9->tensorflow) (2.25.1)\n",
            "Requirement already satisfied: pyasn1-modules>=0.2.1 in /usr/local/lib/python3.8/dist-packages (from google-auth<3,>=1.6.3->tensorboard<2.10,>=2.9->tensorflow) (0.2.8)\n",
            "Requirement already satisfied: cachetools<6.0,>=2.0.0 in /usr/local/lib/python3.8/dist-packages (from google-auth<3,>=1.6.3->tensorboard<2.10,>=2.9->tensorflow) (5.3.0)\n",
            "Requirement already satisfied: rsa<5,>=3.1.4 in /usr/local/lib/python3.8/dist-packages (from google-auth<3,>=1.6.3->tensorboard<2.10,>=2.9->tensorflow) (4.9)\n",
            "Requirement already satisfied: requests-oauthlib>=0.7.0 in /usr/local/lib/python3.8/dist-packages (from google-auth-oauthlib<0.5,>=0.4.1->tensorboard<2.10,>=2.9->tensorflow) (1.3.1)\n",
            "Requirement already satisfied: certifi>=2017.4.17 in /usr/local/lib/python3.8/dist-packages (from requests<3,>=2.21.0->tensorboard<2.10,>=2.9->tensorflow) (2022.12.7)\n",
            "Requirement already satisfied: idna<3,>=2.5 in /usr/local/lib/python3.8/dist-packages (from requests<3,>=2.21.0->tensorboard<2.10,>=2.9->tensorflow) (2.10)\n",
            "Requirement already satisfied: urllib3<1.27,>=1.21.1 in /usr/local/lib/python3.8/dist-packages (from requests<3,>=2.21.0->tensorboard<2.10,>=2.9->tensorflow) (1.24.3)\n",
            "Requirement already satisfied: chardet<5,>=3.0.2 in /usr/local/lib/python3.8/dist-packages (from requests<3,>=2.21.0->tensorboard<2.10,>=2.9->tensorflow) (4.0.0)\n",
            "Requirement already satisfied: pyasn1<0.5.0,>=0.4.6 in /usr/local/lib/python3.8/dist-packages (from pyasn1-modules>=0.2.1->google-auth<3,>=1.6.3->tensorboard<2.10,>=2.9->tensorflow) (0.4.8)\n",
            "Requirement already satisfied: oauthlib>=3.0.0 in /usr/local/lib/python3.8/dist-packages (from requests-oauthlib>=0.7.0->google-auth-oauthlib<0.5,>=0.4.1->tensorboard<2.10,>=2.9->tensorflow) (3.2.2)\n",
            "Installing collected packages: Box2D, tensorboardX\n",
            "Successfully installed Box2D-2.3.10 tensorboardX-2.5.1\n",
            "Reading package lists... Done\n",
            "Building dependency tree       \n",
            "Reading state information... Done\n",
            "The following package was automatically installed and is no longer required:\n",
            "  libnvidia-common-510\n",
            "Use 'apt autoremove' to remove it.\n",
            "The following additional packages will be installed:\n",
            "  libxxf86dga1\n",
            "Suggested packages:\n",
            "  mesa-utils\n",
            "The following NEW packages will be installed:\n",
            "  libxxf86dga1 x11-utils xvfb\n",
            "0 upgraded, 3 newly installed, 0 to remove and 27 not upgraded.\n",
            "Need to get 990 kB of archives.\n",
            "After this operation, 3,058 kB of additional disk space will be used.\n",
            "Get:1 http://archive.ubuntu.com/ubuntu focal/main amd64 libxxf86dga1 amd64 2:1.1.5-0ubuntu1 [12.0 kB]\n",
            "Get:2 http://archive.ubuntu.com/ubuntu focal/main amd64 x11-utils amd64 7.7+5 [199 kB]\n",
            "Get:3 http://archive.ubuntu.com/ubuntu focal-updates/universe amd64 xvfb amd64 2:1.20.13-1ubuntu1~20.04.5 [780 kB]\n",
            "Fetched 990 kB in 2s (476 kB/s)\n",
            "Selecting previously unselected package libxxf86dga1:amd64.\n",
            "(Reading database ... 129496 files and directories currently installed.)\n",
            "Preparing to unpack .../libxxf86dga1_2%3a1.1.5-0ubuntu1_amd64.deb ...\n",
            "Unpacking libxxf86dga1:amd64 (2:1.1.5-0ubuntu1) ...\n",
            "Selecting previously unselected package x11-utils.\n",
            "Preparing to unpack .../x11-utils_7.7+5_amd64.deb ...\n",
            "Unpacking x11-utils (7.7+5) ...\n",
            "Selecting previously unselected package xvfb.\n",
            "Preparing to unpack .../xvfb_2%3a1.20.13-1ubuntu1~20.04.5_amd64.deb ...\n",
            "Unpacking xvfb (2:1.20.13-1ubuntu1~20.04.5) ...\n",
            "Setting up xvfb (2:1.20.13-1ubuntu1~20.04.5) ...\n",
            "Setting up libxxf86dga1:amd64 (2:1.1.5-0ubuntu1) ...\n",
            "Setting up x11-utils (7.7+5) ...\n",
            "Processing triggers for man-db (2.9.1-1) ...\n",
            "Processing triggers for libc-bin (2.31-0ubuntu9.9) ...\n",
            "Looking in indexes: https://pypi.org/simple, https://us-python.pkg.dev/colab-wheels/public/simple/\n",
            "Collecting pyvirtualdisplay\n",
            "  Downloading PyVirtualDisplay-3.0-py3-none-any.whl (15 kB)\n",
            "Requirement already satisfied: PyOpenGL in /usr/local/lib/python3.8/dist-packages (3.1.6)\n",
            "Collecting PyOpenGL-accelerate\n",
            "  Downloading PyOpenGL-accelerate-3.1.6.tar.gz (550 kB)\n",
            "\u001b[2K     \u001b[90m━━━━━━━━━━━━━━━━━━━━━━━━━━━━━━━━━━━━━━\u001b[0m \u001b[32m550.6/550.6 KB\u001b[0m \u001b[31m25.7 MB/s\u001b[0m eta \u001b[36m0:00:00\u001b[0m\n",
            "\u001b[?25h  Preparing metadata (setup.py) ... \u001b[?25l\u001b[?25hdone\n",
            "Building wheels for collected packages: PyOpenGL-accelerate\n",
            "  Building wheel for PyOpenGL-accelerate (setup.py) ... \u001b[?25l\u001b[?25hdone\n",
            "  Created wheel for PyOpenGL-accelerate: filename=PyOpenGL_accelerate-3.1.6-cp38-cp38-linux_x86_64.whl size=2508204 sha256=49c3d685f3994e6df6d8f73437aece45b94551d242a84bf6e1ec13ab4ceea847\n",
            "  Stored in directory: /root/.cache/pip/wheels/ec/04/74/854c06008a26af5a3b8106007e2950b70df3349324239586f2\n",
            "Successfully built PyOpenGL-accelerate\n",
            "Installing collected packages: pyvirtualdisplay, PyOpenGL-accelerate\n",
            "Successfully installed PyOpenGL-accelerate-3.1.6 pyvirtualdisplay-3.0\n",
            "\n"
          ]
        }
      ],
      "source": [
        "!pip install tensorboardX tensorflow gymnasium numpy Box2D pygame #for colab\n",
        "!apt-get install -y xvfb x11-utils\n",
        "!pip install pyvirtualdisplay PyOpenGL PyOpenGL-accelerate\n",
        "!echo $DISPLAY\n",
        "import pyvirtualdisplay"
      ]
    },
    {
      "cell_type": "code",
      "execution_count": 15,
      "metadata": {
        "colab": {
          "base_uri": "https://localhost:8080/"
        },
        "id": "sGD9o7ssClvJ",
        "outputId": "294d50f3-81ac-49ff-9f7e-cb5d00798448"
      },
      "outputs": [
        {
          "name": "stderr",
          "output_type": "stream",
          "text": [
            "/usr/local/lib/python3.8/dist-packages/keras/optimizers/optimizer_v2/adam.py:110: UserWarning: The `lr` argument is deprecated, use `learning_rate` instead.\n",
            "  super(Adam, self).__init__(name, **kwargs)\n",
            "/usr/local/lib/python3.8/dist-packages/gym/core.py:317: DeprecationWarning: \u001b[33mWARN: Initializing wrapper in old step API which returns one bool instead of two. It is recommended to set `new_step_api=True` to use new step API. This will be the default behaviour in future.\u001b[0m\n",
            "  deprecation(\n",
            "/usr/local/lib/python3.8/dist-packages/gym/wrappers/step_api_compatibility.py:39: DeprecationWarning: \u001b[33mWARN: Initializing environment in old step API which returns one bool instead of two. It is recommended to set `new_step_api=True` to use new step API. This will be the default behaviour in future.\u001b[0m\n",
            "  deprecation(\n",
            "/usr/local/lib/python3.8/dist-packages/gym/wrappers/record_video.py:78: UserWarning: \u001b[33mWARN: Overwriting existing videos at /content/test_lander folder (try specifying a different `video_folder` for the `RecordVideo` wrapper if this is not desired)\u001b[0m\n",
            "  logger.warn(\n",
            "/usr/local/lib/python3.8/dist-packages/gym/wrappers/monitoring/video_recorder.py:78: DeprecationWarning: \u001b[33mWARN: Recording ability for environment LunarLander-v2 initialized with `render_mode=None` is marked as deprecated and will be removed in the future.\u001b[0m\n",
            "  logger.deprecation(\n",
            "/usr/local/lib/python3.8/dist-packages/gym/core.py:43: DeprecationWarning: \u001b[33mWARN: The argument mode in render method is deprecated; use render_mode during environment initialization instead.\n",
            "See here for more information: https://www.gymlibrary.ml/content/api/\u001b[0m\n",
            "  deprecation(\n",
            "/usr/local/lib/python3.8/dist-packages/gym/core.py:43: DeprecationWarning: \u001b[33mWARN: The argument mode in render method is deprecated; use render_mode during environment initialization instead.\n",
            "See here for more information: https://www.gymlibrary.ml/content/api/\u001b[0m\n",
            "  deprecation(\n",
            "/usr/local/lib/python3.8/dist-packages/keras/engine/training_v1.py:2067: UserWarning: `Model.state_updates` will be removed in a future version. This property should not be used in TensorFlow 2.0, as `updates` are applied automatically.\n",
            "  updates=self.state_updates,\n"
          ]
        },
        {
          "name": "stdout",
          "output_type": "stream",
          "text": [
            "Ep  1 score 254.37 avg score 254.37 epsilon 0.00\n",
            "Ep  2 score 248.18 avg score 251.28 epsilon 0.00\n",
            "Ep  3 score 250.67 avg score 251.08 epsilon 0.00\n",
            "Ep  4 score 272.49 avg score 256.43 epsilon 0.00\n",
            "Ep  5 score 270.23 avg score 259.19 epsilon 0.00\n",
            "Ep  6 score 248.44 avg score 257.40 epsilon 0.00\n",
            "Ep  7 score -69.11 avg score 210.75 epsilon 0.00\n",
            "Ep  8 score 252.70 avg score 216.00 epsilon 0.00\n",
            "Ep  9 score 43.33 avg score 196.81 epsilon 0.00\n"
          ]
        },
        {
          "name": "stderr",
          "output_type": "stream",
          "text": [
            "/usr/local/lib/python3.8/dist-packages/gym/wrappers/monitoring/video_recorder.py:78: DeprecationWarning: \u001b[33mWARN: Recording ability for environment LunarLander-v2 initialized with `render_mode=None` is marked as deprecated and will be removed in the future.\u001b[0m\n",
            "  logger.deprecation(\n",
            "/usr/local/lib/python3.8/dist-packages/gym/core.py:43: DeprecationWarning: \u001b[33mWARN: The argument mode in render method is deprecated; use render_mode during environment initialization instead.\n",
            "See here for more information: https://www.gymlibrary.ml/content/api/\u001b[0m\n",
            "  deprecation(\n"
          ]
        },
        {
          "name": "stdout",
          "output_type": "stream",
          "text": [
            "Ep  10 score 205.66 avg score 197.70 epsilon 0.00\n",
            "Ep  11 score 261.95 avg score 203.54 epsilon 0.00\n",
            "Ep  12 score 278.75 avg score 209.80 epsilon 0.00\n",
            "Ep  13 score 249.34 avg score 212.85 epsilon 0.00\n",
            "Ep  14 score 87.80 avg score 203.91 epsilon 0.00\n",
            "Ep  15 score -37.40 avg score 187.83 epsilon 0.00\n",
            "Ep  16 score 246.35 avg score 191.48 epsilon 0.00\n",
            "Ep  17 score 174.39 avg score 190.48 epsilon 0.00\n",
            "Ep  18 score 264.02 avg score 194.56 epsilon 0.00\n",
            "Ep  19 score 263.04 avg score 198.17 epsilon 0.00\n"
          ]
        },
        {
          "name": "stderr",
          "output_type": "stream",
          "text": [
            "/usr/local/lib/python3.8/dist-packages/gym/wrappers/monitoring/video_recorder.py:78: DeprecationWarning: \u001b[33mWARN: Recording ability for environment LunarLander-v2 initialized with `render_mode=None` is marked as deprecated and will be removed in the future.\u001b[0m\n",
            "  logger.deprecation(\n",
            "/usr/local/lib/python3.8/dist-packages/gym/core.py:43: DeprecationWarning: \u001b[33mWARN: The argument mode in render method is deprecated; use render_mode during environment initialization instead.\n",
            "See here for more information: https://www.gymlibrary.ml/content/api/\u001b[0m\n",
            "  deprecation(\n"
          ]
        },
        {
          "name": "stdout",
          "output_type": "stream",
          "text": [
            "Ep  20 score 254.45 avg score 200.98 epsilon 0.00\n",
            "Ep  21 score 262.94 avg score 203.93 epsilon 0.00\n",
            "Ep  22 score 281.11 avg score 207.44 epsilon 0.00\n",
            "Ep  23 score 149.89 avg score 204.94 epsilon 0.00\n",
            "Ep  24 score 274.33 avg score 207.83 epsilon 0.00\n",
            "Ep  25 score 265.45 avg score 210.13 epsilon 0.00\n",
            "Ep  26 score 260.63 avg score 212.08 epsilon 0.00\n",
            "Ep  27 score -59.18 avg score 202.03 epsilon 0.00\n",
            "Ep  28 score 281.94 avg score 204.88 epsilon 0.00\n",
            "Ep  29 score 263.91 avg score 206.92 epsilon 0.00\n"
          ]
        },
        {
          "name": "stderr",
          "output_type": "stream",
          "text": [
            "/usr/local/lib/python3.8/dist-packages/gym/wrappers/monitoring/video_recorder.py:78: DeprecationWarning: \u001b[33mWARN: Recording ability for environment LunarLander-v2 initialized with `render_mode=None` is marked as deprecated and will be removed in the future.\u001b[0m\n",
            "  logger.deprecation(\n",
            "/usr/local/lib/python3.8/dist-packages/gym/core.py:43: DeprecationWarning: \u001b[33mWARN: The argument mode in render method is deprecated; use render_mode during environment initialization instead.\n",
            "See here for more information: https://www.gymlibrary.ml/content/api/\u001b[0m\n",
            "  deprecation(\n"
          ]
        },
        {
          "name": "stdout",
          "output_type": "stream",
          "text": [
            "Ep  30 score 279.05 avg score 209.32 epsilon 0.00\n",
            "Ep  31 score 274.77 avg score 211.43 epsilon 0.00\n",
            "Ep  32 score 285.91 avg score 213.76 epsilon 0.00\n",
            "Ep  33 score 258.66 avg score 215.12 epsilon 0.00\n",
            "Ep  34 score 241.47 avg score 215.90 epsilon 0.00\n",
            "Ep  35 score 253.91 avg score 216.98 epsilon 0.00\n",
            "Ep  36 score 295.47 avg score 219.16 epsilon 0.00\n",
            "Ep  37 score -75.22 avg score 211.21 epsilon 0.00\n",
            "Ep  38 score 262.37 avg score 212.55 epsilon 0.00\n",
            "Ep  39 score 244.14 avg score 213.36 epsilon 0.00\n"
          ]
        },
        {
          "name": "stderr",
          "output_type": "stream",
          "text": [
            "/usr/local/lib/python3.8/dist-packages/gym/wrappers/monitoring/video_recorder.py:78: DeprecationWarning: \u001b[33mWARN: Recording ability for environment LunarLander-v2 initialized with `render_mode=None` is marked as deprecated and will be removed in the future.\u001b[0m\n",
            "  logger.deprecation(\n",
            "/usr/local/lib/python3.8/dist-packages/gym/core.py:43: DeprecationWarning: \u001b[33mWARN: The argument mode in render method is deprecated; use render_mode during environment initialization instead.\n",
            "See here for more information: https://www.gymlibrary.ml/content/api/\u001b[0m\n",
            "  deprecation(\n"
          ]
        },
        {
          "name": "stdout",
          "output_type": "stream",
          "text": [
            "Ep  40 score 274.11 avg score 214.88 epsilon 0.00\n",
            "Ep  41 score 277.76 avg score 216.42 epsilon 0.00\n",
            "Ep  42 score 253.41 avg score 217.30 epsilon 0.00\n",
            "Ep  43 score 240.78 avg score 217.84 epsilon 0.00\n",
            "Ep  44 score 262.45 avg score 218.86 epsilon 0.00\n",
            "Ep  45 score -129.40 avg score 211.12 epsilon 0.00\n",
            "Ep  46 score 260.20 avg score 212.18 epsilon 0.00\n",
            "Ep  47 score 263.69 avg score 213.28 epsilon 0.00\n",
            "Ep  48 score -258.40 avg score 203.45 epsilon 0.00\n",
            "Ep  49 score 234.41 avg score 204.09 epsilon 0.00\n"
          ]
        },
        {
          "name": "stderr",
          "output_type": "stream",
          "text": [
            "/usr/local/lib/python3.8/dist-packages/gym/wrappers/monitoring/video_recorder.py:78: DeprecationWarning: \u001b[33mWARN: Recording ability for environment LunarLander-v2 initialized with `render_mode=None` is marked as deprecated and will be removed in the future.\u001b[0m\n",
            "  logger.deprecation(\n",
            "/usr/local/lib/python3.8/dist-packages/gym/core.py:43: DeprecationWarning: \u001b[33mWARN: The argument mode in render method is deprecated; use render_mode during environment initialization instead.\n",
            "See here for more information: https://www.gymlibrary.ml/content/api/\u001b[0m\n",
            "  deprecation(\n"
          ]
        },
        {
          "name": "stdout",
          "output_type": "stream",
          "text": [
            "Ep  50 score 258.17 avg score 205.17 epsilon 0.00\n",
            "Ep  51 score 282.54 avg score 206.68 epsilon 0.00\n",
            "Ep  52 score 251.64 avg score 207.55 epsilon 0.00\n",
            "Ep  53 score 270.91 avg score 208.74 epsilon 0.00\n",
            "Ep  54 score 280.55 avg score 210.07 epsilon 0.00\n",
            "Ep  55 score 251.80 avg score 210.83 epsilon 0.00\n",
            "Ep  56 score -108.71 avg score 205.13 epsilon 0.00\n",
            "Ep  57 score 217.92 avg score 205.35 epsilon 0.00\n",
            "Ep  58 score 203.88 avg score 205.33 epsilon 0.00\n",
            "Ep  59 score 247.22 avg score 206.04 epsilon 0.00\n"
          ]
        },
        {
          "name": "stderr",
          "output_type": "stream",
          "text": [
            "/usr/local/lib/python3.8/dist-packages/gym/wrappers/monitoring/video_recorder.py:78: DeprecationWarning: \u001b[33mWARN: Recording ability for environment LunarLander-v2 initialized with `render_mode=None` is marked as deprecated and will be removed in the future.\u001b[0m\n",
            "  logger.deprecation(\n",
            "/usr/local/lib/python3.8/dist-packages/gym/core.py:43: DeprecationWarning: \u001b[33mWARN: The argument mode in render method is deprecated; use render_mode during environment initialization instead.\n",
            "See here for more information: https://www.gymlibrary.ml/content/api/\u001b[0m\n",
            "  deprecation(\n"
          ]
        },
        {
          "name": "stdout",
          "output_type": "stream",
          "text": [
            "Ep  60 score 226.68 avg score 206.38 epsilon 0.00\n",
            "Ep  61 score 282.73 avg score 207.63 epsilon 0.00\n",
            "Ep  62 score 284.70 avg score 208.87 epsilon 0.00\n",
            "Ep  63 score 248.98 avg score 209.51 epsilon 0.00\n",
            "Ep  64 score 263.01 avg score 210.35 epsilon 0.00\n",
            "Ep  65 score 281.31 avg score 211.44 epsilon 0.00\n",
            "Ep  66 score 267.06 avg score 212.28 epsilon 0.00\n",
            "Ep  67 score 273.23 avg score 213.19 epsilon 0.00\n",
            "Ep  68 score 254.56 avg score 213.80 epsilon 0.00\n",
            "Ep  69 score 268.06 avg score 214.59 epsilon 0.00\n"
          ]
        },
        {
          "name": "stderr",
          "output_type": "stream",
          "text": [
            "/usr/local/lib/python3.8/dist-packages/gym/wrappers/monitoring/video_recorder.py:78: DeprecationWarning: \u001b[33mWARN: Recording ability for environment LunarLander-v2 initialized with `render_mode=None` is marked as deprecated and will be removed in the future.\u001b[0m\n",
            "  logger.deprecation(\n",
            "/usr/local/lib/python3.8/dist-packages/gym/core.py:43: DeprecationWarning: \u001b[33mWARN: The argument mode in render method is deprecated; use render_mode during environment initialization instead.\n",
            "See here for more information: https://www.gymlibrary.ml/content/api/\u001b[0m\n",
            "  deprecation(\n"
          ]
        },
        {
          "name": "stdout",
          "output_type": "stream",
          "text": [
            "Ep  70 score 251.44 avg score 215.11 epsilon 0.00\n",
            "Ep  71 score 205.16 avg score 214.97 epsilon 0.00\n",
            "Ep  72 score 260.82 avg score 215.61 epsilon 0.00\n",
            "Ep  73 score 260.53 avg score 216.22 epsilon 0.00\n",
            "Ep  74 score 268.07 avg score 216.93 epsilon 0.00\n",
            "Ep  75 score 131.73 avg score 215.79 epsilon 0.00\n",
            "Ep  76 score 42.30 avg score 213.51 epsilon 0.00\n",
            "Ep  77 score 236.49 avg score 213.80 epsilon 0.00\n",
            "Ep  78 score 176.13 avg score 213.32 epsilon 0.00\n",
            "Ep  79 score -123.80 avg score 209.05 epsilon 0.00\n"
          ]
        },
        {
          "name": "stderr",
          "output_type": "stream",
          "text": [
            "/usr/local/lib/python3.8/dist-packages/gym/wrappers/monitoring/video_recorder.py:78: DeprecationWarning: \u001b[33mWARN: Recording ability for environment LunarLander-v2 initialized with `render_mode=None` is marked as deprecated and will be removed in the future.\u001b[0m\n",
            "  logger.deprecation(\n",
            "/usr/local/lib/python3.8/dist-packages/gym/core.py:43: DeprecationWarning: \u001b[33mWARN: The argument mode in render method is deprecated; use render_mode during environment initialization instead.\n",
            "See here for more information: https://www.gymlibrary.ml/content/api/\u001b[0m\n",
            "  deprecation(\n"
          ]
        },
        {
          "name": "stdout",
          "output_type": "stream",
          "text": [
            "Ep  80 score -103.06 avg score 205.15 epsilon 0.00\n",
            "Ep  81 score 280.71 avg score 206.09 epsilon 0.00\n",
            "Ep  82 score -366.60 avg score 199.10 epsilon 0.00\n",
            "Ep  83 score 282.61 avg score 200.11 epsilon 0.00\n",
            "Ep  84 score 234.71 avg score 200.52 epsilon 0.00\n",
            "Ep  85 score 261.21 avg score 201.23 epsilon 0.00\n",
            "Ep  86 score 262.43 avg score 201.95 epsilon 0.00\n",
            "Ep  87 score 231.52 avg score 202.29 epsilon 0.00\n",
            "Ep  88 score 241.15 avg score 202.73 epsilon 0.00\n",
            "Ep  89 score 261.41 avg score 203.39 epsilon 0.00\n"
          ]
        },
        {
          "name": "stderr",
          "output_type": "stream",
          "text": [
            "/usr/local/lib/python3.8/dist-packages/gym/wrappers/monitoring/video_recorder.py:78: DeprecationWarning: \u001b[33mWARN: Recording ability for environment LunarLander-v2 initialized with `render_mode=None` is marked as deprecated and will be removed in the future.\u001b[0m\n",
            "  logger.deprecation(\n",
            "/usr/local/lib/python3.8/dist-packages/gym/core.py:43: DeprecationWarning: \u001b[33mWARN: The argument mode in render method is deprecated; use render_mode during environment initialization instead.\n",
            "See here for more information: https://www.gymlibrary.ml/content/api/\u001b[0m\n",
            "  deprecation(\n"
          ]
        },
        {
          "name": "stdout",
          "output_type": "stream",
          "text": [
            "Ep  90 score 247.48 avg score 203.88 epsilon 0.00\n",
            "Ep  91 score 279.77 avg score 204.71 epsilon 0.00\n",
            "Ep  92 score -186.37 avg score 200.46 epsilon 0.00\n",
            "Ep  93 score 262.65 avg score 201.13 epsilon 0.00\n",
            "Ep  94 score 213.58 avg score 201.26 epsilon 0.00\n",
            "Ep  95 score 236.90 avg score 201.64 epsilon 0.00\n",
            "Ep  96 score 245.75 avg score 202.10 epsilon 0.00\n",
            "Ep  97 score 266.74 avg score 202.76 epsilon 0.00\n",
            "Ep  98 score 243.23 avg score 203.18 epsilon 0.00\n",
            "Ep  99 score 298.24 avg score 204.14 epsilon 0.00\n",
            "Ep  100 score 260.79 avg score 204.70 epsilon 0.00\n"
          ]
        },
        {
          "name": "stderr",
          "output_type": "stream",
          "text": [
            "/usr/local/lib/python3.8/dist-packages/gym/wrappers/monitoring/video_recorder.py:78: DeprecationWarning: \u001b[33mWARN: Recording ability for environment LunarLander-v2 initialized with `render_mode=None` is marked as deprecated and will be removed in the future.\u001b[0m\n",
            "  logger.deprecation(\n"
          ]
        }
      ],
      "source": [
        "from gym.wrappers.record_video import RecordVideo\n",
        "agent=Agent(gamma=0.99,epsilon=0,alpha=0.001,input_dims=8,n_actions=4,batch_size=128,epsilon_end=0.01)\n",
        "agent.load_model('ep400_best_2_5_dqn_model.h5')\n",
        "env=gym.make(\"LunarLander-v2\")\n",
        "scores=[]\n",
        "env = gym.wrappers.RecordVideo(env, './test_lander', episode_trigger = lambda x: x % 10 == 0)\n",
        "env.reset()\n",
        "for i in range(100):\n",
        "    score=0\n",
        "    terminate=False\n",
        "    observation=env.reset()\n",
        "    while not terminate: #step count\n",
        "        action=agent.choose_action(observation)\n",
        "        observation_,reward,terminate,info=env.step(action)\n",
        "        score+= reward\n",
        "        observation=observation_\n",
        "    scores.append(score)\n",
        "    avg=np.mean(scores[max(0,i-100):(i+1)])#last 100 games\n",
        "    print('Ep ',i+1, 'score %.2f'%score,'avg score %.2f'%avg,'epsilon %.2f'%agent.epsilon)"
      ]
    },
    {
      "cell_type": "code",
      "execution_count": 16,
      "metadata": {
        "colab": {
          "base_uri": "https://localhost:8080/",
          "height": 421
        },
        "id": "S-41QHqqsr4l",
        "outputId": "313482e0-1bcd-466b-c610-c720c3cf7d62"
      },
      "outputs": [
        {
          "data": {
            "text/html": [
              "\n",
              "<video width=600 height = 400 controls>\n",
              "      <source src=\"data:video/mp4;base64,AAAAIGZ0eXBpc29tAAACAGlzb21pc28yYXZjMW1wNDEAAAAIZnJlZQAAtANtZGF0AAACrgYF//+q3EXpvebZSLeWLNgg2SPu73gyNjQgLSBjb3JlIDE1NSByMjkxNyAwYTg0ZDk4IC0gSC4yNjQvTVBFRy00IEFWQyBjb2RlYyAtIENvcHlsZWZ0IDIwMDMtMjAxOCAtIGh0dHA6Ly93d3cudmlkZW9sYW4ub3JnL3gyNjQuaHRtbCAtIG9wdGlvbnM6IGNhYmFjPTEgcmVmPTMgZGVibG9jaz0xOjA6MCBhbmFseXNlPTB4MzoweDExMyBtZT1oZXggc3VibWU9NyBwc3k9MSBwc3lfcmQ9MS4wMDowLjAwIG1peGVkX3JlZj0xIG1lX3JhbmdlPTE2IGNocm9tYV9tZT0xIHRyZWxsaXM9MSA4eDhkY3Q9MSBjcW09MCBkZWFkem9uZT0yMSwxMSBmYXN0X3Bza2lwPTEgY2hyb21hX3FwX29mZnNldD0tMiB0aHJlYWRzPTMgbG9va2FoZWFkX3RocmVhZHM9MSBzbGljZWRfdGhyZWFkcz0wIG5yPTAgZGVjaW1hdGU9MSBpbnRlcmxhY2VkPTAgYmx1cmF5X2NvbXBhdD0wIGNvbnN0cmFpbmVkX2ludHJhPTAgYmZyYW1lcz0zIGJfcHlyYW1pZD0yIGJfYWRhcHQ9MSBiX2JpYXM9MCBkaXJlY3Q9MSB3ZWlnaHRiPTEgb3Blbl9nb3A9MCB3ZWlnaHRwPTIga2V5aW50PTI1MCBrZXlpbnRfbWluPTI1IHNjZW5lY3V0PTQwIGludHJhX3JlZnJlc2g9MCByY19sb29rYWhlYWQ9NDAgcmM9Y3JmIG1idHJlZT0xIGNyZj0yMy4wIHFjb21wPTAuNjAgcXBtaW49MCBxcG1heD02OSBxcHN0ZXA9NCBpcF9yYXRpbz0xLjQwIGFxPTE6MS4wMACAAAAJoWWIhAAz//727L4FNhTIUJcRLMXaSnA+KqSAgHc0wB9ScAAAAwAAAwEw2XdcCiLl+E15vQgIsAB3Vry0e6SScYxwsWhAi55XfKlr+c8FDO85gJE0TVoAAAMADc0AF8wsR06FrQlJTw8NnzH9pxdx1Hco+BOFf/VRJo7+nYpHJaHf7ZFXL8M+zvFRlFOibDZTW05O2rjm7ET1Em9PEbEl8sr2EDnPLaJKhrR/6sXwq1LSu0la4NDkkQqjMPqy4Fjn4hdeHve4Z8XYdTBhPXMq9yJM3dXfjS5Qst582r+OCNeqmuUOIsfO/uA2MdvBZYOubE/IrVgbrBjNwbXFIaaOmMsxJgYXIlsZWKQNrYD07mgAHiwB6PFzko5LnxwgjpRk1l3Sn5a+BFky7QqkRoo8r4fmZ5ZRbrZE2QRSo5/rf6/FCi5S6Sa1DIJke16FJxfMZmQw80YXJVpwj+1eoUHDG38UU5LsWCyCzTfC+lMlvrfrRJ7h+ikdKAfWt8f13tO+VVJnI4w5D3Mctsv8ErbPf2vJeTFUH09K+Nhd5u903tPCgib7jqbi29xMkouJEIfly+601NUUOjj9/IHgEDwLuDUdtozZRvy67YqnLRP9XMT0uH+43hOmoPAsetOVdumLqKDO5eksS/OtFZcsmQz00d3bEzoQ3EgAlK7LD81LY9qfhB6BkrKreVcAP32yJ8kYLKHw+SQG39x7cihLxlBP0ZUMA8QeYLwuXQb5+V3najU396sobhYqkNoSdSNXZyQczstp+srs/EOMx5wFfgqsZchJ0TXxhQIAhT8gwuuHa5mbLz+jylZOMJHK2+lpUxjCrzLb7Cnnmy5H9XfO1VHynhzXqY2P4MlvD4MMOykekOGW23D+vhuxMgqPo50s/h9r7m8RSf0k5bDCQQMAfCJIBXxcPTLhzf/nj+5mEjXh9eKjbqHpB2A7Wx0oeecJQagipCBhA8d8KyuS7xuNzBo42O7diCEeW7qdTuFoKiAtUxEQRgnCUTJzDt2ZBbltClFFYkIT7/07gvDCvOD+0MwvAvZmuowvAGF85/eRoYj8wAb8GLyp/2v7WsqAFaDkpOJ7dDRTQIcguEgNlsQP5qDQpGX5/NjYc4qeNr5E0r9t2FA/xpsbyp4o2HqWb9L2axZCAsyTT6zu5ldHB2JVuYfBoK4PVMumcJ9/0PMSntWyQONliuGZxw676dZXObJmnRmitU0ewICWZQC/gwslcdWuKeWyhkx12NkEQzeSmqBZCxVTjeUIRjj5qh2GWl+o7SodW51MLsyoPcQLjFFSDDTMRYR91lwWgMeNsU0VF53HJ7lKsjWpeSsyPgKZka7QKd3LC8Z0yghOTdTb4mruF/uuAIrnsFPIUzgIktt1CpLM2wffxqV/6OLHBcQOS4Ul0SCgXbZ8ORBu8g+80MB3tu0YyAVFpJKq7HVfAr0q5YD6Gw/Y12AxZW497r6UegO+Rn6ksr7+uZsLAVun9Q/M6+cJF7LhuE4pLWYPSTPDBfJ7P3ZY3bt8FBAABA4qpgqYTLNkvtWG50u7fO74F4tOVEmmU5ifdIv3Qm6v5okpzf2t+Xiwv9SONE1L0k4+vSnz579j9i/x1BO9mRGBv9gHk+i8d5Jo6/FCkM9Np9gKqdwSgVgrDkYi39/EBrL/uBRu/2liS3gxmcHsjeUblVjz40vq1gtjDQxoDzYyEjEgEcjIItMI9mgx+AIKh2NHQ9GtrIMR5xKO7D4Cg+xfTaFNHI2yO3nVK2kujg/t7BSQXMkKM+20/TAnuwqo2yICZkkBFbhaS1//5lMqefzuAFRGfauxKX8r5jKHLIYG3Q153LmtgOJflOdzGNQLfwnjPgE2Lrctp+IlcwPSlimSAgRwLUfI8+qpFUSHBy+oDjU5Qy/WkH6nqvoAcRkq9ihNyPqX/gb28JSqir5yOoco+w9HnE5ob+u9/5uk29cM/jN8XHVjPIqSi+7WAyyEPRMwRE1uvRKS4x0fEBp6vFWHMZGhGtVp52MNMxTZhLTeYpAAPf/Ly2pVuc7g9JLGIZ/1s6NnEi5cbhWj13wskpAoji+zga8ZnWX04hstuVkdNRYwbVOZ6AGMseamhTD7MaV6rwer9iP/U3K003b7xIR+YJuM4C4tC6da5tNODRyj9vZn8NdCVXpu3TTzvhRUztfawvB7YCCcjQFEYiYUvoH3t6YZuovzuJvaZ3+g5ywRbZF96fPWl1WRIGpx+RP+WIFM+VoRpbu2aB7XHCxWLRrzTqot2YrwtOQzYAIxQ+dY1BFDMWgUIX+qBd8gH2Wv9IdaUqbsS5FIJXdz6zyPTuBADLS47fl2cec5l+ZpM/5OfZaM13HC7Yv+IBo0KRc27zqx7163I9CWunP9Uvh/vV9yasFjbyLiGB64js+vCy5KZjO0B7bIXzSfXLRjYH+fPkoc+WSdsy4pUgr++e7Egykn2icqENzppA7iEsY8itM5hH1r2d7RFAhBPNX/bvei5O7qmFBOx71Lmb3kg75oIdLo/MF7ZR/5ybtjWPdZIYHnUisGRGYs61baS5/91c7EPPJMf//576XBh9PnKU8Kyml3Hz3Hgnu7tIaWIrlJmGhfmgORmpT/RG7uumQ96iMTEsnsimvsUvdH3u9FgnHifSXl3TYbGcTS9q0aVXOLNrWOCvr2iw3DsxZso5x1OTijEFuy2wNLeB3UdowInt2vJonQ5OWmUatOAvxzeuo4uezp8wJpJjGX9JHpyG6iJT1DLF+VIzkAwNNMjRNSlT5OOqyUMflbpmRystkWwUE4wnlL1O3PuL15XUHTE7TU0yHI9GzjVX/r2N3yF1oJTQD/Po/UpLJnlx5exKE9xT4DdDdiciFZU0cjDUv/3XogA8bkfR2Jz23cYVIlvFuG3hNRhEUkk3efIHTXEUml38wOanbtDLe/yGh3BCWOYb6wgqLJ+m62VsAjhFKVvmbp6Xcl9QgmWwwyg9CPXq+jtKbnlW3UzQgZ0/WE4oDa1OGSZjsSxaHsYDL5WUKA4GScJ8ELDwEQJxP/5xm7QDVYeuiB39FC2fuLmtLx+hgY1gjU871YYurwMRN/X6pZat8bRxEfnKYNP6ZQ289ZXoKd//owqCzIS3b14HTft7MvByYFiBbp6v5TZSpBsXb6QuO5sqKyqqqlcIbYz0MhyC0SKBKiUZNVRPv6xRm1RWk/xeTvzsr7sct9axeTpNnxsp7wIAAAC5tqrVpn//HF62jgXNkE5daY2PMDKiXmGjQ/FkoRFS9qMQPf8WG3E/bjD9D/5XjfO1uAADyAgAAAAwJLAAAFQkGaJGxDP/6eLa6ZRBgJHACCxXgtVo/PFnq74kLomEvYZWuPlvc/Q9f+3UJ88ggp4hZO6i/7w64KbEpjMyoF0n2Ou0LwYndBLE1stIBpLWdDlR0H5zH32xdSi/gQQLPoAwLN53aLTpeRhyLoA4Ah3ciW7VfgCwXUuwFzK5aJmi7ssMdOuCM44gEXvZbW5E32BQXG4L4i8LN6DFo5FwgRstX7HqpM2k8vHptIow8XBpy7ox4oEkRTlh2+vjgOlCLZ7yRWj1LRCGW8d5jwQAQw24mx53lY0btRlQSO+fjg2o+hdOsHHYT+8T6sYr7UKpXwyZjYr3F/vnh4vFAch1frckvloNvUcLiMr7qvn7/PB3mV3QOwlRJhTJACZuxKEbG6pu2d8yRPjakBhNWhRloWmCIgk38F3c3fIvL51Artlq5kD4f+84iP2/8n1wQGQfonzYnrdCx4PtiaVduNrQmeMeFWqDzQmyVB3Hcb8y/pDvqXnwbpKjdCqT+SpW22D6H1PT69Dfu54MICGdWMcX9JNddyvKSAaT0TYnmihSbIsG0RZhic1zYR9xlxgX2gg2xqlfuGM0mLQQIdV9bbAx89husVEbFKO93WFGLrw7jVFs16+Cgt1hNFyoHCk6O9SjWechw5H46Cs5Q9yaualAa2mbem47jzNZ39i8+vYGqMGGgYwhDVFK1eJC5VsijwbsqemrIjjFNwWsSVMdJILdcmnqHg3wDEbi4jfouEHN/c64rm5/XZf0ZDjsajOixY5Oh7SbmgrVCof+kshkHKSq3CQrwFdoP8r5EuD7auAuQAM9OeAaEYvsPwg5+qqC7ym61QBv0KVH1n5UO9vfpit9N9YR5OYItQ5yOXYbajQCYhsih+lZAQa1zwH/+3mHoxiXtjkQeeSm6WaojLXnpkE6oNUJ9RDz6l1yqVOmU+tPJ6pUTfX/3ehH8xXPbko8YKPk9Bm69/Jyo4/bexiNAP13UthiXaypfnJLZuVEjIBp5sw5+/6vr9X3/pqT4ZSQ6ip8MH5pVVoiyaIh/CeHoeI7+6gIgW/hjIOqhPhqyMV+M60PWTMx9x6RREOYyOY11gj7FDycRVUj/6Sas/bB4eXpzyj5yJb67Qr/ezNtjiHqzKKg8unh5BYoTO8e+wCAabvPLlZDDiruKv7pq/DrRleIY79q8k3NxGoZ4CcIpCoZItcM1hNbwE2Xivlq3qceWz+5j8uJ3PcjjY3Oj/DP51O4mANjFTwDwafvh5iRTVQbQO1h31fvE4XSzwWMdsmgY600+1jbM/GrxL6m+O2LAqdL66tiWFBFiOZPQ1MnDUPxGuvnPOViPAfEcAN3Ket7hCon8Gmi/q3IXwk+HENG8jC4HD4rPlYAnjyOfOicgyXPSG4Wmc84/uPNiaY9eMN7WgzUvZ16QMIpuRuGMqLzhE+96slpqGo4WORoL11wQGLK9ajBk0y3f//LRqSQe9LZIWXlg6ndWjzWInC/EYVkc2fjaycYsXnAyjLkHLynJSUW8cuK3UsnBN4oSshyr7glRRq/o3sE/YB1c1rkHvepOoWeH8RNGIrCESdRElTAkrdGyGXRd5GXha8yQluOJA1nkQXkR3Gaq/5b845obFEuJtHFeYLxC8AqS6HP3jFnSDz189RB7h/7Wvz9sr7snsfowGMN8dX75vGldE3nDw0NWYDEo6imH6/mBDgpqf5L1rrjBSHUDZ+IIO4AjAtPdb5vR55WOD0VlpaSf8vcKu1jTOypU6ahQOvQTkFT7rT0tDTbVYQfpkXwA/xvUaSRo6QFCx3xgN6edwAAAA0UGeQniEfw9dvymEwAWiRGmH7w07xaIKAEv8OzXCsnnG6LzvL/lv1wSzWVdWHz4nQDkt+NpPp4Ndx3GgH3r6vy4TVZ77no4ukxhbY32RWIz2MYjCmxm9j7Od6r5Vfre550CtJLpghHaaf2xygt9etImS6iGgKs1QNX78sGtG2wG4J6k+VqNneqF7VVWyo5L60zF8zy9oMzZWkdDQJXFoF3Eb5odZ1AkoU+XW8awnu12CqU67spiWytwtIgETgjHmqxLKjHholL4RjY4JnIWIuQGjAAAAdQGeYXRH/xS9n0kC3HAAWBGgLB/s3pX0nEgW44Wo3XJA+Sp9Tb5E6A+cHpRJuAqgWcTb7IAx7T+HrWLbfpMs6yn0Qcr58n3WOy/TfmfxBTHO/1aaEGT0m8kbzSGHEvUziyUsnKRLlHzA/RinoxtgRG/6/xnLKAAAAFABnmNqR/8Uye9vytAgAuohMW2ARJP2zh9Eka5fAlgsyJKPsFh3yb8boK+sGBt58FuVm3v39jGMyHUlcjPkzLL7Z79Bhs+UOkJ9/YloKIwhvQAAAIpBmmhJqEFomUwIZ//+nissbPaqMMc/lgBzh6gBLb1BnoaTFL7GzkuAfOpoABY0/omda08zinSZF01IsMiglpcwHQT3TMZRJ9XOkOQ3VwDwgsaezdx/3ewux1cjTjoGKWpssh+DB4KY89iojNS49jTylI7MEv+DimvUXFeoLWsOsLbHXPA68rwggcEAAABQQZ6GRREsI/8OdvsHO0s/raHc3SgANShc8dT7cgADt+T3I2kKdetmp9NB283XdS1QJ1VKMq04hMbeUXDqq8Aq2zXO4+ZtWWc9he7iIc90dsEAAABOAZ6ldEf/FMeAo+8ABa4r7Mav6iQcp+Bx9e9j4AxN/hqAAue1OYPYM5LgZNb4hg93RAfHt0Iv52lr+snhANP30rRkHD4jsalVwMthc9Z1AAAAOAGep2pH/xUmjpqK1VpShfc1AAXSSfATjRV1J7Qqf91a8ytTfWFM7gUUpJXTKKAgYuzkVcYQh8bgAAAAQEGarEmoQWyZTAhn//6eLdjoYgpFgfSgAFa0+w3js28JwLYArUtL51OsaYiCml5/Jyu2zoBklqCYccQ//LPS444AAAAxQZ7KRRUsI/8PaOQwABBjPtYPnpxS//XCbQZjFj1v9023YFGtkRhrZS/DZCQLPZCJgQAAACsBnul0R/8VVQIAk/RJvJv+uo7+QAEk8zvMBPB8QDu6dvIAnq2yC1SPqDugAAAAIAGe62pH/wAAAwBHfkceZ8Q8ycVHU908EQTL+MsAlIHdAAAAJEGa8EmoQWyZTAhn//6eEAAAAwAXQHnVU57R1d7MqhotA1g6wQAAACRBnw5FFSwj/wAAAwAtgUJbrQgKJgiDOjrS4FcUKYTPwGYiTcEAAAAfAZ8tdEf/AAADAEdYksrOXnJECHQuAATn743cDQAm4QAAABsBny9qR/8AAAMAR35HHmfEPM/WUgtFuFNeTcAAAAAXQZs0SahBbJlMCGf//p4QAAADAAADAz4AAAAeQZ9SRRUsI/8AAAMALYFCW60ICiYPrnD/qusI36MDAAAAGgGfcXRH/wAAAwBHWJLKzl5yP1mED1kE8BTcAAAAGwGfc2pH/wAAAwBHfkceZ8Q8z9ZSC0W4U15NwAAAABdBm3hJqEFsmUwIZ//+nhAAAAMAAAMDPwAAAB5Bn5ZFFSwj/wAAAwAtgUJbrQgKJg+ucP+q6wjfowIAAAAaAZ+1dEf/AAADAEdYksrOXnI/WYQPWQTwFN0AAAAbAZ+3akf/AAADAEd+Rx5nxDzP1lILRbhTXk3BAAAAlUGbvEmoQWyZTAhn//6ePa5VqJGRwBDQamIkDj0rIGT8YbSOv60FSQYjgqxigEMAAFlARLS/O+ajR+9tGNeNR6MLR9sGLJKRFIOKzbQnRZqATJr0XJkHLi/ZoxD/zh105nmj/Qqk7Cz78Nk029mkpctXTg5DV9r8yz8kBMPlNqYtAw/skRHNWZtcNNtV9wTfwr0GEpGFAAAAKEGf2kUVLCP/EUPCAAvL6OB1HNttGAAH86lHGtIwbH/l1zjzWBibSpkAAAAaAZ/5dEf/FzMzgAATgzuSDFGR525KtjzgCXgAAAAdAZ/7akf/FvzNER7zDAAWKz9C3SDeIIBlrWtcAekAAAB+QZvgSahBbJlMCF///ozh86D2vwAJspWhRu3kNGprEOKh5o70SVlSzfWaW/vOGCNGzDV92TsBtT613wj450LEz7H3vlt0yLqDjT3D+oBeknoY7cPOl8YCBnIdkLtXllxlpk0CzbXuOli3uFb3IQRS6Rp+2rJ45T3gU8f9JQcdAAAAOUGeHkUVLCP/ERtcckkANkJWLD66SpBAcv9HxVwIt1Zt9QIAHe64ISRaAtwI/mNUPfibtzDDl4tbQAAAAB4Bnj10R/8XJui2swAA0sUWJc6b4YdSV13yJcJA8pgAAAAkAZ4/akf/FsmghWxI4nT7EkgAFr1Csw3XpAawZuEuSFC8cQeBAAAAwkGaJEmoQWyZTAhf//6M4TPevqQ3Rw02tgBMvChL+0eUCfBBGz0/hqb7Y2Fo4bs5BznQgPHkHPK3fi6DLzrwegtdA4TWB8iUigQBxz2KsAHdEAl+hYV3dzMSbclLqAjsyQ7Iu8CgpSkLz+PHnGSCUlK5UCSDK6MjrQBffhaqCac8w1LH+2AlIqBWAAADADa8pjO1TLH9DWSNBoQpAHZZDKJfIItOI0td0iFe+JTvz102z0IZYf0g9ph7UaNoD3sQ1gf4AAAARUGeQkUVLCP/EOpYzkCNP2gs8CUr64RgBrcAuCTVruPW2MTA/BrAbo1gV/ksTBaUPzZWb8F6evVtRSIfIv+qBq1zkgJhtwAAAC0BnmF0R/8ZtVsW0V6gNmADFBXoUfeGgl9jLrQWEAB69gSfRRz6nkvKkkJ7qBwAAAA5AZ5jakf/FdQeul03JQAXAZ6jfw4Fzmzvzp84XD1Vnq+hHeq7LZaYOfOBfENVP2ZQhJA8m8W7ogYvAAAA+UGaaEmoQWyZTAhf//6NCwT+kQDtrXMk/wAmMtw/4P2nAjVbjoflsxfXVsGbG00nbLreYTCRDzWOiwk2Zo/IlayuCJVnOuDq+l8WG8nLwU+EAGiiMzRuCCyT6uUgsAdx7ffR0ofsqcFMdz2HVd6cRIim8ajGAXLY517tG4J+2OigAAADAB+AQzGo6GMBum278SefXdfdQn5Avvu2qZeAoizBUhCH7AX8TIbuAIpaSMEBo8JpBd+h8NidFZefx7EJqSYtRL76ryEflI1ydlxYhBWRFjtdLJZWvEwdTNGcTe2o8ujslAWGfxDouiIw9O03BRDOYEYI0WUImQAAAFtBnoZFFSwj/xOshUPSCX/hgAkKcxcTlgYOgbjAO+x0wHeG03c+E2GRuIEudKHR+WXJ8N9WBRJNpj9e3LrwNPvIp0+eXmcMNjBU1YOGn6s8EFBNSqjZ+FOXzgqZAAAASAGepXRH/xloipF9xPe++7Sr0BwdkVROs96VQAuNkbwbpVe4A9COdRxINQ9IgIPy+XwtpKGiXsNo8qoVqV2j+UJGV0ADMTaBLwAAAFIBnqdqR/8ZpG1lKMmX/DC9uWACavq4/jc85t57wsvoPA00Rnxo4QkFDtAUQZNhbHubTAQZGWTbypyLDedT6285sgWrCEP2Xl3IuN4VyYEJCDBgAAAAxEGaqkmoQWyZTBRML//+jQsE/oK3C+b/QAkjWuxYuH2eQkFd3DpaGevu/4pyPIakBys6JyVz38/nb9ylNYLTq+5/48MXA3JTfyPkJXqTqiRA4VRCEWonlDcvaFjhUXUEuGqAAAADANX2BNqwRosYNo6oiw3iiYVHCsEb9OpY1j6gFHE4rqTR1SlOw2d8y9LXvu1qVS8+8yxLqTutZAMt4HH6fUF8hnHvftzK8FS/7gySUFYTP9VJMNbejj10Rkdh826gwakAAABCAZ7Jakf/Gb3qeLdh/jvZ8V+/ratPjiCgE7+9JdsD6tRIANC5AYNOJAbsEOPDxGGsOTKGagZByH6y94p1aP8YiCrhAAAA20GazUnhClJlMCF//o0LBP6d4t+/k8kAEjGkQp9qIkc/LZ2SWiaKHSfDXsVHx76bRjXFIjxDbztKju/bJ8kOrpJe/Xx6W9Asiddg62ipgpSOGNT6AsMl+Q9LFBFimAAAAwAAFS6ORLGkGsvqYhtWNuOktgk70xWTZX5eYxxV/xWlsmqKfwtCj1wklhWp6Ll3u2qZd4XuPRekK2VVJmT4KiASZJTNc6DtmIawXlBYaUiTgI3HtFYm/x6Hz7eTxI+lZgaBCLGsgD5kYoSSU7OBNcN9OCfqAPFGaLG55QAAAFVBnutFNEwj/xDfDdKpZ6gFoAEvlslaTJlSIwoJKQ50vUrqGvAPeU1XyBS+BvQc6zrD3M95DDdCqSyMKIUiCui9FuBCea7/J5DGroXMVFwfNpAnYB6QAAAANgGfDGpH/xXfUIxz3xKHGZT06ORH2uEV59TESfYiwLeCduD6AXjPkDLc+MXvFAexu4EQb4DUgQAAASlBmxBJqEFomUwIZ//+nlnsozLQKp8Y3chPHAEEKhMYdH/KvmPLdAOicLVe3pvEdrsd5dalf1zJSN7bhDydVticoZ0oPXuB2zTcSiCbAwqjlmXYZpzngi30ikmAJG6n8qR+qSkI+FFxXv52tZhZQZTKMky/ePkX0FfInEGQ1n3+RV82V5/S+HCa+aR8VzgHWF3eCu0Gg9oTIsAvG2jlhA6OKHg0PxwE5ml+kT8IhS/MBzT+icoV85JI5HH2PQkIsWJjxpgs96J/WR6N9ENE7wNj09em9L0cbrGwd0wpcN/nuDu5WLC6SKI9fcrIet5vYdM00CtGfXF416Vz5iBQ1PwYtowSeVYcLBNEwYYGC4gPUv8M7W7AhWdTybanIBg8G0BcIbKJkXFgBF0AAABdQZ8uRREsI/8TgVXyg+nzEawAPvPoXv8vTO6rjYbYGpfA4ga870nN8Tvak+jhnJWGo0qoMPTeacHbteNhsd6ADtduZtoDN2Iwz+NbvC+2qe8KLa400RfckyT27oK3AAAAWgGfT2pH/xXTda4Vgap43G6agsAFtHGHzNQdrxoft4uodyXB5v/8ZdP4k6POe1jeUfcmqCUSi7pIy26ZRGQJmZU47kMoA1aLAaggGEhPI6M2HFBoRS3A5YA24AAAAQpBm1RJqEFsmUwIZ//+nj3z+/vDcTa29N4eCZEASwAZTaozae0J0AOL/WL2rpgISqh+MW8cDDXWq6DHcTz2qet/kcpO7askzTIz+85QaD6jruUgWjqOPSuO+pWLLBw4AHrzIWA5XqHhYG9ym+3Z9y2acEssmziC9afTxF+9RaBgFOERzItN3tuC/p71Fq1smkCKKd/qPFUEIHLhzhhru7FDxgDDaLaGYohYwOkAwU7S6yPIGkyHgDKvI8FW9N6bgFxmkfbG4npKFcpWfbHENtJpWEzKhcTOs4K8/hRfAJo9dB1SXn9xQAYncJAEBq/duoRPy+vCQW8+z3T4Js1584Xc2QKta7R4X+2PgAAAAIZBn3JFFSwj/w/+1qz5JKO1UhAl+dSAIe5BaMk33d1ODo0KONZEbfRL5Vxa455h4F0QXZxa0UqCkflBU2m4eOONsqzF1RTsTl1Qu/qsPImbpv99PJBtrAhDePGfzULTJsVUzN6DmIguTdgSWawT9P5ssuP2r4QACoaOGHZU1TV5TXvfthgMWQAAAH4Bn5F0R/8XEPYQ9eZrvgAGx+/TVoLt37ksKj3yI+MMM6s6YExCxYkMbH4B/lJ7NJq4rVR9BIb2pRoKGENVZ+Nv4wml2YA2y2mQrjdeKFyCcpHHdIf+KOPIkJ83Ur5fwF/FUp3oRZJaIKDhB8OvJdAG0DxvL06gV4sDKIYAG9AAAACVAZ+Takf/Fw3Az1igABGV86zni01kMGzxTrDsyz6VACZLD9N0nZkR/uJbe0e1YFIjoR02a1BsIoNOgnZkYz86fAl589H17cwnAoo93XhSB2qsB7C3DyQEP3K1MpSufs2O8N/aF75ubNhEQc7YhD8FGB0026pFvgsBAO4KUL59UMr2x85zSBhbxvpj+/gqZJj5rCuYApIAAAEHQZuYSahBbJlMCGf//p4Usz3eD3f+PHYsavsObY4v1awAhcz7V8370cMc9EUCtBN/U7g0k2/rVE+ECNBN+utv9Ziq4fZ6SpT9i1TfXBJM/WXmid0OA8QtNnWCDSd/0wYmDjMSsMp/AVahbVtfQaIrfpO2VVQivkXAMCxiByuWwVFN20GS2IdEbm8hSTJavz+gBrl1y7N2f/Yh4aGlAqAysNdwFYmJHVf2OnOAkSFLX2W3bLjE9zikU6NO5kV5wmJbEr96IL7DKnZ/LbbqTrFbmcjpZRh1LUr1ZInoOoL71eUMnwVHxqqYd5tiSuQtfmdBEJKIxaxOCjSKvO+4vW1o/AHQH+pAF3EAAACtQZ+2RRUsI/8JrGyvin6MaUrPa41Zj5dhwAtmKIJAzIuIDKghLrabdMURZgmI+JmzKSQfd42LhIfcRrwdBvkn1lmHudeFRsG2qxTfSf6SsyTAJioflwrviFg2SvoNZW7BDGwpyKd57BLD5VBpn/jyA+VddHV8ZAnCmI2udWXzaEI+OCDihP7+Y4AT76D/p3303MaMbA+kD6Tr3QACUfN35T7N2R5mzrK2aZ4w3oAAAACNAZ/VdEf/Da48X6ABfgm6RosXafoog2e8Z/PLy9ElXC4h9KZynC1vdF/0I0R4ZYqWkjkK1p23HvsZSwhtjUobRSwzesOFP78Ykqk1bTkP9xqXs5biEFJ2epa63gnLK4xful5H0xkvE+MgcUyhozD627qV6/95GNaAkfaKXBCHjM4BrnohmzNQwN8gIAlZAAAAowGf12pH/w2qPi3O+iQfxCRYAX4Qg8vhqXssqIC5b//D13Ii9C3wmHA6+28VATEcuhuX5RYCtr7YrhL9kIGjyHG5WPg06UkySPQaJZWxUW2iXq36c1XEHttwaWfgs7A7SpyiBJM0n3rprOp/FpRRwL+8+lgiTfkjxpabKuaLadldh6Omxz9DT73GrhDDRp4M84NqWM7fmlCACTE+bK6wQ9DgB80AAADgQZvcSahBbJlMCGf//p4QBoe79YNkXvt37ukLXxncUY/dR3abUB44+CNk088nrKJHcNd8HQk7Fd/vPre3KK+lhYKO1pZe3pcGqM0RwsGlSBofGvRXtl78/7Qv5BYJfUw4xnEbkf/VlJqMX8A8JFZ/w2BxquCYsOkkVacbQb0Xc6QF9EOahcw4QjSmpCGLFB++xnR7d6bBPGxnz5FcDCf96EjH0DmrGAdL3v9+o/NNdVS0JULU8wcmfwvXE/7g0lu44PdY6psMrz3DHeKy0+F5J/+FkFIyDy2VkFCRoyMk0b8AAAC5QZ/6RRUsI/8JAgNrQuenM85UGScdZ2o7GK5nSIAON1JkV+6ZYu41MqDipaDESrA6Vdy3HzcAxQRlrbR70d+i98LMpD8dnm1fNDRsEWyerldvPVSF2u1AGYn55nZuMu59M6lJQHCPp3zfMcog3VUg4XSnoWIHvNkqTjVWITs/yiuBhALVaV5eQ6MMhybN5xixU0F2QVs5YE769V6QQm7ozJOCjbdr506wv5IXP/te/agQp7d1YqIWGzEAAACrAZ4ZdEf/Ax+ANuwT+fba/JZJkZfJ6XuYs0GRT6XQAagcIFoYeiTgo77mgR3rdxhz1rdfAZext0UWEGxBuzhs3oSDMQZ3+81ygJtmVXXRCQIVm+X15hNFqqY1OORDIm90J670U5I9n8xu8efe3Wr85PAnV6AD2DSYLtiVtaDZuLcaYssdjAiughV2f/rr402xvZMtG8w+wYhcGRDIa3ABV+/O2J6bt8tO4NmAAAAAkgGeG2pH/wFzmpupnrAAmTaYGvfDF6BDJ4lCetuTbvvi3VEmRrFyj+fuC3uLUt5tXaHX+X3dDWSqtZxOOIRUKu9Qv58YjrthsQX7ztZtMZYQ0PCwSW3bgAHmat1YmCx+78xqoMv8on5kJxzTyY/WVmM2YfRsXun56+9yWV102cEFirLA/5IDa7qbx3VCNqLvegoJAAAA4kGaAEmoQWyZTAhn//6eEAEW6bbYH5H3JtpbpVhUsjA5yNQ+bfqGqBQGOgCvFpP3D+4Gr/5Amx/+HdMaodCcBK6jEBr+aUV2IWFEa374JuQ+U/+JL9uqgXCNLq+zg/vXXlzwLZU6x1++THwHjQjpbcGEkCBl+2vWahzysoECt32I7YWJxwRFB0vqqvyRWcCoqYp7hoqQqL7cSy8ZNa+2CgM0lyi+Ku/j3vPytBL61IEbeZJmKUoQidJcciDDNXHrhJ+Jmym8JpewoUxn6d0RFh5OWmtrzMyqpfR0NhTjS3YEAlcAAACBQZ4+RRUsI/8JAgNY4a/PZUERQ7XHudonrjOEhS3AA1sPz4hxRocuwXtxoF5tA6gTrqjCbqvaWiQ5PyDtDVUGOfaVyAh1R0CxNlSUtRyT5yRLMGqdMppJQIZ9W7nXHTOPG3KpxNpW1xtu96+7NB066fGJ1V54E/SAqITXd1L3Xgd0AAAAhQGeXXRH/wCOr1U8XW28+4MJQXiSqHZNuQM6WQAFd4G4MhiuSYfZY5gdJUSjnUg3A/r+uiWgi45YvKBBrIVVvHh7I+lMmOU87GyR+LdMK2nhCAxPRF1wCVup/bb2kL/sZ/bo8KY9GfIS4FrwubbizuXUqY9EfJNsLk84QFl/YO6wJKTQARMAAACuAZ5fakf/AIp4VjTS/Yp7rXO9wYoAwYj8bkAFu8f5+eDkZRLRsg7Z7z0f+VFP+Gs5CficPfNdap0eoYlQTRXZbI7TLsAsvljxTCLzDyrFL5tmHp6tqjSX1mNtV0bKY+mJ0/VOTymDRZjldNp+ppYJWSdrZ1hX/9ZWMdkcytqkPwu+/Fdtsx3VMoJdrj9F6UGFXA0CUyHHSmZGRQPRJWZeRZPu3f/dA09kZi/QAO6BAAAA8kGaREmoQWyZTAhn//6eEABuYZPcADtAHQQ8eJ6MAiOWfktWGtnFCrXeXffh8kK2rYT4JGcGudaKyb2HvOUox6sxoyNNI56meG6MzRV4xOQetNKKaXq9iEphpADb1TUW85w/z/5Mf7RFm+5D03Gbiiv2i6qyasFom54IYKTgQBgr/QViPMx/ZJYd26p8hAn5+ttohG8yjS2+GcQZ6yPHacmTDj/6TegitibzNYLmGBFDD6zPc1QgvrzEq5kyzP/vbpRv9T2gFSOczVa45utljeeARW6kIB8atMo0Z7D1CEb0yubJnDMxGC+mpLXenZgeUg/wAAAAvkGeYkUVLCP/CQIDWCXVElFhWY1uviAE0yZ3PRfq7ZCaGlmGbfu6Ng4nBm/dFh/qb+BKamk2rpjpZ9iE0/BYqLt8Wf0xAf52E34ud24Y9fGpJmcTGu/XCcDwhlyErUpImw26Tj0mYYVx0kdcCWhxQ0+ZozzmiteP18QoiDC4rDLq/zoogggg0MZFiC/Rh/kjCwYeZwZEK1dr2rIVmzrelcNKY7ptflKwDQ3+yykkQa1UC8yyAlps/CZQ2q8ANuEAAADSAZ6BdEf/AHEiqCp/KO3InacVjOSlFmJ6I4R2SAExPeYtmH/0sIeAKVeUvi3XtZkdJ5lDn4nxk/6oazb6oA1o0FSw668dVTL1/N7mWdkZrWOsztnsKHG5yT1GyPW1YVZyorZnkEUMykdyZ6NxkY4afE9j8Sl4jgDavAtPef/EikjN9ni57Wqic+HUrUfRsf+f3ABxbDkyM894hkFg2yxJC+MDiMzUE/wK3b0bhiX+jSimb/QEkxOvQ4RMWpMCDuIvwc61ci6Ok7FqPgEgB3kBADpgAAAAswGeg2pH/wBxYBBPuj8tbr8LwAA4rmqsbqzc7S/COSZsn89Xip10k1ha/iI9vg0r6X5VjuGsv9IBzTiTomqWY9UTI3iQ9XsHHG+8gdRnlnVH+Y2UvEL1bABFZqMDeC3iyrYUrwC7zhQGz0vR+iGRxYwi3095bA6c4SvWssFcz7k7JvnbFM7JpMM32n+ZrHew14NVLvJWQ+r+FAnVOg5gcxp72fS1upL0vFtC7AKoEnlo0OaBAAAA7UGaiEmoQWyZTAhf//6MsABvvW83bPRMsLSBPeih09zaxkVkeRci4BkFdPZBPvoyRpr7CD6a0fg8p9vjkCfq+vULH0qFkGqWUfDnd/zFdK9MVFI14xgnLCJsj3UbXIF4U4H8/1gKEn9aVVLsyK3EGHK0Ey1lrh1zNjIXXeDc5RqGQ06nPjeB4eq+hAlWnTaUtCcTXLB79OG4iFAY8WRDNlzWdmaefqkj1q/n1XyHPvTxs9KoeEhIwuUjqVvYyJCjXwPA7TO6IGIx8siyWunlx1iMW5n/sFUn75lueG/O9R576uGfBoAzWMqN7cACpwAAAM1BnqZFFSwj/wkCA1gl1Rv49wBExcB6kbrSFM+sGhjF75Zh0C1e9d/iWRMKKh/xmRS8cta1/A0KxZwRGhwDhmLuTCACgqkqa0qivf1um3USzFX0kKoWHI+wjAo4FKZEmEC6QWqgIAILZ6l4wII057xWoYECDGHUCvziwm9SxSFdntteBcEttTv6RiK4te8UI5Hy4EORZBgds8tue+W6sBll6hfe35G6mAVXZBwLCJMuCXIEgCblO/8b1f6yrztTbFFxEsSLfskH6epgwA35AAAArgGexXRH/wBxIq5FqmlzgeuIAAsPZ+dG/QwDNMi1itneJf4Kqp6yqdEmMfr0LFaUhup4fZAXrmRP5BmnCjvBYKdVXCV8jxfKWUyCz6DOCs23BVi/2zaC2oI1ZrimmwbG0oDcJcxifAOG7JRmGNr/VNvgjip/6FDpOwr+bYxk3E9oFJdyn6WY0AED4FQFEMAX01lgSHbyDvMfEiDytHuQg2Phra9L3A8KtGdKkADUgQAAAL8BnsdqR/8AcWAUeNIAX4JukaLF2n53XTXgdQjfiICIowV1oFvLEtT6eOI+2vOotaw7FQSDUhTiQwJBqR7mDoXLAAq7U/pfqdJW25yaXuHQBSXXQE3TupNPmJCi1d0rzDQi+Cl/T51r3QKSP943XhyxCrmq51qEkqsW81bjgf3hCSLkB3uNKpxAaaS8BGeNGAYPlzjlBVkNOS4c+2P3IeNMvBvlZJzF+6wUjCif35OC0RDzFsGzzSVAaUj2hIA64AAAARxBmstJqEFsmUwIZ//+nhAAJ/0lgBD5siBaccFfNEszwq+4MRNhJVunjbglpos59m90SazD4BSc4fntJvfB+hayW3fRbncR/rTIoqfcMnA5WDIKKIgQhyqs/39VI9e/Eh8cFGaAzX/OfFGJUO+Nt8RnZLrPeGyLzqsNHRIB12qZt5uJYV+w8FZjS1IcmikrrKY+h8oTejA1cR6xONwyvqM9q7PumNcwycrweLKQtjysEULwO40fCP5rI1rDJP6McywiQpBfP++cCTwekv/p82Ifz3pBySiNi+P1D/Mfsvv7xcY2FdFwQROfFf6QgLErC//je4naRM16oQ5vZYZPHayZuIevlvQFfaZ3RE+vqGEWAwGxcxW0lOywwkzHpAAAAJlBnulFFSwj/wkCA1gl1MgLvlkp7p2MV0cX3WttVAM5qVCsm+gYO9hrn6wsWEwsEW8mZgMwITXV6SVG8xACQkMThLnlMryGBW8fcam6kPY9femlxfkQ4OVwOpgkWSLQ98AbDrLe5SSwBnhtVabXGONEznoI71bBX8d3luvjIOEw5aoM58mKE+hjrFyFmUXBlwLCAFvMqs4AdUEAAACmAZ8Kakf/AHFf/gmtIyy/gOJu1IuOPJUw+Gvc/ug6/dgMK9Yd4qG8/tlJYalCUTp+HWsfK5TDDv/JAOQyd/oK3kaBAmDhpWKKHsYYETmeEgfji1DlDNEeAIHAXIddqaETdMU0h5dL7SZ2YawYJ3ai+lpR1NaeymOaxOirlTKjZAAUbDgvxWCYSxcbuYtjhRUA9sGjR3xUTqlo035e0HS6IcBszngC7gAAAQZBmw9JqEFsmUwIZ//+nhAAJ/7v3aUO0fdrAETEjDFO8hng5HTQbZtmvNHE72eMkdyXhwMJIVC6RLvvRjZfmPBmgK+V/l4gYLjzNQ4GUdfq0h3hotGMIlEVBa4CnKcaHBV5yxi9270ZKGbkgy9b6hQlZN66KjJtvgCSzGluJqdCGYg/6SlVgn7lhZ388NP/HzHmce0LxOjYbA4+249eyMz9mDSScRIV00ofZW/m6uScAqz91buVh0+AgPhGUDhhOiv77uHPPR2I5Hn+nHdXYn5JdEhiJMGCFKRC+mHD6cE24Xw0aw9bAzvG9f2T2G04mYzsAr2ADaN6elHWUYFZTsBfwlWAAKSAAAAApkGfLUUVLCP/CQIDWCXUx/nZuy1K1mgsjkT6Ay9JTvfmF7Z9/+M+3sQktwoDdcsmi830Bi3QOzwAfaJ195SojqH7QjzbXC40XVaKCq9D+lIo+/whGYR1SH9bEePJIHEsSl30x/Asi+xCqzZgwPOzWJfbkFiQNvSG+N65ixMFbTG/ND9gzYNkrqiqdQWrMazlMn4F5o4S9YwcOyOyCBFa82oy4wAAEzEAAACeAZ9MdEf/AHEilgaLVTz36t6kZBiEy8TA7ObxDZo0KocfzyXwWpFEqXlC/97DAC/B3W7omJV1i/Ib7/DWHulFGnGC3lREfquMdsjZ4/QC9zSBy4Dmvs2OPKuR3FDvXRycPk9q3qS3f8SYVwTGyw13n/1YNJVqXa3PLcplg1HP4PXuH4LqjVOsg/R5omVYl1U2pVq4JAiddVniuB/wBD0AAACuAZ9Oakf/AHFf/Z8OZcLn27AwR0bOMVuGyjC3lfutbrSR5edVABO3aQeO4VGtFC3KPXmtEATVnRPwwZ0S2IgY9X5+L+xj7iAhkrYIsdZxzT7nkZe1CTVN+5RjDbzgpdTu7JgyEXw680sROPEURQ8opfN4y1e9jEVukM2HgzfGVVzXqRRFhXR/y12PC/oFB1VDmmsaST+UI5TTmByePtMR7vzF5oSztQi7h/o3gAcdAAAA0kGbU0moQWyZTAhn//6eEAAO5wnSLHWq8OIfnIUvQhBC6cAZm4zhEX/6qACN1nuf6oBlfPL/DdKUkrXpMKaYIM31FjiBG1M6lmHBDIZNv3FFbLZSbkmRfm6+b76MMhCIFYB0XnmRf8OMev/WgG7qaM8/IZb+bKJB3NB6ZRfenN0UGQ1dsAkcGUZ65PzIIfsUCEvR7TFGU3TvlEj2hZey4qh32PKyUXxH6ilaNrMyvia3yrX6UodHyrD4WZYjcmclUe0Li3ldegTmh7YwEEwqZCUfcQAAAJlBn3FFFSwj/wkCA1gl1MYqY+K5p1HXK6OmpmO4/E0zoHnZfAA1AEeJXrN4my/SKjdU6x526qAR8sRIsyYxtFR0G55+nn8JYPYKQTCMlg+oyFTMvBp5xlSX34bvQUfpocyqdmNNzqv9M3iMFZZjKbARod9ukUv/x82wKF2LY852U9sLNfpv7x06C31bmhZ5xvzjJuFVbP+ADugAAAB3AZ+QdEf/AHEilY5/foXEt8VStnYlu7Gnx29ngly5d1WtFcAHHdyi9rbC0++KCznAzPEdknvIex7M1xlU/H2rgkMxQ7C78QPkjAmtErtUxBgrCG8K83h+hZHisr1EPMXEzuqn8lm6qqMT5+Yka6ZXajLTcHoA44EAAACrAZ+Sakf/AHFf/Z8OZcLn22GUtluSd40QkyoNShkrUHaJAyUUrR0EWGt1V71vM4gBLVO9Ze6s6H4EVEbzvxbEfXAH9GWu9Jn70kB5rJvuLe8mbBsRJrc7igc4MoTuKy8CLY3p0fpQjC5NgkUiGSZQpQJQ5FFf7EqcIM21L9ro9tA2wX19u+/mvwV+DzCbGrz93e8kPIIPVaI2pi8rGvIwDK3aAVC0Jn1cAOOAAAAA/0Gbl0moQWyZTAhn//6eEAAFsMyBakazABFNcQHubJSYOv6+1/KfOJv/+8qfoyPnN1csD0bYW+qc5d6eAbU71Nioz4WsjPNqLs6KiIjcVo2ocv7mx/feyEk3XyuHeOKfPLj1daG2M7wrrFdVoomFDrNvNMdmxAvNrVb4T4+RcBSw21VmNFFLEDXft36mzb96NApTuLxpOVhWtoRQ0B3WisOqvcwl8rCM0T4akC1b86UD/t4DZ3cqsyqZtJJmdWGLnq6kUeGh0qMUCM2Tb7iE6nzwke9vQ1QMCeLKuG2Ls4ILCF4wXZgMWEl7mqu9HwajlrM+9axCq3L2bltB45MGzAAAAKNBn7VFFSwj/wkCA1gl1MYqY+KwnrvdKFy+G31M6QiCSWVi+9cUp+zWYAJYyy+V8VxEWWydpakzm30P2HiWgG5ly833KiHKRwnXeCfiooFhNwMF9VWe1G/Di6XUq5pB+qjwSVp5RNx+3tHp8pQToJFsGvosZfuf+vW5NqwRlpNwfTUb8mC54bJFRWeY8YBv91K5fWqzdLQzSCpGNifQ9gxiAA/xAAAAqQGf1HRH/wBxIpWOf3537eWFr3g3Me74wb6F8nUABxDGlhoK+xISdMd6q6lF7W09wESQDm8W5pHBAL6bz/B/1Ww3FnfvqfcUIByLuGl09T8fZ7rcChUIue9OKqQ0Q/SSJYlY0cY0LFpt3uXH1+KhTWKNHia/E/pcL/TM/WoyjfxFmIOt6C70LKwDEmsNryHocZ+wYLerk64j0lBpFiAigiv4JS2fV1qAI+AAAACeAZ/Wakf/AHFf/Z8OZbv3Ar2r5lMp/FwSyu7tVpwIyfrR5sKsHcTeIPKkAP6Tea8OWIVgzK/JvYMRjj41VVPMsYuB1OuqWvNlBw702nTSRLBDMn0JtC4aUT42dbYg/3PAWQLSqunoOU8iseZGtNnFcBKtD7mYfd4UZI74v3kJ1xrXsBAVLFg9xwe3Aniw6BDKKScbmhSECi5rWi4AqYEAAAEBQZvbSahBbJlMCGf//p4QAAWrgiV6QCau81GQwbcDma4/UXWmSZdHLcoyWLnv+fCqT/2sUmuZ2BUTKnSZK9seLsAag8eWhlLaOob2aZh9ZfToOR5K9nFSFvQGR7kGR6irnr8MhPdj/Tgk9kXfJH9y+W1lN+orx+Ch7CMP8QObY7rx/k/C3kL28IEGdaAg+XkFr9o7V/CZ7xUtsbjD1CsWHU2jMQCYZcXe/ERJPGvGa46MHDzt9oXhDBQAlu094mZ6HcdPxxjNEMF9y1CQfJqKC3oG86brMQSMLBCXAhHS1fanTD2/YFJoa7YQ7mAC43f6ACN4kQbYLC/KDqus8KNpZ70AAACcQZ/5RRUsI/8JAgNYJdTGKmPisJmnCFPTri4ZePdpKRYd1a7Gs5n/MAC6014w/VkfrOlb4AWiSL9a+JekkgikQbNQo2BBVj+619lHcHRBJirolVyTTa1R6eNDzsuJzWVDWlzC6BSMVuVN1IqHL+YQaLeIIKbF9vagcML02SPvf2QyPZTNN7VJhlsxavxpJhVaitSaVsp4/iLoQJuAAAAAtAGeGHRH/wBxIpWOf3538VFwHYo/aYPJLxY+sr6UosH/ADWG9B+0xNcC7n8fOJJYJnlXTi67Us5Ax+JobSYADgYamPMU1o5PtIlBa+cdQ0pvAn50qQhYSTj52Ra2KxQXboICGMqSfheldKY1FbDzr9PVbCD1Xrg8p2Tm498JUxFzsyRJe9nw38aAU0HKSOfb3fQ8jJUk5uD2X0vjzhTe/zUSBN4tZFAjc6nyHxR9yrN1IQBBwQAAAIgBnhpqR/8AcV/9nw5lu/cDzqu10p4QF6e5wDmUDM7bT3bngAI9zfHfE8wvywjS7unXrY7tkXu0cTNKNds0iaz8apkdBBpNTZxA+dalA06MnsOAQu29q3d9svCvWocz9uQDlb7Jo2U4Dd3yu1QHSc0AsI7u3zr6F+FUs52G37jpiGrt3WTLsAZUAAABJUGaH0moQWyZTAhn//6eEAAFs5l0hjIkYv1ESK6Sx4BneJgADRvWSQc40iDX2Umm83P+tiXpVlGAQUmt9iSnK2KnpRtL15JENv0ub8CqpH480E//DT5o+hWXHm+bwYMOf/3m7rDSes/9DGV970ASNqCe65ApTwsmymf79qyacEPV6aSZ0O+TpMjUGBWSAhJkg+G2LZcuvsECoWo5fc0Ko+W4f45pf+cs3EEkUxa+HjPWyxsi1UiPgDrauFNZrqJhcVqIlWcnwcdY+hfo69c5VmKR6ZYV+aq3xYSYBFhw2Io4pRt/ggsoaWJoUCD2bcxM+3ALxLfjJyFqqw5XzqzdmvL+59DGocgXPZEBw18n8Hxb5Nh/FW3M240Ok4HUH0b7hTxvVBWxAAAAuUGePUUVLCP/CQIDWCXUxipj4rCd1vRxZH4ZABQFU/4Z9cb5NEguXVBT6tBhunchnrw9vaqwCiQuI847bUm98zniH/4/FToGT/K+9hMqRoQb8FHJ9ETTlYPL/rXqQD4KfHucfeRDwrrsBW23X0jNmrNjfsq35kPYkGzfV/8nac6cppFhDi5tYI6LEysU6ZqX4zzRHcJwAJyJ4Q/vfsK+CZe0uhwExdSrwKQGveJu0YNHRdvMWoB6UE7BAAAAowGeXHRH/wBxIpWOf3538UWrQu9wJgm7G8tvsj8VZhBtewJiAE0Rl9152gyL1u58/shhwfmY1f62XIXpPEytQqTEXAs7urf3RzPXQem1YJbo/fM7rvVDMsMHjdAZdVa50Sk1A3x7Ud6RInEx7Wjc64XI25POlEXoeQmQyUP7f6q4krKQARE24WT1B0L8EA6wWb/2zXfEhUYF9GspSlzvbq+ASsAAAACkAZ5eakf/AHFf/Z8OZbvrbWD6fr3AKGW1J1NdSrwN60FwJwxlHY48aY4yYpETjrWJ2dH1nm1ybCArVmuwCXW8g6rPumj0we1GDReN17I25hqnwBAo/yDdazinjz/41UBMRzXuC5RJqyzXva10Tq4PmfaEqLTVJoDhFFFcyHTp0QR4NmOcP/q6O5fqr80MbSXHVKRUpuVNusimzjCrqKLP7PsAq4AAAAFiQZpDSahBbJlMCGf//p4QAAJ7lWuAD3qmp8jE4cMXs9afPcofQNgfGCwqseD5qe/eKfOL9QGg7/+pNKxNjC7lm10NaklP6jhnhdscHixiI3cLEEDQhpFrE1x9Ehk0H+vnwDZ1heK+RJpvmXNAduCJCLe6zwEcb8zybrF0SH2RKd2KaD+j3nrfdiILJelTmIwX/0Qqr+M92XhAwthDcre0dLuNar+T+2EP5pdLPWSpbvH+9yUzNQHqQUvDjBr8gf5tDPeh/t2ImSA0c6WZw5nW9PhcF0XNo7gDhQjXXR7dOQEs5ywNFLqXPv3HfchL1V+BSBIhm+lo7Z/GNHjxdj0cY1dMlra4uwOaxccRKCv8WasookCw0+20/U+2sR0eOLGBSfV0mZXrFfps4rK3T98xx/DTZWsA77hLHuvOsh/EMCXtwF6Zcq994bOUtTmC0txo0XCrbEeLGC5iwDsA5LvZvtMnAAAAsEGeYUUVLCP/CQIDWCXUxipj4q7joD+00ACMjSL0IQz8M3+vVkf+lLbfpa70HmJ1BORqWxRylh4KxxtPmJb5x5kHXZQ9t/iQ6cCif8j2Saiw1sbW6mhiZ4ntzLY0EmXWQ769EEGS6K/nmdn6mDyreh2pIT7Zgvh/BPetJzO/4S8vYELWLtZ7hBdmokSlpp8E3acl25DrUNXJDEXbOxwn108/7By/VnG11Uz2WGdJ6AFtAAAAfAGegHRH/wBxIpWOf351zm2A0HNG4UrOYHGpLcBeBACOzBCXk5KK3ZNb/NCRXcI9mRlQA2lvwfhSSEwsFDI6hL1C/Uh8ZSrqsMmSmy2VrC3uuh1XYQGgoLG1/lSWs8baQNBqKn7IP+1WjzPcJCov1oN3exCHjrjgd8rQAbMAAAC6AZ6Cakf/AHFf/Z8OZbrsG7bsACoO8ylzPC2nwzErl+IJ1PuKEA5F3H13F0MY+51sHFh+nLAEFSWBY0CtIJoTWvOFvpc9U+6K1+FBLrkZw9ZDlmpFJdvG8jSxeP2PR5ZXE6bilXC4GPoyqdwMeTQ0X+l0zJjpn3lKUyDS4W4UgK1yPYsZihtSQKhW0uUkvP6eZDtVBlR8f4cNBqjhal/Wp1hELKEF3IH/gkWbS8eAyx0phZ/oGULLoAUEAAAA/kGah0moQWyZTAhn//6eEAACf+7+x9E/owaF/FNzqxSRKVwMAGouEg5ipkGYRK5jRXVRwTLw3v9nVCTmtwsMA+rCyz/8ghZ1OX8sydoRnqwUfrfL0vihs2cu2t7yqvNjXhTc1A3FdrE0Fibo718od87S/9aZ53WzvFDxHnEdle1fHUABJ5l5We/4PSR9BUetyHESXggrzZjtTtW/WErGeT+0JuVCWACRNAFU7u7zYt82GVcb606qApSHwbsOJ6fr4Xk1LXgS1DTkvOzzIN+awVzyc87Mqql48/GcjKxObk/1udWYNkP8E9wtZm7kNf6aPZR5debtSozhhfF5woGpAAAAqkGepUUVLCP/CQIDWCXUxipj4q7kYLsgAh0i1GGgQa/vlWYdpD4j77rYGWKvrJUhChdXR37U+XcGPf/PzGuowLdaTn90LPC9gMiv5sP5uU2IBSoD6dGD2JuqpG5jKA97RI3tPscGWl/44phmw2jo+I0PYtx+z9YaA/NWl/KyQpGwM/elsDHeDxmPuirDBDLj/PHK5cB72W83GW1AakPQx90Urh/4GYMWMAMbAAAAvwGexHRH/wBxIpWOf3511uPST/AAUAotig1aTu0Tv6tesx5nxQTF9QWqbiO0i1BBarn3Xt2lHnuqPADO+FjJKxB8mhpM8Oew9Z0y063J3KXmWRKHypGfcVUd/1uXGp0EHtV4LudpMDszP0h0IA9kA/7G8zPQ19VDweb6mSukmKeoC0kLW9DiMMhKEDgjKR+HEl6lg+WL1YxIGbzyPxgo5IyyyEuqyNazNCexW7K1JUoI7E4toASHHvvsbLKeAOOBAAAAnwGexmpH/wBxX/2fDmW67OIwAGoywFgJiOXQ3L8oC63WyOq4XXutQvIg5/xF/aGCH2ImzjQbs8mr6GPin7dg9zwMtLBLdkS0CE1EgAn4+JHYofq67YZshaS7obiCgngjZ0JmdQPchwFT3SO9vzzQSCtHZ1Lc2IDiuLOBCJFgg9D7Y3QQ/eDv5/iacoVyomBoIJMxlcM4D5yBGkVZVcAHpQAAARpBmstJqEFsmUwIZ//+nhAAAOeiLWABB054OYqZBmES0qwnjxSUtEgqLysPOsOgfk61vfQSoKTmvyB1B5MTKPEs7rr7geyEPm0bOUf5Ees3bB1qXTILhEPfXFKPCwjsgYPlFZmQDnZ21gRQA5GERHhWbrViZ34TbRqoEvu10iXZD6najWANhS6c8rVG8377T1YAx/7TzAoWAAhbOthVa/FIlGWv7UOGfE/myoFcjsBTHgtylobk7Ek/MVYwkQuyk6DqeOUQV9V78s9hbIz5lGK0YPLn/8N9Sr8LPivctdO3BdQpiEcu4VjWlpenm1GcsDUTjIxMPVZoTVw+O5VJ21wIp0F0r7Kx2/Kmi9a6juE47ZXwFBgAqcPcoeAAAADRQZ7pRRUsI/8JAgNYJdTGKmPirgSAZ198AFfPVgAISrly2F0LJaAbIKOuHB4xIf6fV1rdKbNXGim3/pgDfS8BKGpxCM6dkxUlCc7w/HG4V+4jSrxyZ7NLFxifZOOHzbqdlkMfXiYbjK7WC520/lJW2US12FLnkKWwvr2foVz1m+3zvEi393zMl4bbPsGtAjKLIhKh4XBpwadiUfSQ4lUEGen3SV5iNZgtXgLMe5/gX0bLoKYkxsTJpAnFwlEwG4L1ChlxHt4orRhu20RSvL+AA24AAAC9AZ8IdEf/AHEilY5/fnTQ9ViAOco5iod++JWS2jEROfii/TtpHPx3co0NWb5axiGp3c4WysttehKrKXgJVSURPAmZKxJVzlK3rhICDMUYufnpIdNgREC+v2YM7RtJjaf2WCXLGgIcLQwQzXCrrCczJLfyV8Xo+TSijw59sjD96rbk6hR1Vg7RaXAPicyHJWQQC1RLEg5MwPpmrrQQK+I5tO0ov9KsKZd/gIkCJYs7S8gv/QZ6EDo7i+OD8AUVAAAAmgGfCmpH/wBxX/2fDmW6Y5T7/mvAAU1x4LD4ThuuE7APhFzVs5hjK/n6AvNScE2gqXnYS25Tpxpdf8cfbPTisPBPuMeS+HJaS6Y2Sn0u4ICdN+4KGRTpf2lw9V8IKcDe1rfb4ZXPrBBOtF7adr1T6tAKVg48LMIACeunHXpKSxKlqQ6rUhpvfkoNT8MSRQJhZdFyuStMFZlwQcAAAAFqQZsPSahBbJlMCGf//p4QAADo+x5sLtCcjMAEPqsU4hsVXmaQruhzHDGZisxO2/qzs/RuypUFPFyYmseL2vqB7hf0UGvfBfdRjcV12sj4XxvBJnAsCGaTOtFlJjDk1pl1wZQM8cx9AtSqUnZWzKZH9ZD+Q+Uy7YyTXUaGeUO/yOxJ8wWqQvRre6SdqQhWE28MhaShrc9zHoKoSup/e7P3DXXKdaMsw2wA7kt8GG3FrqKNXR+zN1pVn103iIcqJkCnksMvrQivJPlFkTpYoDSAGl+wi+tQVvnb85Gh5T1ouxXBCXyfAosoh+N5awWA1DYPKT/gY2KlxLbueUP2D51PeiZM9Gv4ABzhfnYiAcSeURaMFIEzSDKy9IT5RtoETPIPYs/9vBcpx105RdXcCS1axDQ9QXIdmqxjfoY0kjFk/ym1S843gZ6WMgVH/cF6DvRQS206IOzESd7HpYw3mqsfM1guaV13PJRWC2gAAADWQZ8tRRUsI/8JAgNYJdTGKmPirgTpnfeLCAANE7GEza10qUhiWHy/O5dLHlpCf07aJqwahOPn7DA80UHLYkdqeGgEOpIdrn9qjUCefVBnJKPksGXTLh7TfcmDAXrh8jPMHnFHRhFJArHqlaSP6DdxShGHVYB1VurVb/DNmamfAHLWJTrf69eUxDv03fuFpMT3fi5h1ByyuXSpjP7JeBC6m4VAOkJvrAYMbyFJ/UH8O6M/w1vZZ3BMWotPdrA8w88Cm6AxfwDOGqPl2aInNmM9SF9pkmg9IQAAAMEBn0x0R/8AcSKVjn9+dNDlYAKSIf9sWEvWb5aVUnXUsQOrgE4dAd4zJo8qs/Vnf+8+z5mZfE6md8YTqht9Rtw1LuY/56woGbkajO9+EC7Wp3Qe1w36E7fEgHqDOJ7LLfjBzs6OjbjWN/xq/6/PU8RxyPV7mTgljjAQPRhh5VnQb5NJxaSYc30g+WYIa7ASo4NTv/D9OtYqvrvRsh6MkQThiTmXCT33N1PN7yjqyepAhSQdjrNIk00cCLoDxkapoAb1AAAArwGfTmpH/wBxX/2fDmW6X2dxhqAEOWjHLtzEUMT0AJePlYdvtlfqyg7ISVP/QnRTalBzM/IlguGQhGG0sJMYsslTtv6D/aFIpk4eFQOAYggh0NIN9Jb+c5i56VSylLkiXYYs+CUJVJVzsqoc2zm5CICNMWcf8HZXBFbcQlWognJZW8gY3+1IAOpiirGJf5h5p+Jp8XNJiOPWRv5egvB6l3ZzhqsuSWiGiDS59qSoAYsAAAEXQZtTSahBbJlMCGf//p4QAADd+x5mONmhtAExZLfDCrHvxQ0atk5v1zwAVrbce71w0BoX1Y3zeNwxX8MJv0mt/22Wa+pPskmuqQw1puK+rnBWP08I+WrhrlR7zD/OV7wyHJKBiR38G54ZxOUhpqhWDNifPu6X/ltXB5bZwY6Bsq0cOfLcBxKd3zKMhldkni+cY7IZsHmr4JnZoVK4r2juhjEqr39qUY9Ft6Uqup8TpXmZdgEnBsmZcYy/XVBURTRzpbK4+0pgUDr3Q9iPk0/q8RDvPJzmTP0jRjg4APwHI0NCmTRq8WXgJL/3A2l5d1obDSDa+igwY/1T5YyLX2BUH0JrGdK4gCpkiV/nsau/C8wDE8+tmAyoAAAAs0GfcUUVLCP/CQIDWCXUxipj4q4FcDQAWHe1N1If1NkVnnZYZWGe/obrHtGltlWWtB0y/H+B4b9Bqgk+V1qwq+/gCAZCy45FvJ5F5YWCvQxtJXsPD++wjAt3U63lsqQ/n60TaU7gom4Fp5tG/SL95Z40dKQsiX5TOy6Dh6w1IFdnyjcRkQPmVxhMhPpfhTe8G2nhbma7TZ//wz6B9P+rd9JaJKBDj1k0iXQ/Uag9yWEoADjgAAAAgQGfkHRH/wBxIpWOf350x0oZyABTXHgsPhOGZ3NtCVaCz2+FZZUGU1UnN3viQxV01vMMUG+Xg1l2gHByM4j7WrPIrIYfFeW9TklogFCLQf5qKfmd53rBe4Kp1GHFUvH7E7fddeD3O4/+CXhCxeYHKmYgeAnzYJVRwcMjghYBztgHHQAAAJ0Bn5JqR/8AcV/9nw5lumNUyDWmj3qW5JsoypI87DTosWhLgAHFhocDVs8N9NqYso6GQUtRdveGxAxVyzr8uhMKgAzc/dZTp81hfJpadpDQ0fkjRNNffsuv2/mbbtWl7HGq2RF9lbI0Du3/kjc+Q/nijovdyj4VMvesWFo+dfgjpZJ1edWCeWKslaxLBKL1JscRNrt0x6j+JGtyVsH+AAABK0Gbl0moQWyZTAhn//6eEAAAVjNB4AQpozCp4nX4jJc+BFTINXrqdnT7mRRhl/rjnpApq6DssuydINuzAwnHKPPP4TvLCdbcUbjH5+82oUUQ7MiecFeIbg5FQ5/zrr8HCQxOLyTYMCd5WoAsclGG68FyibulbPoS8/PIpTGFTRNMJuQlEw6nxh19nT78YYw6EuGGW8g+Ot+Hp+PoPnkxX7ahqBT5MUFcF7mza6f71OSz5I96JR6e2ZlimjnHTm0Dpa489UNma+R4S/GY+Vfa8bgGFc3nTdH6OvNUShlH/h5O0xb1UX7FRZMxBRt37eGu76oB/V1r/IbRlbAwLT+v81TwcExk57DCW8q73rejGPeFFOv0HKvtt5wNX8GtIHFKtro41zREo5+Mja6YAAAArEGftUUVLCP/CQIDWCXUxipj4q221WNqLqPp2ExAC3BtLnov1dsgxg0k9LIiIjBLynF3WOIS2vQ6HkeulVcTqx8altchgPDPkY1ibBQ47NwYLfOARHkN0qt/8Ns2DG0tVDFA+9f8nCzLP8jsdVuMOEsYw5HZ/TMTAt33xJouIXdRrZDzBGExfaC2ReHS6KO7HkO0mpXhh6KewCzqPn3jsR4unst1FznGHM7YAi8AAACyAZ/UdEf/AHEilY5/fnRgbiXhmYAOLBoMi9bumn9kMOD8zFhFsuQvSeFb9ObTMl+drykzYfN4OlQI2cpN586p5AdrEe6XkxDlRT2kQ0wkjWz+E9B3KcyG1kDJ1gLAwbQHEwF992iEJZ+mTo3p9CbDH5vQ60GWRf6+nMR3ImcaBn4jMVPsX8Ju3xzKCLfc+dgRLK8L/pcFOtYRBlfWPrPrh66+xS4FkjB2OX77/TZw0qgCbgAAALEBn9ZqR/8AcV/9nw5lujD9HHdxumrPQA4whDgatnUHw8HCtIjF1ymayfygJQUBn1XnktM4mNkaMAIYWee1tyz6BH1ClJRGQvKZBlR0dzQonN5XAm5qe5q8CPQybKbeUEgvO5AWDlQjambuHmrkK4ueyuWG8QvTIWcTc9dX5to20fuCA+2z4wSevuWLzrRlVlK4L9vG6BYfLb26DaUJ26YX/84Fe8WKN47bwTuUJEkAB00AAADsQZvbSahBbJlMCGf//p4QAABWvd+NvwM2yAENYmGGxQexjwwakRKc5dnCcfeAzNdHEW5LquIarz2DS3PQRrU2afdXE35CVWBlIhsvidQQHmJCiAMiVT2ow2pOIXCpGa82O3dUfEJoZERAicodkGUoCMhQFK6kDJi/pFxD6c67rAOQyswUPP06upMS9W/NqvV8r2GTr8vw5V99acrmnvw57rO+xq6PyKvyxssgAV7bxpERx+4cbbhaIoJhhO6ti09it3S96TyTiyrQbQ0u1rbr3Qcss61etV0qjh0L32pkl08ifMoyskjxg+tDiHkAAADLQZ/5RRUsI/8JAgNYJdTGKmPirbmYGgBrvGQmqafuTRUlmtZWntC6wuJliMHxnQVzP4seWBA05rc7aLI7KKYLlOxHOmScJlpgKWXRZDNoQUezloupctP+19uRFHDsWTSx0pB2RBFFWFk90U56B/s2RG+I+MOIcKOvbl8ld7GCcP9vwHcil6Kq8OSYBP0QlZIw3wQCxkBfgpRJjLX0VPKCp8I6wpsB04jm/CafhgfhXH0k9XVeDcMA9PF6YLT/44DV+6yhPGkw8PVACZgAAAC4AZ4YdEf/AHEilY5/fnRkyKeJAC/1gXLZEliRKZjSKaETHFJKpndZKVfkiI/CpjjdiyzM90jLddvZnqtGBZwY+xR9L+Bovl9wRkkhxuogCicIs2WoRpmi8oCFN8yosU+QrNATkr4CmFd8rbRJo+Rlgf3DVnRTXNn5WSHg8F7b2iaJ1eilFkK5E/p03Hi6U4xnW3dFij6nI0PQPvNy/pTV5oPi3gVSiMYlLKKswSV10jIhoLexJQBvQQAAAKUBnhpqR/8AcV/9nw5lujJG1wp7oAAGvR2cu33IoYnoAvP+nMToj7pbFC/sZte/dILTzH+H7D2VXt46UvgdcciMJ7hz0P3ENkuF20Ij4VzRMpR5ET1fo41U2PjVnbf+gkw9CEk+KgA6LK1mjGZ7ANUtNw3lkvdiRsDi8+oh6nFZqIjt4p0K07xFaWv2jH4Nc5+29og9mccqya5VkoF2JLNioXiIOmAAAAEfQZofSahBbJlMCGf//p4QAABUfd/bt6davyzsL6pOAMqoO8p2uw6rjy3RbFqwRXxAbvQppCKF8sPWXzsXDje1xjHobu5t7tldMedSQCM8wlltNAPHhitGDT1LkXT49pcqCpX7aFFrol6786Kn0hPqv+J+vs3/GiaRwkc8UpJnNbq3tkfnWKkZw+IR1WNYdsDJzGmyw3MQTUcIpP36jzstN0gBWXTJxq8gfDwz2paBiCFQ/AE0RsySQMZwAmyZTXcDv3uhgtCHlp24k3jMuXHU8vNtwsIObCxZeysjO3oXXNLYcgmDYZR/ALbZAEbY7kINQPEnjKseovfgUq34Fq3q7kdEJcRilPdZWBFS+mU64p9R1P6BQ3T6jO8Z4zzuMnEAAACnQZ49RRUsI/8JAgNYJdTGKmPirbamQhW+e1QARpxGoMjZbf8CB1pOJhBMd5POSy20+VCs6972jTxGfQGzEl9D6mWxoM7u+X7ROBw3K+mYDJ9d6Nplh5nEMgxZ47Ncy8vK0kI9Mu1OFTUenRwkYP+j/8H1eHVOkaLfJZbqCp6AuiL0NfFPQPK+hunF6xYQyhAFZ7q7fkvvf+k0zHZXBSUA57ROjyWAbMEAAACzAZ5cdEf/AHEilY5/fnRiCID2wAKj6PVdhZ3tJJw8YEe34SjbKhqpy6zFCVDh99IfQK2/pm/tihiXOWC9d2wsmT4hq4CkVi9KhVDCMvh8eg3xHKRsEJ/VfI5aaYJSNt6eio3yIoEryxiFMVE+L4lSivF7mgdLTbGtAKQBNi0OE3HA5FDzos4T7PBo/V7mjokcuyfAiO0ti0NjI61kyDPS5AVSdulfoP1Hr/me96gMEWIAO6AAAACxAZ5eakf/AHFf/Z8OZbow5slXcw39Zt//0aAIRawFgYNoGyn+IHCSuZZNLC9IZ03CmGEPzdXe1PRJAObxlaL4lTdf6BJqCGSUmw2XbsUbotFO+QeA/etzSSRIjWdND/5XEeA5A3cLyINbW1TFlqRw+MXuJqQF56uVLPh0uPJmhJts06rEYtv2twIMCd9L+s+X4GpFpTDO6nTEIUbAA/E1F/v1Nqs1Wl1miOirCegywAekAAABOkGaQ0moQWyZTAhn//6eEAAAIqUCcACZ5ZQtbNUF14sJPgQ/1p76TnjAsdnWjs2WLHBLIF/xtIQxgoDQY+uq6J7yAfqxSDVC8sb0zzPouyq78BwRMtUD6MuRp01LEgAieMjr7FGOYdbDgJEBpKtlwP6mdsXipLtO5WrnP35rzu2njLzNcAinjodxDFC9jA4pN0VnEoDqrxoLSZ3AhMdUoHlF2QgcVveThwL3KwDLiM4RYRDsosr+6AwW6zaRW8DjATqJ2H8gzLye8EfsWvOjdGjkZ2Bh56mOz2zRU6pFk9P9exzHhARNxtHYFwnSKjw6jIXRFzJE0YBRVlbB8LqRlnbJ4Z8aRVfOV8tlz6F9x5jUUfLjTR+YpC9thHTgR/avg1iSD9SW6kfwd+VMnAnuWm4xvWQ5K5RKh/0hAAAAoUGeYUUVLCP/CQIDWCXUxipj4q2p7rR2YZS6W2QBAy1BXC8YZWTInkDBDNPbk098N8G/n+tuKzgo0LIu7Z7mJcgk3HEDakY9al+zLzn58wtQ3KiBwDRbahCneG6OftITSmXWlZmU0j64jHAX2rohzw9EGw34DBiMGxSSryPZibPNWPDlETTUzedRhvlMEW+UfNDZUSytW+waUrDOPOicAwQsAAAAvgGegHRH/wBxIpWOf350UwsOh1sADiVR6qeGMxqgXcRxEyfni76nv5VBr2k1aa3t+Y9AfGwfjpNJwH0KljGUyUHywkr0XbUXNNFS42RiYS+jkgTAqWqhtlxm1hQVg1nXB76wVACRIPAnRuP9pd+uO2lwG//56kYHDd3NCwg8UpZdOHdMTsMKUGPeLmXJ/JDv59AhcLHA8SxlB+BKKWCirAZj7ZyCy/IjZ0+G16UsQiSNc27lBjz4UnkwoKUAKCEAAACkAZ6Cakf/AHFf/Z8OZboplgcJDbEALAjf/m/rHug8DOeUsLEgncyBrVFADraHbVd4fT1bS0CSK4jTDTxICvb4WxyGTCQ+K950mYhIBPtj5U8zXX/kZ1QikzDStHDN9azDORCayN+aG40KhqGhOkHLtK28pwjK3xAl1D1td+soGw8TqXn47oNdZ2IpFLa4rHzHxZAZTQSX0/z4fvrdVZ0sTBAQAtoAAAD2QZqHSahBbJlMCGf//p4QAAAi3xY7LRQHiNH4MEnOtlI+5soAiQ0bIYJ/ENrXSKt9M+KXdZV6GNA5UM40LIDbWLHvOUo/Vs2V/wD4elNhv9WlIqtyMpMgB0G49/iXkER2OpBj6DGzkn68GI7hEizTJb1AvPSFEi9zZSjB3eOMt1q37MXXRMNA+mk8G8OHcmLO/L1/nLUQU7VO3CCYEFnMDscQf/9j4weTKwT+QDxE8sumYSmy7LH9G2lGDDinm4LSbsfUQ0scBNsA1e1ysn82h0WD6qLnXp9C69cIHmdJYr4O3+8ah7QwuoT4qb7C+3aaRnbwFBjRAAAAuUGepUUVLCP/CQIDWCXUxipj4q2p7rSVy9am0AUhuI+GPNqWJJAW1QY3wfUu3PEjnUVYu11sxyBK3e6qtCjIbYmGdF6bZLbA22pEsgAG0aRN9RjTnmP73z9pytchiQrVBrUVjdL9TtnlrSoAWkPZ1QHJFHQn3mEHRdeGOMAK0PNVyqmfRwmljmkjZe+rc4JOCj978y7sWP349yVKjC16ExxF5DBiKo7slD7o+fgnSxkGxkycp7TZwOOBAAAAswGexHRH/wBxIpWOf350UwsWETYpdgA5VmDtfhUf9I+S5xHzOLoEu+CI2xRETAMcRBN0+d55HFQAxAFQnguplw1FEDn7a23cU20i9XnSuOfaoihj+uRVGCWxuHWY36XUiu+e8DLI1MY72t/vnz0Q8k7pTHE6wO5HBHg5tWCVSUd531hRS9SLEb3gGOEo0HLzwONByncsbnSsJWPmAMd8T9aFTrKxa3xetAQCc4/Yok4JgAG9AAAA0AGexmpH/wBxX/2fDmW6KZYE6IKejo7VL5ALWW08N6iCv/7ucpxzxxwAEPGuWR2IMjXHNxKMACiuFIF2yqJxfLkSMsZxnI60q9T7BimMavv69A8SLzta+UOWoeOlRo6KAsNwtlH6IB9qg5J78+aPELagy47ip/7/qNXoqFJ/qH4NXfB5ZCcZEOupmpbpYlcCa53xjPRo6rvraTdCoq837t5ny1je20sEegF8w71YxGUcpYefgMxqxgKQvjBQG2ESAH+ct+Np4KMsz1phVNBAAU0AAAESQZrLSahBbJlMCGf//p4QAAAhpEuQAg7EJBzEr175uZ9YTyjQ9diZda4/Z+cOaneowfxDrDNWAhKzBosWnNUweQkMtCrT32WHevZkagz0E9BmJJu1NqACJKWlTr2DFPq2PEMLp+nAxdDlIeCiivx7NBpp7eFfwA82rhG0CJOMRn6z2hyG1TZ27Ucycy3DsEp3umWMUdrSZg4bxTpltqY0PlF5vgvozy3E0A8CpbHDnTjBNa/fsgL7YaVKA7U+4h++Z6TljVTShZ9vDT37jtMMJq4hleuHT3jXmhFZLBaGgoMq9TkbzeG29ysv616OiUtcCQniPJWDMLBg7gHF6fvJpAxtwdry5YMeNZguifav0MLvQAAAAMtBnulFFSwj/wkCA1gl1MYqY+Ktqe6y2RtHQSQAWs+/3AvEtNZQbrrS1gbAHBRz9ymGTQBep75mju9x/Ayg87XO0JjwNMXcxTwDf/VhrkzmJPT4V1U466UvkfktN0xvObgYAqlA69GFvqZWw8hcALWDc9WpnL035eEyuBHN27nxPFNpBpnAf6xM4c0PQ8Or1zFc54+Lf9GWSFF91n7cTjAoqUP3pSbH08pXsFrGh4o233t73UUpgqzatri5pGS0aKTGZG5ZogtSEsADPgAAAJ0Bnwh0R/8AcSKVjn9+dFMLEdY8pzduAHMLnW9+GDWuWZiQ3cT0+IqYz15jayjjTCqfGiA7um8TZOcyq0x3Qax3ObmqAOg2oWKQiZuMkYfqwHp+L7vtD1LY2RGXmLohMtIwIJzLJJR/QI2M5nG9JL62aRdOOV6ryDt+/mAymONAgl9QBnq7vMtHCLQw0SGCQ5lV5K/+MfHVnCHeAGBBAAAArwGfCmpH/wBxX/2fDmW6KZYE5CzkAHKs22YtI/UkYXIBY1PCDINnn3xCHE6eNmCzFMXeTUGoG0u35ryHtJRrDBKRM8jQhu/+vBi6WFoCqn2C/Dx4erTBNEFbHdx9W3OoiK2oskXyY20yjUZqN6G7xdMcSZxkSYhI/4WZjFNTzTmOTm8ealHe46kI7JVxU+VGf17xwJmy6NHVRep+t3x+Ts/AuoHNjUzZIzTheCWABswAAAD+QZsPSahBbJlMCGf//p4QAAAh3xYvWnoqCxpNKqWrQAYA4zLtIwp6/TZm/u3SgTKlgd3h1A+7G++76EqM23xl1850RsbOkFnlUPg6KgiCmCKCKzWVm+1AHEXjSmZfoUWkaXRgfQEerrczMOkk1nTyOdF6RS5/JJG84hDj1IARMTkZQCvn/Jz+CXxCrY9feVAROVdRSb3JpQ9mtjl/5nFOljsG45N5CVbRHA4srWlX4CB2bdxlenmyvFpaYjl96TKW2dBLrkPpxMEeOW+tmv8VJvtz3PzndS5mzMS6iH6Scbfvxbxmkk8oH8+WXsDYtyh9udQ5DK627NrXq/+nA1IAAACfQZ8tRRUsI/8JAgNYJdTGKmPiranusxvExhGwAAhgA9QKUzwUHeG1puN20ms7il72gU3pX6LmdW2Au3HEATdeCfzl+WW/3fSEGdyILJUo8CuJrGRFxbuqnWtmYYA5jgRqFgd4zszX2TrAC28pLiviUVDlDi5INsirtUBc4AYwj1iOFNv4j4piCFC2+Ig0J5cxzqBWGzwoqLZGINhi0ALvAAAAhgGfTHRH/wBxIpWOf350UwsXa7AA2fDYQwM3ra15dDAizvYVtQtFcExssNd1yAG9Oj7Zhx7x4PE1vWMlCwc8tQ1LZ2RASOoLlViqWKF0aiY//uxbHRMfHR7yYl4m9CT9SnIcNTmrw20lhNA1kQiWa5yUAM+PqzIEhfk8jKaCNYloQ+nkSAHdAAAAqgGfTmpH/wBxX/2fDmW6KZYC5VI2SAEKp3kWd6OQC2XWBGaPdI3hEqDA5rqhIP1jogbbmBoiDcraBH4vR3wuHnHwnKtcckkqqByZGee7GChzGV79zdScdotm/z3gNDJqamISZjkIjVEXj5UEAoSxLJKCmA0weIkDC0kCMzBclVJ5NwOgYwTn/32OKQm2YQlrNE7FviPfVtowUEZd61o3yKXpLV0QZKXIcAYFAAAA70GbU0moQWyZTAhn//6eEAAACx8yyu8omVkP3ScAEncywTNuAVY5nT6KV8HB3EKzNz+jg7dsy2ThcfW1+QnkAstkyxvfWfhE+OwUBYU78nTXPIJSwBuiDtDJMgTLidZVkstiOpFper96T6bNSwpVX/PKwdz+n7uC8PWkTkxPowwKnMzRhhbiFGM25jCjt1JcnZrf8euZnVI40eyNWD03PDpaWrihU1WrPGVX3x3dQ7hFu6WlUY/uRrmb2jWTXUX0ynFkW3U3wQ9oqrZmYQd+oKXw1D7tfUmEnfKDx1iHTmLBVfWV77/mUgMtJWmk+gk4AAAAqUGfcUUVLCP/CQIDWCXUxipj4q2p7rF2QBOXEUZkAwKHQ9HcbMmcI+T6Il0OADcv9WAAhKuXLYXQXUZGAJwzM56e72gkJUUkwzts6bEbQZP5lphkB7JD5cmfJ18B64MIuJg8z/TMkHbyhEN7XP05l9+rEIPZMf7bH2vCoWCsVFDjH2pUXNNhsjh3YF3IxOHFAcaVNhSoyFuxm0FjJK5Q03JA4PviWBnQBLwAAACVAZ+QdEf/AHEilY5/fnRTCw3MyBukKeQCWGz+rpz+OoD5lAA0VvbFCAci7hpdPU/H2e63Aowk1fMniGzlZcyGm7RCkVgA4FJfNzDfbD9zvIp8zL6GMfKjIbmsXsQ6dzupXLRIYgYJjTBpHdqY6M/dKEzs02BoOJEuNbMOth7s8FpuivtUX+vfhXEKvQxeiVr410WMAdcAAACNAZ+Sakf/AHFf/Z8OZboplgLlToOkLMRbrIBxXzGPYbnYUxetiMAI7M1ajfoX/fooWK2T+Uy+JHiQb3EIntQKWaSCwhsd7ruIhs+K/JKpoH1i4imYJZ5H5kzUXmFnnhJBdhkUUhOmO9sIggCxpdMsvdF74sNdxSkj7bAZ6/PV3N9GZvL3XbX81CnesO6AAAAA+kGbl0moQWyZTAhn//6eEAAABFuPPhUwWgAO0Pp03JJlih89AYoztqsq3/tS1H/PWiEb2JOzf/ajbeX43XUeGmPhTGKm7dNCKxQRepGEdD6CQXhAhLxt/gbTFswlxCoNCLxARDB6Y2Zhy2VYXkYsjh0u8dCZbom1Fp64fhpG0Pgtkft6K5OrCUXX4WKzOgd3tj3XDg3Gw9UioDE+m3h7uESMePngH1+lFoP3VHQ5YtzhW9tcy5zcahKxY9yFSnk5irDz4WrfTk7XRgM3Al9IG6pBd7xkzMnNmvh36nJpmWRy3b1AqhiitByJRGtKMadiSHPXj8BvAQ9/6k4AAACUQZ+1RRUsI/8JAgNYJdTGKmPiranusXZAE35/IeE0jN4EAcAH87kk7HXdg/mrBD2zxyc6ZZd5MJhqeUdK398REx40Qh/XNeiazL8b5b5JICDAuhqBRG+Gs4EKArPwoc89sQstAVEsK40+hWTEPQWCHGJGoWq13V0S/5gpVWeS7VW1GreaPnUla5//vNwpqCyy/MBDwQAAAHwBn9R0R/8AcSKVjn9+dFMLDczIGpC6VdzzqY6v6+at1093mANUf+plbn7/9mmzIbvWXQnqUHodSnlI8s1vNYG3XtfhRzthRpBnR4bwOnUGjUSNZSp9fesmdWvcqpMt7HrLYhq+BaU3VeQlJk24n9ZyEP22/yjtpDhqQB3QAAAAjgGf1mpH/wBxX/2fDmW6KZYC5U6DpCz/E+mZSo6WeAG5meLkLxFC1dswexcdiPvlvK2iUcybrZIboszB9jNsIy+lTIy+yMP59Ycx3ctEaBnSBPmmCfVF4HrvQSeAkvANKQP0B2brUdDxogF+xsD6bfhlEQEFxcd+QbGVFDvICsZbGP6C8Z+j7m/Rtw/AAZUAAADrQZvbSahBbJlMCGf//p4QAAAEW+LEwaH5ZY+UHwBGKYNlB6/zz68p0ouZDzUUrh92kpWmc2SKaieoWmEhLyBH8sJvWfJuUCsi0SxT+9QzDvMBkFTr7eTPiVgt975P2A9XxNBMSIq9yZbuEqtRP8VBkOZMnudFA9bvxgQADtGctjU3BLcnJD11ocuBenFYPebP9MUi6pvxeCpgcQ8ATEyLWQ2dhaKch3gq1o+DCkA08BoxNeFkhM9M0dm4uwh8YjbBjSg/EpVBYcbecH5I7z6upuFU6UMqbAHn/2q63585gijN8OnIKO/7ZYGcEQAAAJ5Bn/lFFSwj/wkCA1gl1MYqY+Ktqe6xdkATfn8q3nwAEVbvxSjbgW6Vdkcwyy1A5mCfGLVpMGiN30KEYRT74s00QHX6wJrkRyn9ECnEt0VajW4+P5rh+NlGNCd/wQA0IIjIh2qJUm/Qmj4xdN9f4e2NcHymZyCEYSTJjhJHBMMmemmGWl84ZNnVxAYGBh9+C6EojB6hw3IhfrYOZgDAgAAAAJkBnhh0R/8AcSKVjn9+dFMLDczIGpC8csV1oAEdchpu0QuWG6UyJNVhERHL84mdQWEpXTqGlCivvrjwm9MwjIkStIJ7tEX4qlFXBDmzEmgUP2Ykigd/Jag5gxUZpRY6Dqpclk59j5nvtEfuDX+jCreeXRIGEA9QWDlqz3B6lJt7ZeHSJmDiKgLoN7Ol/nO1aydm0c1RA8wAVsEAAADBAZ4aakf/AHFf/Z8OZboplgLlToOkLVYNsABqMsBYCYjl0Ny/KSnvK0hj0DXoh3muc26ckEWs3NSQzZfnna9b4bGXwZGdVveb1NVCAGBFyJLYk6nb1dIrsq84XnMOSz8bSkiO4+zdKugqhBGzOb0Xd+ZzKjyqG27Dk9rgetqBRbQGqtuRNNpakEjgiwiEL89RzA2RPxskl1aCBXseDYqCAnQf2ky71j96qTKV8wNI41hHgSsGK6tl9Q2vYLT6CEABMwAAAQlBmh9JqEFsmUwIZ//+nhAAAAMD+8J0k6rg92u61N1KjhgAIfNt54okul2QbzsLUd+8/GBGNUkMR38MHVaV5DoN0N23dvvnh1JIeSdhnG7rw4Yl0ffYh3YMX2wLjDMS6mGfPy5Vfg3QYdbve6YkQXYQY/EiZb7JKUMZEHVVTmuep8wKnzOQvvphVe5lWQkzZQrvQtjW4fvLgfN6g1jfliuHkplTSmcPxBEdxMvTQdi5rhPXKhwHqF5i4eaPi4Sm0sPdSpWYw5PlvvKLcgo106xj6egffVS2/VcGGOMXLQEKgE81QE+tHox29QOJgnHQDWhse0asldXRO4/t7VWsBO1HTYrKDQO1JkXBAAAAikGePUUVLCP/CQIDWCXUxipj4q2p7rF2QBN+fwqpnDyl/m66hrobqABvzfpEL/u8pomnaUALIYesynzysLA29LengsNZz+cYpAFELhQqHIc3jRKPwgsBoe75dxHNsIbAMZmsaCJ1q35x0+Ff85d28gQQR5GnRTK8x5WcnZlAEky9zc3SZiwh0QA8YQAAAIoBnlx0R/8AcSKVjn9+dFMLDczIGpC5sUV2d2DRfvRfi0ANFXaetbQriCVLU+2EtKBzeeGfmla0IC9Z+roPIcc9ntpTtYb2sDwBI9iTkZkpN1dk+2nDkuFDul+CrMUv9ae4hdvuWT5tzVAecTun8sGRs3g2qLsXnITAc6zVbWywHQx/5wVi9QlQAV8AAAB/AZ5eakf/AHFf/Z8OZboplgLlToOkLKMQ/Fu2ezqN74DInnm2xm9o1fKGfxcIV48Y8sWXNUk8T19MAENkbhsWJBAmDWWfw/uBf2LBxPRrsu/uVRPiaR5ScJnoPlgE8kVdHwBBFl8uUhuId0ZvBoGWHU+owo/XuRbip65XGoAKuAAAARxBmkNJqEFsmUwIZ//+nhAAAAMBiHW4Gat65WDY8LfiS8oO/VhiQDgBFOHyvnT4dnhtKxNfwIXmuFzHO9v8YJ7N633XdL8bAi+obxhBTXf7i5zkcU3SJQSmjVS6v7Kivl+mYu8L3LvtLloEptlG7KQttBzONdfhWHCmRUfqRFf5CCsSbREdZ7Vl12FI9rrhLFVRwUniNc5Mf8jhJ6/FrJkzclHdahfrnFesfvVwIrs3mxfXfG0crP7/nYb/kuBYrjRoucm+B5GtyfImMRXlb4zG9W/21XJQ0D38WZPZW+mOvUPV1EZtJfvdQVj9a8Z78FdYrrQBwrfRXAWozguDSVw+ufwuDa2faNMAMoOFrKCJX3fOsTGfEi20SF25JwAAAIxBnmFFFSwj/wkCA1gl1MYqY+Ktqe6xdkATfn4/QSwGRdgDG4t+Wq8975IPYgS7FHbS9icBZcIMGACWmyM/KyBvwedj8lwhK9Q1h3qqmplBuzuf6hW75WmN41arFloD2tNT4Zs7Cs3BxxFQLuCzG+T1pqfb8Wu/egKSUm26B4nEG0fj96WlhyyVIUAFJAAAAJ0BnoB0R/8AcSKVjn9+dFMLDczIGpCmHUIhISAMjutVHksnZLHO/U6iBfa++94SVtUqxvILcYX+fgBJUP6ZTEcXbN7OLbFGijtG93iD/xUC5Gf2V1AzFrTyIchh13Ol2UZuY6YQHLgQ2SKjUR90JrbkuWV473JEi5zPFbGHvJnWcg/n++0YrzwnRLWcCLovdLWUWCifZCDYTAYMAHzBAAAAnwGegmpH/wBxX/2fDmW6KZYC5U6DpCj2U2SrNPMECqfBwzG9yAIyYYdYGGVIABF+U6JZ5hIYXJ0VLXAHfsq/MFsSPRRDQbm9LBU25lICdhVaonGTVIKI6F6E9raaoJ8xVn/V8PariOVVRcc7++SifxBzwkCbA9NB4ctSrWu1RolznK60wtAY1bK3T3IEopFScc/tOju1IoTHiQg+72AD0gAAAQdBmodJqEFsmUwIZ//+nhAAAAMBh2CjUqvn1gpbgB+nEZqGHcws0vDgrquwiSTh8q2Fin19f9WI62tp7cuqjuKmX+LLoUm1+c9QiWtdKTj8eIR6Bp1Q9B1s4YOYLVLWV84MSd/ZX41+T2Oz9zGHXOwP2qdOPsgI4+78ySFZg7V47FZYWJBF+wSdCvCvfRJBOp2Rb8lEcCX0QS6PY8MgEd3dzvmGkwqmEsrNKl90rW6FgYYTS94ITHP5Jhkdqvs634PWJVCnX/tW6Ew+xSG7gkKbYQtqRFTfnxJPYguVvc9GDEcfhfqdfiEjgSzNgvVO8/1azCtfTrooe7vYvYTbQqvfWoZRcjfkbQAAAK1BnqVFFSwj/wkCA1gl1MYqY+Ktqe6xdkATfn8CZ8X5QhGL9m0VOPYXeYzbL+4gBayefxr/H0FujF1qghMF5ARaZVgTur0E8yJnlqrgm/9w+HQnhAJ2X8XFnA2zBqEreyYkUbqhmkUsORwP/mdSnAPJlGPgkWVMTHv39KXmd2z7+Dy7Y+UwviOyjOGAtzz/qMALJLpCDlkQ2hJIPXlqNJlLKWFQEcQlDR2v2EAFBQAAAJQBnsR0R/8AcSKVjn9+dFMLDczIGpC475am52EwaQGgeyU9tuxCRV5zsocabRqM8UEGBYIAAugCP9Fst+pFIrP75lNgNcDPpvb5gD43ntmScfMoJSYpAJNxuEROHVVI3cNxCZVQ4nAmz70LbU3K/zPVjwtIaxlhECN6jGuRPzQftyPiBQfSU6TTUufQSuTEYRMoAMGBAAAAjAGexmpH/wBxX/2fDmW6KZYC5U6DpCj2VLh+kqVPpVJnw/y8GwWkSpV1EZXPtqQoOhQAf3g0kHFnX91sxM11/He3DY++QHw9PPfD0aYmOUQgbfC46qYqBPhNP5JjVI/qkL3EEYqMxFQxU6rSB/j3GBIrX1uB1t8Uz1iOrH6jtzcIXm+xeEMDUJHXoAKDAAAA50Gay0moQWyZTAhf//6MsAAAAwGKVdik8/AQCyxhYTx87vNUBXUetYLcqsOTQqeZSZq1B+6fmcGlmVVcBdU8LUU1ri9foJFYluIOY6cphL7eNVeFAMLMvwisNJC35Rco8rz6zSHDpn1vCKAfuzhcc1nG8hqvt0DvF0APQ9i9H0RF7A6n0TnYlhFqghcX7N5r8UonaxmW6CPJfbi17FDlnBFTONeAjmA1vfPIcdd3Ue6NvRTzQ7JtU1UMFDAH+NQit/Qrzn1cJdqvXCdqhhwXb77DPLFCWxvNLUdxoO8pOnuinu9ORxRnXgAAAJdBnulFFSwj/wkCA1gl1MYqY+Ktqe6xdkATfn4/QSwGOuPCE3/yvQBBWL2xvJ1WBQXL92G8YpI8el84VquvqriSMV821cmgLuH6X5enmS6nnFlduw2aCLGxDm8kwzu2HFwQQjqZxzVrH8I9QP6oh0j2UVuFX+E+wsb/h2QE5Lgw3A4QSnZspmehv8w4Rc7gnJWGmpWGAEnAAAAAlAGfCHRH/wBxIpWOf350UwsNzMgakKYdX85abK6n10w5TqADYZaHYQiGVzLuwc6N1Oszn/eMtl7R60SMKD4zxoB3Mz+T/0RVuRZuM09zRUyF4lugMe2Dy3RKWKalLnnQhTixM+uK+y4L38xZ+qyMpS0XVineHgpzle7pdxwu70q7r28oXOZiiof7Jb3s8oYXzbGQB/kAAABfAZ8Kakf/AHFf/Z8OZboplgLlToOkKPZX2I29JpQX9d0QzjpxJKIjgAkvb+dbOQARBoA401ZQ02LqUph9d77GV/1t1gWSu1jDSxvstxro2HVWAQbt4JxUxjCsSPgAxYAAAADYQZsOSahBbJlMCGf//p4QAAADAYdZ4nik8ILfsVIyrjZQAFumG/MNvFQeVskYuCGve4xt3CGAtoZNOutl0KSey72PkN0agAc5Zev3AJ21Ec4MQ/iv60E5vRYYCH/QA+upT8LGzGf65p0KiE2Ym8+sH8tz8iWhs/iF1qPW1aPq2xigv6S/7U6G1ydcrY93ITH9KQBolmzsGuDrP4F3B/m+z6V+HPeHsnXKx5ePDYlQKYSzi5yHFba97rW83FienqWQ7xxUTePrvmw+84EiT5MSmBIdnxHNam44AAAAeUGfLEUVLCP/CQIDWCXUxipj4q2p7rF2QBN+fj9BBxJ5oPUD3VfJRg3XFxrITZtF7gFG0pWnNVSeZ1wAEQWFlluWJcF3Kf+lOcP3REBM1fis1j39dGMRJ2h5hIqHEAtpyzcYimcjK5OGyTgaaX9iign2A30clrQAE7EAAABnAZ9Nakf/AHFf/Z8OZboplgLlToOkKPZVDhcvR1KanuqOPX7kGpJ7pN9a+vAfKojbjsdIMp643B8m+WAAjKd5cclNU1W0RJNYE+Sae+Ishmdb0sJLo+9md2vjmNEmflUkioAzyaBRQQAAAStBm1JJqEFsmUwIZ//+nhAAAAMAkm3wnumNSpwADbypDOfli7XpD7nl08wTjE2qYR/K/u5somoPfv1/2phNUqXHsUBxsBYW90U91+yn0Uz71aNgjeuifUFvLO+1UbQ+R/+MbYtcrDuh/GM0OoPKHFX+byyaxTaXVUKuzNJ7fOtcqTbBZIuMdIdj2n+MsD91l6jQGjYj/YDalzJuG4ZlpRhz92t+yV9kfkA2/0zJDxpoJRKHHuWUQmb928U6whhPoIl8FhJOtoLxx52DHpr2QMDiLwBwIVNvD1nlRrKIGRi448fYvwncOJHABCukWMFJbBSl52GSD6mLW9rGrpUq7Qcnxo+tsKeAFUCU3ayjKKCV4HH+ZdL8NXjHFQcuH4H+R4fPEHeS4XjNZhf0EQAAAJlBn3BFFSwj/wkCA1gl1MYqY+Ktqe6xdkATfn4/QA+aBCWhvsBLua6uKc5NGTNlqOK9S1EQ3ACasrJ/wi1QkJSdi+dBrDj9ar26mnDLxJz/og1JI6ByOWqO5D/bDDyZD6Cu1LiUc+kt9MYf+74gCleP+CkOqK7WNPMok23qvLR7G/I712Fh36HsxgKJU7F2ekuoGlJw+TKABWwAAABzAZ+PdEf/AHEilY5/fnRTCw3MyBqQph1Hp+J6QvIm1LkcAra0jmNzpnWwJ2KsntJow6ex53dT4D765581tuKnk4qsqfAFahlTIXh0/f7xn8xQmmBaNdu45bFONiYueQ9m/pzHxg+ITWWRTbw/LESQw1ACDgAAAHcBn5FqR/8AcV/9nw5luimWAuVOg6Qo9lUNSCyH6cOBrYVZw52u6AD9tSAd7BLaLaPO6irSsVJV2LXHpAxv/6D+tyTJgF2NHDv5zEWr1kLkKtHzxBRJMdZCywAT3AYWfbVGhG23LErJPaGUgejnppp0rU38XisCXwAAASpBm5ZJqEFsmUwIZ//+nhAAAAMAktGayhgBWcj9+8ytarxoxE5YXjDPydGxDpYW3SCYsYBPgfq68UtX1HXZ5skZ93h3sSkaLKoltCJijSYKKYXKtEmEhTdUXyAWixSLGQrVMAnW3RlyzwXzaYS0O3nHTmetwif0MUU0VOLo6uUKGdWzfIchfx2Irw5nkLGo/tLSc6kpUq4exA+1qBWFaC7HLpuTPIizMgqIo2+0G8Dnx08ewC9X6VBICR8xMx4/shS89KTTak/KjBSSKnum2mYJHe/4Yl6SvK7nuw/AkILu3nrBAkx/vsKVFFa0ovGgPPokDd+54WEW2X0uY5A2SAGs0TX14Rv/rYnLe4BnP49SsR/uHh7plvfUOORAb7GMVGhTrfKO8WIHYpOwAAAAuUGftEUVLCP/CQIDWCXUxipj4q2p7rF2QBN+fj9ADuXv+WL7OjgD/ueIOFfOpEi+lH3YAELgeGTRyK7k7amUL1KuCeHtPaFZml1T2Na4O/zzl/BnZbRuDtvHcX87VPvJ14Mhx80YBWdLQq4xfcS9dbNbPbZ2TnVJyEvhNthCKSQsUn35h6O7QlqNdDVDjGje2FWT0fsMadTbYeSni5K0PKUITt4Z7m2Te8hT4+QVgXxC7JyFuIWcAFJAAAAAZgGf03RH/wBxIpWOf350UwsNzMgakKYdR6gADSNlgAQtoHA34tbJfzRl8n5bjS0PqBqtWuRsl71tLf71ahaPM4tTbidgHnH4ZnVxCLGzzMAm87RpwbcQ4ZDXPywEb4Hpy5kDy6ADbwAAAI0Bn9VqR/8AcV/9nw5luimWAuVOg6Qo9lUKbnW49T6I3R7ImIp1uo9UjOwABsP1MEcdJs/tUd3V2DF80K3FUyI3u9V0dr6u02fwWZ9l5fWrPQ3Zxi1V3uiGRM0odEBTZMPffBvENevm6P4vDM8F/HugMn3fl46woFLr3xHZEPuQ1cwn9yE0v93maUW+AZ8AAAD5QZvaSahBbJlMCGf//p4QAAADAI7IMCSp4TgA1EEiiMb8iuf9o3tbrIpJr0eLn+7wMFgano6F+k8V7u359C4SqE982SRbvbQiXTixP2gByuWov/KLwtDuCKPMJY9GAp1mwOkMQiYG7llhMbFurI5bM+CqvqdIUQx5I+2H+ZXx+cha6lIeyC9x+3h2zg3Wuw2E/u9jdbbo7nScYcIYC/SFAMhG4DoIUfZrMLtUIDLMatchsECbEv7DwAd4WI2H5ZtMPRZTYze+rHcyA0xNaU5L4pZHHghTTzd7sfs9T1jLQoLR6ndHKGc57beXjyzofofG31hA5O+hKqMXAAAAo0Gf+EUVLCP/CQIDWCXUxipj4q2p7rF2QBN+fj9AKV+S6IUD2MrwgBIVxRmtm/SGutHw0IT4oazrLm5MVkpwTYIUjADtv75/FB1Ol/LUqK5aFSKgBrn3G5OmCBmvSb6Z/w2/u4dc40R/JqH3dhS8XKUHNpHEPy6kAc7CxdDJFtbBZkdD6hdanm9kLLBzCZZc+siC8iUS/aoch9T1VMNjklAATMEAAABsAZ4XdEf/AHEilY5/fnRTCw3MyBqQph1HigdftTi6D3Q8IiUtsG7/M8AUAhl5s9McRQb/6gGRJKoifcPGhpSYklUwTStlUCMEZ4a8YGHX0Sn+Q+OrhlDZDkrqtLl9u1DfXOqRYieU4tS6oAekAAAAaAGeGWpH/wBxX/2fDmW6KZYC5U6DpCj2VcDP6wAAJZ4bZp0w58K0P/Jv6VNZARZ9GRI6MJY+QRpG9reODxnUjVfwN+CUze1k3GonA2B9NsnZk7AhEVrI7AUS9cSOTaNuRPyR4fWrAAKDAAAA9kGaHkmoQWyZTAhn//6eEAAAAwCObNvgkiSnScALZpnptN8JS6d86VoF1+4BuXflMxMtJGrKNSc/Lt5EU7Qrbnc+vJM8EEkQ6pSuV4ttPF/W8sw23X1TwzxQ743Yw6WR6nQ02o2ANx4SeXpAtTDY88tPUXvtAzcjHhuUIEN8F2zqwBVZJaBIiT6zDzvu3S8vOnfLP/Vmg4x+Ug0/TKYTvAAIhk0/ic+GKXuTwBFJiCpguXwxPW5LkaS/HiQwUtMSC6qhbJnr+BZJMiobJn+EJ+O8aIA3KizSmBYMZyLISkZ99o3mg4X3RmBwm47xpOWXXg+gEaiBgAAAAJhBnjxFFSwj/wkCA1gl1MYqY+Ktqe6xdkATfn4/QCXqbLwAEpgSEF6Rx4Qa0O825Lrba7ei7O+7Zbg6nhLSt9y7SjxUU2t1glqH2aMTVfDAyrdehJovZbfWmSfRpK+FfVV7KSHydVc7ZIc1w7UR9P+q6LsuuyolehScyDDp7hwQSOa6lr/NcFOlOSAeworlDPWZt/AUPCBjwQAAAG8Bnlt0R/8AcSKVjn9+dFMLDczIGpCmHVGG0kmpgRWpqwb8BJhKKnUeOw+R9pAgBO3W3SNFjgEfz7oQ+ydGYJV/Csh906m/MP+Bijdz9SGTf+JRfZQI1HeFCArCtrpDO8iH8psRF/8eSzwoaCwALuEAAABMAZ5dakf/AHFf/Z8OZboplgLlToOkKPZVwKp/h7WRQkTE1eXcOK1W7tFIyOF7MXCSq1Ey3/RzEhAAJrLbdmcce+RwSJRjiw0ALyADFgAAAOxBmkJJqEFsmUwIZ//+nhAAAAMAjuvTYLMhgBGQJ0VopSq7k0TJKITTqxzITb6SsPBtr7oXZz2Z9LVCMQBzzMXPxUj4VqUKzYeZefoBh5KYBhZIhPmY+3grLNfZ0yfXr/IKX3jgV4+YUURATK0sbqt0ZdfF7D8K96tg6iHg/nVI4t4tk3DmeBeTXFWQb3SvH/NeiYPkxUBW/C/q/MggHRU2tOWPBgGGRDxDrJcjMv+D+oXA2u7rCNIH5MmIYpnnCqNTYt2JDRQNOL32RMnxPOTGvhwSAk4Slk9CZvQThQdHg/FCdk+zzcYAx/pzcAAAAIxBnmBFFSwj/wkCA1gl1MYqY+Ktqe6xdkATfn4/QCXmGLd0q2RPDT8qa2r7lAAtBCbvbPcXiqHThagn0Z2+VSNWMIM4z3ebj/Rh6zvgP6hs7tOL629KdyVtXj8kkU4Xs78iPcRCmt8etbu74tYMYIBQbUJuGvN6XTOttzabL+dQJHF7P6M/p5YZkgAKCQAAAFUBnp90R/8AcSKVjn9+dFMLDczIGpCmHVGG5DD++M15U+YlcwATKX1MqA4z1RepxFlma2YzuCQHrtqCZ4Ji4T38xlpL5Yka8wQl7nJ1TidEznC4IAIeAAAAhAGegWpH/wBxX/2fDmW6KZYC5U6DpCj2VcCqbEIIN1rIVPXMFvt2ilDXmXLmiABOIbUa6RxNyqDzh5P3FPbW8luoiHEQyBoHmgzxiJTo0MnF60FAkLF2WyvIpkbKAuTB1ri0lOSpRi7Xb6RKgtSbUHksbfNXlQmviOWKdzKOHfyHfAAKCQAAARhBmoZJqEFsmUwIZ//+nhAAAAMAjpGBwA6Bt4hALg1t1G48e3OzF8KvYb3QEZXWopsTXBECY398sRDbtm9LZdr+rw/zVvxy2x+2LC9/4x0cWn9wSCuAM86nqZpp7W/IfHuAxQAdii7F2P/75cklt2OzjcgLqAUwHJZl+eTRbydQIBB/bWK+LZHGFilvLVXD+PDHJzb176ncnbISplke+ir9/FVAsKGz15CD2jlSrahIvib8ve8tlzLPnmFEqe7hKhz1DAnWu/tY+5xlhTYbhg3vWFhA24ezbdNW7zIx/VSMmJbvHg/tTSCLKqURMDRp/6NVj5Q7auiYST3A1C66JMTWVXQ5WLSXZ4oReb4qoQGQR6ty6Xg17OLgAAAAm0GepEUVLCP/CQIDWCXUxipj4q2p7rF2QBN+fj9AJeYeaa6zvMzSy9E/KTEqIyz42QQDrvy/wfQnOO+3s8qwAmSYgPZ5MccLzS0L8lfmmAI249Ti8OHwKdp55bM+/B+VFC7NRM7M7Y56PGeXsX4UwZHTkbl4gxCNEjG+SDhbxoCg5G9Ti45x87tGwa8jp+UJ8eEpSJKyQwcbAA/xAAAAhQGew3RH/wBxIpWOf350UwsNzMgakKYdUYVLVMWM3KSpK8YdiUnrs9gpP2QAEwn83XZuASt0lUQ5x7fySXNuD1sO0QShP5/X3fBz5xiuE8kF/ckPUIpY2KiVo64PUDgSISo/E1DBAv2AXhAYHnlML1nPsjZj/hDHP8NzhtQYjJoNZMDQAz8AAACIAZ7Fakf/AHFf/Z8OZboplgLlToOkKPZVwKvBr/w0XFSVzpgAAbUS3re/39KxJWIC4yfegmDlm4GPXIy8ieVFJ33LOyWFrfFlCtvdlBRFegjn73mBIkNNHPzIvJ5CqVS0v7KLOblfW8dIjQ9yzchXN75YlM68bwQYKN2hVwSWLKeqvoa0bowFtQAAATRBmspJqEFsmUwIZ//+nhAAAAMAjpGBwA6P3bBNCY/H4y8cyXlWhc74rMhqB5GrIRN44AWY52CIe+hzhoh/m2fBV+sIdk567rPt1sUlF9ymKuA5U0tNI/n9ckHQ9x6dniOLeAwNMpN50/XxqCnpFlaZ6VLrC/qDQNVhwZUwvX5LuC7OQhbjLYDoSwtc+gPMOYIP2E98XBMcJoYHIviVDcs3f/zdR8u888OSXQemGRVBtX7pVDRN8RJGflunJX1b17NtR2yaro08A+2Sve83xxgBGZIbf78zkwU0N+gor5/1GdfgyZkFNe1rWP1E9harfhA5S3TvYkIc1ti0DmtdsTC7dQRf/50PmLBa7RIkzxtiKiTHaZLFrcYhvTgrplO3j6S6KEwWJP0cs1NjAQkvjGfo0xK0vQAAAMBBnuhFFSwj/wkCA1gl1MYqY+Ktqe6xdkATfn4/QCXn5DNQXdXnQi7HKUzGz9NAFh7wrtCQm+bUmapmQ7g2FadyPNXrR2NyRqUO9T29EDBINF30INXt1e2LsT2CwajVw1ek2+01KtJhVanVnilq2wSAIkjYZPWhERYGmm731SeiL17ufZZ9SBTR6Q6cEgNZ/oK0of1Viqed9wTBCul3xJNAAYmRXhR6kGLHbrvwFQEGcQAIS0XvJcaGk2Sfne6ABAwAAAB7AZ8HdEf/AHEilY5/fnRTCw3MyBqQph1RhuFONVpiqUCgBFVT9MLMzGshj77A/iv8VmO356riPlkOwJjSnfGX1c8nfEFB/8Jvqdam9/lhGZzNMNhvy2gff5Uv/WELjoAswS+OQmUAYwHSJkoI0i2YK7r0JSnlLc3FADKgAAAAmwGfCWpH/wBxX/2fDmW6KZYC5U6DpCj2VcCrwR7X0vlN2/EAAIw0YyawdP+nFFIz2+tIl8sNHwnKPjvLFIJaYTwS5T/UgV0V20NP0Xc6sTBORD4lxx5A+cj7kIP8BvWz7yL7s1hibK8Db4caRms4UD7WRd1R05DjoiyZyzRkD1fCf6lk7XDCcJ6XxRyYOC9atiQJz3Pli9iXUAMXAAABBkGbDkmoQWyZTAhn//6eEAAAAwCKoUPXBxpEs1g+x1gjoLcCYEAJq5QeVql2FjibhKX5xNuVd7i1ilqk+j+HFbg7imBEGjm/V2XcNLSPOU2LFwKHj3QZ2N0vMWw+7tq3MReFuwfiJi8CkKn9sh8OXtUBMF6enPs1oXaJt2t2QuPAQ7EuCnhSY0Rxxpf1zXsEhlbBUsmnn83qbIeVpRTuO/t3+8H2ydOgYo8EnpFvIAmoJd+x/vBJOvw/KBGXUqyIodY0m9c+DFrCVbkyq46c3TCuxOX1WT0TpAO/MIGer9smJWqOWSgTU06PokQqWmQmqxAxKVflHOTGhQT3mz/aA/RnzICWVJAAAACaQZ8sRRUsI/8JAgNYJdTGKmPiranusXZAE35+P0Al5htRdOzHnesNgM8kmIA7yKfgAH835ZCHzqvHsI515DF/7nvys3JeIFVryvbqSaONQ9N8LbogiS0ObA5ZAX5+4x1+w55e6kX1g4QrnboBFWMuJDmdqPQuXdjVGuflDRQOD6zHnYj8tWqHUKOFm8uHD4nF6vwcGR8Nx8AFFAAAAJgBn0t0R/8AcSKVjn9+dFMLDczIGpCmHVGG5ycPLyWPkQgMoDfZQN5dR3pEtQAEYCb+deLvSq0sGMRJf1fy1LSs647G5VAaszWZy+Ef9Pt4dpViYxTxZmnHui/FzLLSlSYynUWCOxssbRKNYj6EOb0NICBEs58jtM2nAXxovvbx+kEi2T8NUOJ17LELdI96pjV1KMQFSgBqQQAAAIgBn01qR/8AcV/9nw5luimWAuVOg6Qo9lXAqn+Ht8V9EKzkAUCONVATEcuhuX33bp8+jQ6WOoK4RSV902NwyA/u6eg+bjg4Zc7oPaauc2FRvHNItRuYGyBPOMzEH8UhjVTWLPenuz5Oyo4vXS4S/rLflQIUMsqW5EFAeUUmwvtn2L/BRiGIYAaFAAABAkGbUkmoQWyZTAhn//6eEAAAAwCKkG49RLnGZF1uqzoae7oEMXsptpF+57QoOjoFfj/uRsUZDg97qbJ6d8hM9akya+7CL5mV7VOWYUHbIHaOVelni+QOOi23jZ4Go59sZjWqtrvSPPKQWtCFuH0qQzkDfiNy6dDoR6rpMDaI2cSB/nSGvPbkUFy4HJV6baYETTzhj6aoMPJKEWGbptjSfipgGx5/TO7MG6XdiX2SStjH1EolAS5m631q4Iq2MdDBMPJziFR/x1HeO3Qebze7oBi3L8s3gzg7fbzL9aEc3UpzH3+gnuH+nVweT9hy7vqRTOfbIElnTQhuFT4jF4amkTVOpQAAAINBn3BFFSwj/wkCA1gl1MYqY+Ktqe6xdkATfn4/QCXmAStGT2ArwUSQWILBUlbXgB0jZnbrdUe+CSGsDlm9pOoboZX9CNTu+fW2PQE3Ra3Vx0pk+8QlJcfuyBJwP05Bbx9fGdcfNUcAPGgy3JvM5sCmruQZ4IoQY1aprP6TBcoNM0wCpgAAAHUBn490R/8AcSKVjn9+dFMLDczIGpCmHVGG4oO8b9W9v8jq9+gABEjV0Nj3jrTyW5oy0cVK8NXKE6HHCO2rR4/KSV9/Pj6en7o/qHwUvI+bLfARUOHwIYh/46R05JLx2BqQRvviiFE96RNao841woLDivgAZ8AAAABrAZ+Rakf/AHFf/Z8OZboplgLlToOkKPZVwKuo0/84HJIAL+673BsUkfVwj8zGjckmtT11blitSfvxEIlKFzX88XAcvP2AOkkQooFSuj+29aCZvaSX2QfmLIe1X4k312jhinQ/iBGfx9QAMWEAAACZQZuWSahBbJlMCGf//p4QAAADAH99jwoew3ZfP8gLQAmqGo9FbUPSeknuHBbH06S0RhoaT7M0aFIUTmS8//+G+GnN/VYar7BZQNZ0TXKYIRE28gR+Ur4S94tc2b1oQeUlr8DzG0hmhtOEJ94zRlgNZeCDqTHyLtHowKtrIasRPN6h6fxvixjn4iU6Qdr6tzZCAGtYnqRHTTeQAAAAWUGftEUVLCP/CQIDWCXUxipj4q2p7rF2QBN+fj9AJeXIA16OIK474nJdMUwwE/EIRkN2KeU91wfz+1VG/3YjHL9ABvw4PAgSFNNg+JP8ZoDE+rZUEpbOAAesAAAAawGf03RH/wBxIpWOf350UwsNzMgakKYdUYa6538z04AbWqnah/EF0y4obx9MPEhiK/oWYwvQ4IznniYgFpr8h+nZFhwjtkAO7d5Q4iyjQxEqlGHhbHRc1Vutlc7hFjliQPAZuInDUhV9ACThAAAAbgGf1WpH/wBxX/2fDmW6KZYC5U6DpCj2VcCpIxirDuR1Blp+Is+4ddACt9LS7VHk7kOynRZpbet4jdCd1v/yJPtonuXEyS5rtcyTbOUrRuU5OHojMtKsUov+1a6cQLsRpn2webdIe5AFkYeYADPgAAAAqkGb2kmoQWyZTAhn//6eEAAAAwA07eut3mrPMpfKH+3DoSfX8T/UAAODzgJVR8tfhD9oWUeq6BruEY34I2iG9sT9YIlCHtUkEmiKJGPPrIX1Z2lkQo9uyb7AjQrGpRLJ5uR+lPhDw0/WaeimShe66ODbe6xiNRao7HW/1gkovoPWvPkRhR+avOl0epW4D/PkyqWfbY/WDgdcBw5JJFJCRoivBSQljepGmIgFAAAAYUGf+EUVLCP/CQIDWCXUxipj4q2p7rF2QBN+fj9AJeXEREunBOVaDqrgGRGRfWKMgBmFqMr8XbrRTaUCfdqhACy6VeZvA13vqrlXzdYdhik40f40blznbjChcMB1XbAA24EAAABvAZ4XdEf/AHEilY5/fnRTCw3MyBqQph1Rhr+I8gIU7qpDcCqdu+RHeFsKkTsa+93T/YFCEIAk4FD0ST17x0kXC9Dedurjm1roo+mGNdZhlPzFNuu8MyGW8G/2+hGGBQSCu4NBBSg6JoKKHNhFgAoIAAAAcwGeGWpH/wBxX/2fDmW6KZYC5U6DpCj2VcCpIxiw7d+RgNHso76WRdQhZ6+/fpBAATdg+4Gp/I7WnB6z3bi/JIDwDjx+/1RLxnK0veStgui9stTx37E90VKOA5kaukUgcWv+LA8lRu79Y9yAgKMH7xkACDkAAADBQZoeSahBbJlMCGf//p4QAAADADS/3SsecAgBbIo5qFbmaTi21nLl7WAWW59iH9ukh4Yh4kWcDpVRXKUn0wDi3iJB29ni7tendSiohH8NEA12V2sYOgaQUegSJ0ILdZhGCXw91yOCh3nCEslt2ixP9zmsxIkX36eMo3dTcYyN8/E3lfiB1rcZcom3tUguGEjbQzix4qOVF48Nm8H/iABBKEi071rpxk+9HauteEflplhPZsIa1d8hZfQv1gXcbTcoIAAAAGhBnjxFFSwj/wkCA1gl1MYqY+Ktqe6xdkATfn4/QCXmFz6TM/02l3k/TlppwnFuRppBqZaodImpOZ1WsewzX/dT6Q4o9NNGgAvrqnT18PmVL2WaeAqbRvZ//VSHfeHKQQiELDFV+ABiwQAAAFcBnlt0R/8AcSKVjn9+dFMLDczIGpCmHVGGukBVEO/cUAJVLZRAbo8nWkMR216/3QosmHwT1K7L5wUoIlA50nejfJH8mAek0b3iKI4LMkTn5xZJ2DGYEfEAAABLAZ5dakf/AHFf/Z8OZboplgLlToOkKPZVwKtqMbSK+CJQAXQAumeN1u8wrlrbp16ePvX2ugVofPaj9hRRodJ5HfPPIsRq+QC+gEXAAAABDkGaQkmoQWyZTAhn//6eEAAAAwCOfS0ABziro2jr+Qgg2ZAGU0R/fET92sjZay3VW3fhf7JEZ94uPtGwLDLgkrUHonq1W2gPPt54ND10xqqn8xNM8rNlPigHh8CrFCP19nPPsKhKtgpRnXzV+IpMjE+/nlYi6iPQ40SdNBS9+WV0F3W+mA+j2g4IhUia1m+ToeK5LlDTDja9xfP8/FoEPxqakoy+TVEHES5rAy8lsIppeIndLmV9Ghnx8LaqzWFzcnKG4UfqgfG6kDOMVAiT9j/gfdAmJYryODLc6wO7jQUPIm0NK+/f0gd91o8SE8c+IvGSOzq+Ogz5nBNTeKna4U1JCN6Iw1yaKoOHVG73bQAAAHBBnmBFFSwj/wkCA1gl1MYqY+Ktqe6xdkATfn4/QCXt5mBFHuipYsQh0N0zlw4bTs4MSYQgo8UsK/qKgRUyupAByXVL4AjZgANh7P5vl5ioYGfSSFhRs2GGY6lHanRLJB7dZRAaG4ysKrTNQFnAiAYtAAAATwGen3RH/wBxIpWOf350UwsNzMgakKYdUYbe95SQBfc4aEMDN62tdjpF4NOb8tcTD57W8juctL/Ij6QYNEOg8Mlz1QLIirfhahb4pySQDCgAAABpAZ6Bakf/AHFf/Z8OZboplgLlToOkKPZVwK5QZ24ANnsYwrhQBjHok5DDrLpiJTjJIwf0FV1IcRohN2SNjwU78VkwiD2MhsyJFmhh85eWsKu1b+4T3DtMmzmcCrn8dDMVluWMfHo2MAXdAAAA80GahkmoQWyZTAhn//6eEAAAAwA057wJ4If44A5aQHaT3NqvC8oWaQESK6pX0TyL66dzWXqQSGo3IpPPTQ3U+24PJ8bLd5wGzAft7noHQthhjq6LlXQrse22yLir+Qh9EJgMGElXUhmcMdjhNEIHsr0sLsKMckGdgZsAKlx7Kg4fij0DCZMJrXz41GJi1f9M4C30RfYvO+kF3RQ/9igpq7o8gG2efaOFvf2nsS9/SYg6Q8C0ylcpFWMFSOqY0EBYlfxC8vD/RW8MG0BhX+gUSzsZCDIenqTZS0qYGCrUcsi8KfiCpxgmEz4eFv0YLjdIPCksZAAAAHRBnqRFFSwj/wkCA1gl1MYqY+Ktqe6xdkATfn4/QCXmXrgdZHkRDGNx9P5StGdQ8fxgYptowBuEeDclyA/Za6mnC90wAAdjz9Su4oXcryEZPSjJOD3jjDlz6qETAG1s98UBhE7HGysdwlkW23jih5RVDAC2gQAAAG0BnsN0R/8AcSKVjn9+dFMLDczIGpCmHVGHDas4ARnmPrlAfCU7IEeedKZDMzdgjzCFnkpZeanM2Vgk1I0JAfdK2o+SirM+wx+Wa2ofJpO1WF+qowVkapprDntw8FEdJ0UVAL2KotrphmwJABdxAAAAVwGexWpH/wBxX/2fDmW6KZYC5U6DpCj2VcCuTcG2PtYbT1wAP5jF9GYtzWOCBr33g7K8DJcc6qjFyGdyRN7WB4LjvNrKZHF/AxVO2aANiViUA6Ntv2C7gQAAAKlBmspJqEFsmUwIX//+jLAAAAMAk/ZQiANWzEgZocvjuUP1ZoSgCbJGMkR0NDEzEqhLT0S+COBs8OQAItISs4gXcyhG5ATMbdI7A+cL/3OtKezsRhv9yCcOSnBv8j1+oHZSbSe8TUnFSy8ipf90v7ZQWrYeb5vah8OSdSwDCZP8N5zwiGOi6ARi8IRwIniDtFkMTAxKpYjYJHQMbtTIFREeJmOVytDYlgtBAAAAZEGe6EUVLCP/CQIDWCXUxipj4q2p7rF2QBN+fj9AJeZeuB1kebQzu5oABXTTVfe2N7AQx6mRf6u++m5i0KDcOHR6OmyqYA6Ctwh+odRCf+KlywJ25472smdJ5pDnxVqjc9ngBxwAAABRAZ8HdEf/AHEilY5/fnRTCw3MyBqQph1RiM6lCRm/ErgA49O+wpQYi/sKlr0vchSVFFsemVJFXStdXu8NAZtdKHiS11OioHxBPAtVDKV3wsEHAAAARwGfCWpH/wBxX/2fDmW6KZYC5U6DpCj2VcDmIAiiUpB00ACDJHgsCcEi5lxQl9KsSNZvcmaahTnoPosyNMaXFfea52W0pEK3AAAAuEGbDUmoQWyZTAhn//6eEAAAAwCSfFkwcAKAYNh6StKp3QDVcuNmRi5IJow5L86EArQVjF8ISJkWkpxIcF9Vi27Iarfvj/XnQ4NYr4TPON1CIElVTm050Gle0ScUBKyyzEsi4ggKjeed1nGrBFV1+H3jTgIaLxQf0nod+pPUDCEbHPThntFHxPTnaiK9uPEuX5ZyIyRlR677bXcDtrEqcDxWd5Ncvwt88/uRMgHsWS5V1yhfgA6gPpAAAABQQZ8rRRUsI/8JAgNYJdTGKmPiranusXZAE35+P0Al5hDUFkfYPaQAWHGBy1iUGggAl1X0TNtdtwa2cH69gm9FNhyv2QCH2FC/yndiVpEmgrYAAABPAZ9Makf/AHFf/Z8OZboplgLlToOkKPZVwKti8P2GAAv9V9hQAMwEf0XewYzTHABNcRJCxCmR1e3Jpz9O4lnCoY1En0DGZoLG+i30/Jog4QAAAGNBm1FJqEFsmUwIZ//+nhAAAAMANP+x1DAtciNYrZSxiGGBXEWJPo0qQOfVC7IOIuzsJSjb9lYrJvPBcH+Q+5Bax9ae63tzAFh6tNQtiyPuLNZLFX9L0nHiTtR56XUN+CuC+lcAAABnQZ9vRRUsI/8JAgNYJdTGKmPiranusXZAE35+P0Al5hBKSXq1v3dqc93Q/O12bcT+6TogAFeP/bfbN2n96W59YDKrfzO4B+26rWOHeE8qeFyhv+AjDxVPpOfpp16STru16ARj7LAtIQAAADABn450R/8AcSKVjn9+dFMLDczIGpCmHVGG3j1MezcFjdgCBPRXm6cXWhaD1fuonYAAAAAtAZ+Qakf/AHFf/Z8OZboplgLlToOkKPZVwKti8I25v2cTidTQVF6qALwDMEHAAAAApkGblUmoQWyZTAhn//6eEAAAAwAzdrXi+IA5Sa90cyUxBVCLR4uun1Mtuk6UKFn82DOtgjnxYONgMe522dH9QHBoh2KTDuoDWDbcoT6HzK2ey7LfwxuSexfD2djuK1UNZXYU4GSkuRrtstf4zly9aS+a6Fd4g5wWKe6Otpq3sxqDs3t7rNNzgMLYksLJMlb5NOZKaG8g1Idcjeu1HE4EeXW4Ayw2ZgMAAABDQZ+zRRUsI/8JAgNYJdTGKmPiranusXZAE35+P0Al5hBKSOsNpfvHmosuyAA4yqphC84kiDPGgxtQJlEFFkDUZ2QELAAAACkBn9J0R/8AcSKVjn9+dFMLDczIGpCmHVGG3j1H/s1D3dFZtXTlRJAG3AAAAC0Bn9RqR/8AcV/9nw5luimWAuVOg6Qo9lXAq2Lwe5m3N14kI0p6oQ+IsXYr4d0AAAB4QZvZSahBbJlMCGf//p4QAAADADN0HehW6mqsAC91t6v7jxIgZeqDo7exolJhbuuNiTCaAM4z39AxjIE+OSDbyRKTWE4DUxKZmUwRmU1TXAkOvoVf/E5mubBFOIw2EIqtM/xFj+/5QxvnXpFQReVD/tVfWicKDwycAAAAOUGf90UVLCP/CQIDWCXUxipj4q2p7rF2QBN+fj9AJeYQSkf9MKGP8sTf1FBsdSD8UmxlT4vRMKDAgQAAACgBnhZ0R/8AcSKVjn9+dFMLDczIGpCmHVGG3j1KjmEQ3xQy56La+QaNAAAAJwGeGGpH/wBxX/2fDmW6KZYC5U6DpCj2VcCrYvB4tMhEftmam3AJuAAACE5liIIADv/+906/AptUwioDklcK9sqkJlm5UmsB8qYAAAMAAAMAAAMC2vR4kzvk1PE2AAADAQcAKGFTESEgFLG8KgSIkhcDjL8CGj/9lIv5CWAKDXhuh9vW6s2OfTw1kVSbAZRE0luunvcaF6pUB0G3gvd1VDvYm2C8JTuvmC8D5cK9PatVxKBYnpg//FdTZO61vMxg749afnJYTo6xcTa+K1IbieWbuQ8CcTjy/J9OMQJnuAR9tj+90h3W1iaZmbhT0m/bgIg1UhLOCp49VsziPMNynnm+PKL/9dr6VR1aVslK6G0D2j37jHYDnoOB209+8GR1wwM7JzMUNr7R53Jx65fiQBKMaRalFY+O1upXyWxEjR8VB9h5TiTBAn1xuLjyB2M20ZUH7FOkrxoc1EX7YwX2Aul0k8EFx0cfcgkDnvUNJu2rPvFiUPEe0+LCs02VFN0BeaC9Y+SX3k8ilRnQfDgMSXQ0y1tOu9I7d4o3Rc5N+v8sQc4efhSAZBrsVkAfsRScC9z2+AB+Q0DeO5Abyw/tw6BEoz0uz9bXOKTuvONd3Ia2tyA3QMMEanTFq9vNubWEDelafT3MC8WSRSpHYfpxbyDz/9I8B1Ouc1tnc8B68JyjTLBBVdVPYL2O0ZaMdzf26yBiXDvTqacPBIBbiV4hPxXsBvq/v0ODTNSrdYOhLS3v+2QsCvZPO/vEL95lyxQhTZ0advROuY5kPZUZ0HxhdnrJOSy2k4feWRUxN2hmaMo7TuJP15nt8sLQyGdDAqxk5f/BVUIr5WnJaUX9qlYoi2ObIMgYVDquMhZZpbq2Ihghv9qK5mTwV1PofWGntm49DugBtNe/q6iDUEG/JtzjmAtBG1js/589ImL0V0l/JcaR32luL9RJEByYVKGXpd4KjZslu9qQH6kajrgYcU8MjdJLT3L1N/WEsWLktMb3T+E8qVO8z/1JBQqp1r/LxI+2ZDCqKVqO0Oz3tYlT2pnLoCQymx22ZC7ywvlkKksBBehMShpJ6fDHo0PB6qU/DAn+4XufUShoZYmvgkG5AiGzK7zj2vrVhK0d6D1PY/cICyVM90NcuLhLeham+VBfF2zkPF5LYbWM4eeSI83IHdbq5kKaKFh5MQnP2n7IvmvkHw5yS3TGDOjPAOYVOhdSLdh+b8/21qobIfbLOAoRlBtv/KYsNA27ccEa7WH5j5jvcU/rFoSHE5eR4/wlt7q6iKx0z44Uqe1qjj5/8tGi6l4kHiri2vvG0vnhGZWrnSy7ti5C6zn1AF/Hg//aUs3jKszXt8+2IxP/AVX2fdKi/nHqLdYo4wmKHVkC3zcufDYagrRZ7WUveVKO6IThSKpdDk8BWHUmS9xS7GHQbet/7p8dZ2JRmW7TZcl6j1TZIDb9E3Y0lwA3rjCXsTKWBvOwDzcMEwA2vIcGBy7XK1ZgnZYY1Yx0muaYn5VrYjjyeadE6Ygu+RCj3OUOmBeQhuQ0s4YVWA/vcgjgcYdohlchpjxri9BbhdmL6lsh+tRxXcPWKCQPsxlPATpEF/3Cc44fd5Jr9fsqAPlqAAUrRV19tkUlGJiXii7S6bBZy5gFjovrDi0xnXhlSIqNtbGScv/CUWoAZVkQYiAMS/qzdsnZBsOwbr3pLZwGUzza8WU0zmiwRJS8mIqdzdsQDVJGxAsfiSAeNE85lbnBZjEVT6L4ediCUPlm+O8/VJzJeWXQVoC6Dv4LHpOTb/VGrMAWKC8TbpmKUF5gT0e28ZoqDstD+ZwMV09oisY69K0lxLmDCQ6FPBz9z2QK0k7JvY1bfaELyUn29GQWLz+EN59+pMYDgfAwcq9eLjNsb9M0N+H7ThGSyGNLn+nZi3yTa1t/CNSTQUNjyMHG+y04Ykk97BPKRleuwg5KVIAgp7jDbK70VsUh1bntPbeBNomCXehDiWCWSppcZkFR6TnX8eeNXpCw07jdZ983WOrMu/F0ajwzWZXHExv8NtDHyJiSFA1fd99rW/+SUztIUF/Rlny1KPOIEpunWqv+vazNawpXOThgoiauWnIc17YsPEp6GcbOpS+2hdzaPt4Ubp8b6+bnKFwHjBz1dcJ559/4mHZEAV21fEm76Hv9xlxsCCfRjH/+ChQczedwkWaulnB2ipUu/m+WnE6OwzPLHfFr+UnVT2V2IM5ILBtHcUYDYrq2bxqJiRmh9kC8DUWYYYPDeK0ByECJ8G2X+tnvVcZyvxv5VoqRL0Lo7iZUd0HAXffrIrRT0brnaHrHkqBa+fvfI+VC7P0Zdss7umJ/mTMI57w10yOrN3lRxd2PzcYhC7Iw2ckQOkO8tGjkrztGEkBb+tFrKo1CwAU1op1TpVd2f9mtAgI/bzPAlxtNLu8Qar1r5DT9KM5tMFZqJQRbjWZ4FOY4ufnvbHhu5qmaUNuNj3KnWCDiYAMlsGV5nj2g0O6MUcvjUZ4wP3YNCINkhkrdicGV8xiKNpQB3FLzovKayyjpXcWp4AsmvRTXEaqRqkpnBIyg8uH5p6JkouPoC+F7OISOZZEQvwxB5Adz8Bho7RhWX8bws1KL+GI43DgNpV6NFjHVxaVhj2wD7LbkPNkfGM6cSxBSWvffsaF0O4CPpJNCWOuASG60BpDIg9I/uFgkAABQjRm4QM/B8zyqzpOkcGh0ePX5YbE8iDYAlk5jBqGOohQN/AQKBgduPXdVR4s+2Vt0/cnWHa+PFmaMUGLMjFD5np/657P5iimgACHRppX1HLhOxQ9UicbPxBA2OdDjpIpi+Icu9fWhEue+LodkrHiNabqqKzPcO0NkThxPMFQgnIZyJnWKgmYdEbnSFnZXWokpQ/LuV8GloAjgAKU3rQAIOQAAAFpBmiRsQz/+nhAAAAMAF0G9wABXzWzL9wci6wV3S8VLIxu/Aop+k6z08mCfo1/GedJFv+izJrcOjMWgrXP+0uptOBdBPp0pzwl+Hd7+KaTKHZKXUJRDPEso6oAAAAAcQZ5CeI//AAADAARJgcVwBuNtaX1qypoywM38AwAAABoBnmF0R/8AAAMABEmBxWq52NahWqIcaiFsqQAAABIBnmNqR/8AAAMAA+MAJfHBwZMAAAAiQZpoSahBaJlMCGf//p4QAAADABLvixftCN0e79fBiOE7tQAAABlBnoZFESwj/wAAAwATp5UMJMtBI7DfVqMXAAAAGAGepXRH/wAAAwAfCKa3AX/RRqn+242BgAAAABIBnqdqR/8AAAMAHxf/LvDWXkEAAAAXQZqsSahBbJlMCF///oywAAADAAADA0IAAAAUQZ7KRRUsI/8AAAMAE/Cf0cydhx0AAAASAZ7pdEf/AAADAB8IpSLt+HHBAAAAEgGe62pH/wAAAwAfF/8u8NZeQQAAABdBmvBJqEFsmUwIX//+jLAAAAMAAAMDQwAAABRBnw5FFSwj/wAAAwAT8J/RzJ2HHAAAABIBny10R/8AAAMAHwilIu34ccAAAAASAZ8vakf/AAADAB8X/y7w1l5BAAAAF0GbNEmoQWyZTAhf//6MsAAAAwAAAwNCAAAAFEGfUkUVLCP/AAADABPwn9HMnYccAAAAEgGfcXRH/wAAAwAfCKUi7fhxwQAAABIBn3NqR/8AAAMAHxf/LvDWXkEAAAAWQZt4SahBbJlMCFf//jhAAAADAAAMqQAAABRBn5ZFFSwj/wAAAwAT8J/RzJ2HHAAAABIBn7V0R/8AAAMAHwilIu34ccAAAAASAZ+3akf/AAADAB8X/y7w1l5BAAAAFkGbvEmoQWyZTAj//IQAAAMAAAMAwIAAAAAUQZ/aRRUsI/8AAAMAE/Cf0cydhxwAAAASAZ/5dEf/AAADAB8IpSLt+HHBAAAAEgGf+2pH/wAAAwAfF/8u8NZeQAAAEANtb292AAAAbG12aGQAAAAAAAAAAAAAAAAAAAPoAAAVzAABAAABAAAAAAAAAAAAAAAAAQAAAAAAAAAAAAAAAAAAAAEAAAAAAAAAAAAAAAAAAEAAAAAAAAAAAAAAAAAAAAAAAAAAAAAAAAAAAAAAAAACAAAPLXRyYWsAAABcdGtoZAAAAAMAAAAAAAAAAAAAAAEAAAAAAAAVzAAAAAAAAAAAAAAAAAAAAAAAAQAAAAAAAAAAAAAAAAAAAAEAAAAAAAAAAAAAAAAAAEAAAAACWAAAAZAAAAAAACRlZHRzAAAAHGVsc3QAAAAAAAAAAQAAFcwAAAIAAAEAAAAADqVtZGlhAAAAIG1kaGQAAAAAAAAAAAAAAAAAADIAAAEXAFXEAAAAAAAtaGRscgAAAAAAAAAAdmlkZQAAAAAAAAAAAAAAAFZpZGVvSGFuZGxlcgAAAA5QbWluZgAAABR2bWhkAAAAAQAAAAAAAAAAAAAAJGRpbmYAAAAcZHJlZgAAAAAAAAABAAAADHVybCAAAAABAAAOEHN0YmwAAACYc3RzZAAAAAAAAAABAAAAiGF2YzEAAAAAAAAAAQAAAAAAAAAAAAAAAAAAAAACWAGQAEgAAABIAAAAAAAAAAEAAAAAAAAAAAAAAAAAAAAAAAAAAAAAAAAAAAAAAAAAAAAY//8AAAAyYXZjQwFkAB//4QAZZ2QAH6zZQJgz5eEAAAMAAQAAAwBkDxgxlgEABmjr48siwAAAABhzdHRzAAAAAAAAAAEAAAEXAAABAAAAABhzdHNzAAAAAAAAAAIAAAABAAAA+wAACKBjdHRzAAAAAAAAARIAAAABAAACAAAAAAEAAAUAAAAAAQAAAgAAAAABAAAAAAAAAAEAAAEAAAAAAQAABQAAAAABAAACAAAAAAEAAAAAAAAAAQAAAQAAAAABAAAFAAAAAAEAAAIAAAAAAQAAAAAAAAABAAABAAAAAAEAAAUAAAAAAQAAAgAAAAABAAAAAAAAAAEAAAEAAAAAAQAABQAAAAABAAACAAAAAAEAAAAAAAAAAQAAAQAAAAABAAAFAAAAAAEAAAIAAAAAAQAAAAAAAAABAAABAAAAAAEAAAUAAAAAAQAAAgAAAAABAAAAAAAAAAEAAAEAAAAAAQAABQAAAAABAAACAAAAAAEAAAAAAAAAAQAAAQAAAAABAAAFAAAAAAEAAAIAAAAAAQAAAAAAAAABAAABAAAAAAEAAAUAAAAAAQAAAgAAAAABAAAAAAAAAAEAAAEAAAAAAQAAAwAAAAABAAABAAAAAAEAAAQAAAAAAgAAAQAAAAABAAAEAAAAAAIAAAEAAAAAAQAABQAAAAABAAACAAAAAAEAAAAAAAAAAQAAAQAAAAABAAAFAAAAAAEAAAIAAAAAAQAAAAAAAAABAAABAAAAAAEAAAUAAAAAAQAAAgAAAAABAAAAAAAAAAEAAAEAAAAAAQAABQAAAAABAAACAAAAAAEAAAAAAAAAAQAAAQAAAAABAAAFAAAAAAEAAAIAAAAAAQAAAAAAAAABAAABAAAAAAEAAAUAAAAAAQAAAgAAAAABAAAAAAAAAAEAAAEAAAAAAQAABAAAAAACAAABAAAAAAEAAAUAAAAAAQAAAgAAAAABAAAAAAAAAAEAAAEAAAAAAQAABQAAAAABAAACAAAAAAEAAAAAAAAAAQAAAQAAAAABAAAFAAAAAAEAAAIAAAAAAQAAAAAAAAABAAABAAAAAAEAAAUAAAAAAQAAAgAAAAABAAAAAAAAAAEAAAEAAAAAAQAABQAAAAABAAACAAAAAAEAAAAAAAAAAQAAAQAAAAABAAAFAAAAAAEAAAIAAAAAAQAAAAAAAAABAAABAAAAAAEAAAUAAAAAAQAAAgAAAAABAAAAAAAAAAEAAAEAAAAAAQAABQAAAAABAAACAAAAAAEAAAAAAAAAAQAAAQAAAAABAAAFAAAAAAEAAAIAAAAAAQAAAAAAAAABAAABAAAAAAEAAAUAAAAAAQAAAgAAAAABAAAAAAAAAAEAAAEAAAAAAQAABQAAAAABAAACAAAAAAEAAAAAAAAAAQAAAQAAAAABAAAFAAAAAAEAAAIAAAAAAQAAAAAAAAABAAABAAAAAAEAAAUAAAAAAQAAAgAAAAABAAAAAAAAAAEAAAEAAAAAAQAABQAAAAABAAACAAAAAAEAAAAAAAAAAQAAAQAAAAABAAAFAAAAAAEAAAIAAAAAAQAAAAAAAAABAAABAAAAAAEAAAUAAAAAAQAAAgAAAAABAAAAAAAAAAEAAAEAAAAAAQAABQAAAAABAAACAAAAAAEAAAAAAAAAAQAAAQAAAAABAAAFAAAAAAEAAAIAAAAAAQAAAAAAAAABAAABAAAAAAEAAAUAAAAAAQAAAgAAAAABAAAAAAAAAAEAAAEAAAAAAQAABQAAAAABAAACAAAAAAEAAAAAAAAAAQAAAQAAAAABAAAFAAAAAAEAAAIAAAAAAQAAAAAAAAABAAABAAAAAAEAAAUAAAAAAQAAAgAAAAABAAAAAAAAAAEAAAEAAAAAAQAABQAAAAABAAACAAAAAAEAAAAAAAAAAQAAAQAAAAABAAAFAAAAAAEAAAIAAAAAAQAAAAAAAAABAAABAAAAAAEAAAQAAAAAAgAAAQAAAAABAAAFAAAAAAEAAAIAAAAAAQAAAAAAAAABAAABAAAAAAEAAAUAAAAAAQAAAgAAAAABAAAAAAAAAAEAAAEAAAAAAQAABQAAAAABAAACAAAAAAEAAAAAAAAAAQAAAQAAAAABAAAFAAAAAAEAAAIAAAAAAQAAAAAAAAABAAABAAAAAAEAAAUAAAAAAQAAAgAAAAABAAAAAAAAAAEAAAEAAAAAAQAABQAAAAABAAACAAAAAAEAAAAAAAAAAQAAAQAAAAABAAAFAAAAAAEAAAIAAAAAAQAAAAAAAAABAAABAAAAAAEAAAUAAAAAAQAAAgAAAAABAAAAAAAAAAEAAAEAAAAAAQAABQAAAAABAAACAAAAAAEAAAAAAAAAAQAAAQAAAAABAAAFAAAAAAEAAAIAAAAAAQAAAAAAAAABAAABAAAAAAEAAAUAAAAAAQAAAgAAAAABAAAAAAAAAAEAAAEAAAAAAQAABQAAAAABAAACAAAAAAEAAAAAAAAAAQAAAQAAAAABAAAFAAAAAAEAAAIAAAAAAQAAAAAAAAABAAABAAAAAAEAAAUAAAAAAQAAAgAAAAABAAAAAAAAAAEAAAEAAAAAAQAABQAAAAABAAACAAAAAAEAAAAAAAAAAQAAAQAAAAABAAAEAAAAAAIAAAEAAAAAAQAABQAAAAABAAACAAAAAAEAAAAAAAAAAQAAAQAAAAABAAAFAAAAAAEAAAIAAAAAAQAAAAAAAAABAAABAAAAAAEAAAUAAAAAAQAAAgAAAAABAAAAAAAAAAEAAAEAAAAAAQAAAgAAAAABAAAFAAAAAAEAAAIAAAAAAQAAAAAAAAABAAABAAAAAAEAAAUAAAAAAQAAAgAAAAABAAAAAAAAAAEAAAEAAAAAAQAABQAAAAABAAACAAAAAAEAAAAAAAAAAQAAAQAAAAABAAAFAAAAAAEAAAIAAAAAAQAAAAAAAAABAAABAAAAAAEAAAUAAAAAAQAAAgAAAAABAAAAAAAAAAEAAAEAAAAAAQAABQAAAAABAAACAAAAAAEAAAAAAAAAAQAAAQAAAAABAAAFAAAAAAEAAAIAAAAAAQAAAAAAAAABAAABAAAAABxzdHNjAAAAAAAAAAEAAAABAAABFwAAAAEAAARwc3RzegAAAAAAAAAAAAABFwAADFcAAAVGAAAA1QAAAHkAAABUAAAAjgAAAFQAAABSAAAAPAAAAEQAAAA1AAAALwAAACQAAAAoAAAAKAAAACMAAAAfAAAAGwAAACIAAAAeAAAAHwAAABsAAAAiAAAAHgAAAB8AAACZAAAALAAAAB4AAAAhAAAAggAAAD0AAAAiAAAAKAAAAMYAAABJAAAAMQAAAD0AAAD9AAAAXwAAAEwAAABWAAAAyAAAAEYAAADfAAAAWQAAADoAAAEtAAAAYQAAAF4AAAEOAAAAigAAAIIAAACZAAABCwAAALEAAACRAAAApwAAAOQAAAC9AAAArwAAAJYAAADmAAAAhQAAAIkAAACyAAAA9gAAAMIAAADWAAAAtwAAAPEAAADRAAAAsgAAAMMAAAEgAAAAnQAAAKoAAAEKAAAAqgAAAKIAAACyAAAA1gAAAJ0AAAB7AAAArwAAAQMAAACnAAAArQAAAKIAAAEFAAAAoAAAALgAAACMAAABKQAAAL0AAACnAAAAqAAAAWYAAAC0AAAAgAAAAL4AAAECAAAArgAAAMMAAACjAAABHgAAANUAAADBAAAAngAAAW4AAADaAAAAxQAAALMAAAEbAAAAtwAAAIUAAAChAAABLwAAALAAAAC2AAAAtQAAAPAAAADPAAAAvAAAAKkAAAEjAAAAqwAAALcAAAC1AAABPgAAAKUAAADCAAAAqAAAAPoAAAC9AAAAtwAAANQAAAEWAAAAzwAAAKEAAACzAAABAgAAAKMAAACKAAAArgAAAPMAAACtAAAAmQAAAJEAAAD+AAAAmAAAAIAAAACSAAAA7wAAAKIAAACdAAAAxQAAAQ0AAACOAAAAjgAAAIMAAAEgAAAAkAAAAKEAAACjAAABCwAAALEAAACYAAAAkAAAAOsAAACbAAAAmAAAAGMAAADcAAAAfQAAAGsAAAEvAAAAnQAAAHcAAAB7AAABLgAAAL0AAABqAAAAkQAAAP0AAACnAAAAcAAAAGwAAAD6AAAAnAAAAHMAAABQAAAA8AAAAJAAAABZAAAAiAAAARwAAACfAAAAiQAAAIwAAAE4AAAAxAAAAH8AAACfAAABCgAAAJ4AAACcAAAAjAAAAQYAAACHAAAAeQAAAG8AAACdAAAAXQAAAG8AAAByAAAArgAAAGUAAABzAAAAdwAAAMUAAABsAAAAWwAAAE8AAAESAAAAdAAAAFMAAABtAAAA9wAAAHgAAABxAAAAWwAAAK0AAABoAAAAVQAAAEsAAAC8AAAAVAAAAFMAAABnAAAAawAAADQAAAAxAAAAqgAAAEcAAAAtAAAAMQAAAHwAAAA9AAAALAAAACsAAAhSAAAAXgAAACAAAAAeAAAAFgAAACYAAAAdAAAAHAAAABYAAAAbAAAAGAAAABYAAAAWAAAAGwAAABgAAAAWAAAAFgAAABsAAAAYAAAAFgAAABYAAAAaAAAAGAAAABYAAAAWAAAAGgAAABgAAAAWAAAAFgAAABRzdGNvAAAAAAAAAAEAAAAwAAAAYnVkdGEAAABabWV0YQAAAAAAAAAhaGRscgAAAAAAAAAAbWRpcmFwcGwAAAAAAAAAAAAAAAAtaWxzdAAAACWpdG9vAAAAHWRhdGEAAAABAAAAAExhdmY1OC4yOS4xMDA=\" type=\"video/mp4\">\n",
              "</video>\n"
            ],
            "text/plain": [
              "<IPython.core.display.HTML object>"
            ]
          },
          "execution_count": 16,
          "metadata": {},
          "output_type": "execute_result"
        }
      ],
      "source": [
        "from IPython.display import HTML\n",
        "from base64 import b64encode\n",
        "mp4 = open('./test_lander/rl-video-episode-90.mp4','rb').read()\n",
        "data_url = \"data:video/mp4;base64,\" + b64encode(mp4).decode()\n",
        "HTML(\"\"\"\n",
        "<video width=600 height = 400 controls>\n",
        "      <source src=\"%s\" type=\"video/mp4\">\n",
        "</video>\n",
        "\"\"\" % data_url)"
      ]
    },
    {
      "cell_type": "code",
      "execution_count": 19,
      "metadata": {
        "colab": {
          "base_uri": "https://localhost:8080/",
          "height": 279
        },
        "id": "Cd4lQOzaETcC",
        "outputId": "5df01eda-f34e-414c-c5b3-031bcb3ef1f9"
      },
      "outputs": [
        {
          "data": {
            "image/png": "[encoded data removed]",
            "text/plain": [
              "<Figure size 432x288 with 1 Axes>"
            ]
          },
          "metadata": {
            "needs_background": "light"
          },
          "output_type": "display_data"
        }
      ],
      "source": [
        "plt.plot(np.arange(len(scores)), scores)\n",
        "plt.ylabel('Score')\n",
        "plt.xlabel('Episode')\n",
        "plt.show()"
      ]
    }
  ],
  "metadata": {
    "accelerator": "GPU",
    "colab": {
      "provenance": []
    },
    "gpuClass": "standard",
    "kernelspec": {
      "display_name": "tf-gpu",
      "language": "python",
      "name": "python3"
    },
    "language_info": {
      "codemirror_mode": {
        "name": "ipython",
        "version": 3
      },
      "file_extension": ".py",
      "mimetype": "text/x-python",
      "name": "python",
      "nbconvert_exporter": "python",
      "pygments_lexer": "ipython3",
      "version": "3.9.13"
    },
    "vscode": {
      "interpreter": {
        "hash": "222ffca9ce43879094c17e6b40bc3545027533de975f61fa4f3cf9869f4e486e"
      }
    }
  },
  "nbformat": 4,
  "nbformat_minor": 0
}
