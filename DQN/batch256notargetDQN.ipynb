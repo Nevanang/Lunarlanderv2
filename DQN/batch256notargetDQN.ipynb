{
  "cells": [
    {
      "attachments": {},
      "cell_type": "markdown",
      "metadata": {},
      "source": [
        "<h1>Nevan Ang Kai Wen\n",
        "<h1>P2122867\n",
        "<h1>Khor Yu Yang\n",
        "<h1>P2123590\n",
        "<h1>DAAA/FT/2B/01"
      ]
    },
    {
      "cell_type": "code",
      "execution_count": 12,
      "metadata": {
        "id": "04LsYY8QncT7"
      },
      "outputs": [],
      "source": [
        "from keras.optimizers import Adam\n",
        "import numpy as np\n",
        "from keras.layers import Dense,Activation\n",
        "from keras.models import Sequential,load_model\n",
        "import datetime\n",
        "import gym\n",
        "import matplotlib.pyplot as plt\n",
        "import tensorflow as tf"
      ]
    },
    {
      "cell_type": "code",
      "execution_count": 13,
      "metadata": {
        "id": "Lh7vrzEHD-WT"
      },
      "outputs": [],
      "source": [
        "import os\n",
        "os.environ['TF_CPP_MIN_LOG_LEVEL'] = '3'"
      ]
    },
    {
      "cell_type": "code",
      "execution_count": 14,
      "metadata": {
        "id": "WmOk_8arT8Ih"
      },
      "outputs": [],
      "source": [
        "tf.compat.v1.disable_eager_execution()"
      ]
    },
    {
      "cell_type": "markdown",
      "metadata": {
        "id": "Yel41NOpncT9"
      },
      "source": [
        "<h2>Replay Buffer"
      ]
    },
    {
      "cell_type": "markdown",
      "metadata": {
        "id": "Ewjo-YorncT-"
      },
      "source": [
        "Storage of state,action,reward,state transition,tuples and done(terminal)"
      ]
    },
    {
      "cell_type": "markdown",
      "metadata": {
        "id": "hhLJ9YvYncT-"
      },
      "source": [
        "So that agent can use transitions to learn about parameter space of problem"
      ]
    },
    {
      "cell_type": "code",
      "execution_count": 17,
      "metadata": {
        "id": "HrZSDR2qncT-"
      },
      "outputs": [],
      "source": [
        "class ReplayBuffer():\n",
        "    def __init__(self,max_size,input_shape,n_actions,discrete=True):\n",
        "        self.mem_size=max_size\n",
        "        self.mem_cntr=0\n",
        "        self.discrete=discrete #if dealt with discrete action space, we want to store them as vector\n",
        "        self.state_mem=np.zeros((self.mem_size,input_shape))\n",
        "        #to store new states of environment\n",
        "        self.new_state_mem=np.zeros((self.mem_size,input_shape)) #track new states after each new action\n",
        "        dtype=np.int8 if discrete else np.float32 #discrete or continuous\n",
        "        self.action_mem=np.zeros((self.mem_size,n_actions),dtype=dtype)\n",
        "        self.reward_mem=np.zeros(self.mem_size)\n",
        "        self.terminal_mem=np.zeros(self.mem_size,dtype=np.float32) #determine whether episode is done, dont take in reward of next state\n",
        "    #learn from its experiences by storing in info about its interactions\n",
        "    def store_transition(self,state,action,reward,state_,terminal):\n",
        "        index=self.mem_cntr %self.mem_size #from 0 to 1m size of memory, to replace exisiting when it hits 1m \n",
        "        self.state_mem[index]=state\n",
        "        self.new_state_mem[index]=state_\n",
        "        self.reward_mem[index]=reward\n",
        "        self.terminal_mem[index]=1-int(terminal)# 1- true or 0\n",
        "        if self.discrete: #one hot encoded actions\n",
        "            actions=np.zeros(self.action_mem.shape[1])\n",
        "            actions[action]=1.0\n",
        "            self.action_mem[index]=actions\n",
        "        else:\n",
        "            self.action_mem[index]=action\n",
        "        self.mem_cntr+=1\n",
        "        \n",
        "    def sample_memory(self,batch_size): # subset of memsize\n",
        "        max_mem=min(self.mem_cntr,self.mem_size)#only sample from existing \n",
        "        batch=np.random.choice(max_mem,batch_size)\n",
        "        states=self.state_mem[batch]\n",
        "        states_=self.new_state_mem[batch]\n",
        "        rewards=self.reward_mem[batch]\n",
        "        actions=self.action_mem[batch]\n",
        "        terminal=self.terminal_mem[batch]\n",
        "        return states,actions, rewards,states_,terminal\n"
      ]
    },
    {
      "attachments": {},
      "cell_type": "markdown",
      "metadata": {},
      "source": [
        "<h2>DQN Network"
      ]
    },
    {
      "attachments": {},
      "cell_type": "markdown",
      "metadata": {},
      "source": [
        "2 hidden layers of dense"
      ]
    },
    {
      "cell_type": "code",
      "execution_count": 18,
      "metadata": {
        "id": "s853_KcGncT_"
      },
      "outputs": [],
      "source": [
        "def dqn(lr,n_actions,input_dim,fc1,fc2):\n",
        "    model=Sequential([\n",
        "        Dense(fc1,input_shape=(input_dim,)),#pass batch or single memory\n",
        "        Activation('relu'),\n",
        "        Dense(fc2),\n",
        "        Activation('relu'),\n",
        "        Dense(n_actions)\n",
        "    ])\n",
        "    model.compile(optimizer=Adam(lr=lr),loss='mse')\n",
        "    return model\n"
      ]
    },
    {
      "attachments": {},
      "cell_type": "markdown",
      "metadata": {},
      "source": [
        "<h2>Agent"
      ]
    },
    {
      "attachments": {},
      "cell_type": "markdown",
      "metadata": {},
      "source": [
        "Where the model is run, experience stored,action chosen, generate experience and learn and to save or load models"
      ]
    },
    {
      "cell_type": "markdown",
      "metadata": {
        "id": "LaHUeiuMncUA"
      },
      "source": [
        "gamma-discount factor for future rewards\n"
      ]
    },
    {
      "cell_type": "markdown",
      "metadata": {
        "id": "E7zV7TBbncUA"
      },
      "source": [
        "epsilon-random factor for epsilon greedy"
      ]
    },
    {
      "attachments": {},
      "cell_type": "markdown",
      "metadata": {},
      "source": [
        "Without Target Network"
      ]
    },
    {
      "cell_type": "code",
      "execution_count": 19,
      "metadata": {
        "id": "td_nWi_1ncUA"
      },
      "outputs": [],
      "source": [
        "class Agent():\n",
        "    def __init__(self,alpha,gamma,n_actions,epsilon,batch_size,input_dims,epsilon_dec=0.996,epsilon_end=0.01,mem_size=1_000_000,fname='no_target_dqn_model.h5'):\n",
        "        self.action_space=[i for i in range(n_actions)] # for randm action\n",
        "        self.gamma=gamma\n",
        "        self.epsilon=epsilon\n",
        "        self.ep_dec=epsilon_dec\n",
        "        self.eps_min=epsilon_end\n",
        "        self.batch_size=batch_size\n",
        "        self.model_file=fname\n",
        "\n",
        "        self.memory=ReplayBuffer(mem_size,input_dims,n_actions,discrete=True)\n",
        "        self.Q_eval=dqn(alpha,n_actions,input_dims,256,256)\n",
        "    #interfacing w/ memory to save new state transitions\n",
        "    def remember(self,state,action,reward,new_state,terminal):\n",
        "        self.memory.store_transition(state,action,reward,new_state,terminal)\n",
        "\n",
        "    #epsilon greedy strategy\n",
        "    def choose_action(self,state): #shaped input dims\n",
        "        #reshape\n",
        "        state=state[np.newaxis,:]\n",
        "        rand=np.random.random()\n",
        "        if rand<self.epsilon: #exploration\n",
        "            action=np.random.choice(self.action_space)\n",
        "        else:\n",
        "            actions=self.Q_eval.predict(state,verbose=0)\n",
        "            action=np.argmax(actions)#pass state through the network,get value of all actions and get max highest value\n",
        "        return action\n",
        "\n",
        "        ###Sample Memory,\n",
        "        #Calculate value of current and next state\n",
        "        #Update q_target based on next state as target for loss function of q_eval\n",
        "    def learn(self):\n",
        "        #Temporal difference learning method: learning every step, fill memory with random until batchsize\n",
        "        if self.memory.mem_cntr<self.batch_size:\n",
        "            return\n",
        "        state,action,reward,new_state,terminal= self.memory.sample_memory(self.batch_size) #gives sample in shape batch_size\n",
        "        action_values=np.array(self.action_space,dtype=np.int8)\n",
        "        action_indices=np.dot(action,action_values) #from one hot to normal integer\n",
        "        Q_eval=self.Q_eval.predict(state,verbose=0) #feed state through model to calculate current and next state \n",
        "        Q_next=self.Q_eval.predict(new_state,verbose=0)\n",
        "        q_target=Q_eval.copy()\n",
        "        #Address all states in particular batch, not normal array slicing because Shape(batchsize,batchsize) gives u wrong answer \n",
        "        batch_index=np.arange(self.batch_size,dtype=np.int32)\n",
        "        q_target[batch_index,action_indices]= reward+self.gamma*np.max(Q_next,axis=1)*terminal #what q target shoots for\n",
        "        #best possible reward received in next state \n",
        "        #0 to batchsize-1,action taken\n",
        "        self.Q_eval.train_on_batch(state,q_target)#pass batch to network, compare to q target and \n",
        "\n",
        "        # self.epsilon=self.epsilon*self.ep_dec if self.epsilon > self.eps_min else self.eps_min\n",
        "        if self.epsilon-1e-4>self.eps_min:\n",
        "            self.epsilon*=self.ep_dec\n",
        "        else:\n",
        "            self.epsilon=self.eps_min\n",
        "    def save_model(self,i):\n",
        "        self.Q_eval.save(f'ep{i}_{self.model_file}')\n",
        "    def load_model(self):\n",
        "        self.Q_eval=load_model(self.model_file)"
      ]
    },
    {
      "cell_type": "code",
      "execution_count": 21,
      "metadata": {
        "colab": {
          "base_uri": "https://localhost:8080/"
        },
        "id": "mW2yPinYncUB",
        "outputId": "d1b6ecd6-4360-4338-a499-7dcaa9e849f0"
      },
      "outputs": [
        {
          "name": "stdout",
          "output_type": "stream",
          "text": [
            "State shape:  (8,)\n",
            "Number of actions:  4\n"
          ]
        },
        {
          "name": "stderr",
          "output_type": "stream",
          "text": [
            "/usr/local/lib/python3.8/dist-packages/gym/core.py:317: DeprecationWarning: \u001b[33mWARN: Initializing wrapper in old step API which returns one bool instead of two. It is recommended to set `new_step_api=True` to use new step API. This will be the default behaviour in future.\u001b[0m\n",
            "  deprecation(\n",
            "/usr/local/lib/python3.8/dist-packages/gym/wrappers/step_api_compatibility.py:39: DeprecationWarning: \u001b[33mWARN: Initializing environment in old step API which returns one bool instead of two. It is recommended to set `new_step_api=True` to use new step API. This will be the default behaviour in future.\u001b[0m\n",
            "  deprecation(\n"
          ]
        }
      ],
      "source": [
        "env=gym.make(\"LunarLander-v2\")\n",
        "print('State shape: ', env.observation_space.shape)\n",
        "print('Number of actions: ', env.action_space.n)"
      ]
    },
    {
      "attachments": {},
      "cell_type": "markdown",
      "metadata": {},
      "source": [
        "<h2>Training"
      ]
    },
    {
      "cell_type": "code",
      "execution_count": 22,
      "metadata": {
        "colab": {
          "base_uri": "https://localhost:8080/"
        },
        "id": "9LzoBmLUncUB",
        "outputId": "0c4aaa62-7241-4c43-b375-63a039fc39b4"
      },
      "outputs": [
        {
          "name": "stdout",
          "output_type": "stream",
          "text": [
            "Ep  1 score -260.64 avg score -260.64 epsilon 1.00\n",
            "Ep  2 score -250.47 avg score -255.56 epsilon 0.81\n",
            "Ep  3 score -100.62 avg score -203.91 epsilon 0.48\n",
            "Ep  4 score -163.07 avg score -193.70 epsilon 0.24\n",
            "Ep  5 score -173.54 avg score -189.67 epsilon 0.01\n",
            "Ep  6 score -94.82 avg score -173.86 epsilon 0.01\n",
            "Ep  7 score -218.27 avg score -180.20 epsilon 0.01\n",
            "Ep  8 score -95.62 avg score -169.63 epsilon 0.01\n",
            "Ep  9 score -321.82 avg score -186.54 epsilon 0.01\n",
            "Ep  10 score -62.75 avg score -174.16 epsilon 0.01\n",
            "Ep  11 score -82.57 avg score -165.83 epsilon 0.01\n",
            "Ep  12 score -83.60 avg score -158.98 epsilon 0.01\n",
            "Ep  13 score -108.68 avg score -155.11 epsilon 0.01\n",
            "Ep  14 score -66.90 avg score -148.81 epsilon 0.01\n",
            "Ep  15 score -94.49 avg score -145.19 epsilon 0.01\n",
            "Ep  16 score -111.68 avg score -143.10 epsilon 0.01\n",
            "Ep  17 score -66.73 avg score -138.60 epsilon 0.01\n",
            "Ep  18 score -73.51 avg score -134.99 epsilon 0.01\n",
            "Ep  19 score -62.87 avg score -131.19 epsilon 0.01\n",
            "Ep  20 score -67.04 avg score -127.98 epsilon 0.01\n",
            "Ep  21 score -59.54 avg score -124.72 epsilon 0.01\n",
            "Ep  22 score -73.69 avg score -122.40 epsilon 0.01\n",
            "Ep  23 score -67.45 avg score -120.02 epsilon 0.01\n",
            "Ep  24 score -57.57 avg score -117.41 epsilon 0.01\n",
            "Ep  25 score -106.69 avg score -116.98 epsilon 0.01\n",
            "Ep  26 score -103.85 avg score -116.48 epsilon 0.01\n",
            "Ep  27 score -57.66 avg score -114.30 epsilon 0.01\n",
            "Ep  28 score -86.22 avg score -113.30 epsilon 0.01\n",
            "Ep  29 score -70.31 avg score -111.82 epsilon 0.01\n",
            "Ep  30 score -80.24 avg score -110.76 epsilon 0.01\n",
            "Ep  31 score -86.68 avg score -109.99 epsilon 0.01\n",
            "Ep  32 score -61.98 avg score -108.49 epsilon 0.01\n",
            "Ep  33 score -20.25 avg score -105.81 epsilon 0.01\n",
            "Ep  34 score -49.49 avg score -104.16 epsilon 0.01\n",
            "Ep  35 score -38.10 avg score -102.27 epsilon 0.01\n",
            "Ep  36 score -42.12 avg score -100.60 epsilon 0.01\n",
            "Ep  37 score -67.21 avg score -99.69 epsilon 0.01\n",
            "Ep  38 score -74.62 avg score -99.04 epsilon 0.01\n",
            "Ep  39 score -25.15 avg score -97.14 epsilon 0.01\n",
            "Ep  40 score -80.91 avg score -96.73 epsilon 0.01\n",
            "Ep  41 score -35.80 avg score -95.25 epsilon 0.01\n",
            "Ep  42 score -40.06 avg score -93.93 epsilon 0.01\n",
            "Ep  43 score -46.62 avg score -92.83 epsilon 0.01\n",
            "Ep  44 score -146.52 avg score -94.05 epsilon 0.01\n",
            "Ep  45 score -286.71 avg score -98.34 epsilon 0.01\n",
            "Ep  46 score -227.04 avg score -101.13 epsilon 0.01\n",
            "Ep  47 score -12.74 avg score -99.25 epsilon 0.01\n",
            "Ep  48 score -60.26 avg score -98.44 epsilon 0.01\n",
            "Ep  49 score 101.32 avg score -94.36 epsilon 0.01\n",
            "Ep  50 score -72.93 avg score -93.93 epsilon 0.01\n",
            "Ep  51 score 23.45 avg score -91.63 epsilon 0.01\n",
            "Ep  52 score -30.71 avg score -90.46 epsilon 0.01\n",
            "Ep  53 score -57.61 avg score -89.84 epsilon 0.01\n",
            "Ep  54 score -39.86 avg score -88.92 epsilon 0.01\n",
            "Ep  55 score -78.09 avg score -88.72 epsilon 0.01\n",
            "Ep  56 score 1.13 avg score -87.11 epsilon 0.01\n",
            "Ep  57 score 159.96 avg score -82.78 epsilon 0.01\n",
            "Ep  58 score -216.84 avg score -85.09 epsilon 0.01\n",
            "Ep  59 score 163.14 avg score -80.88 epsilon 0.01\n",
            "Ep  60 score 140.33 avg score -77.20 epsilon 0.01\n",
            "Ep  61 score -105.91 avg score -77.67 epsilon 0.01\n",
            "Ep  62 score 166.78 avg score -73.73 epsilon 0.01\n",
            "Ep  63 score -90.51 avg score -73.99 epsilon 0.01\n",
            "Ep  64 score -121.97 avg score -74.74 epsilon 0.01\n",
            "Ep  65 score -160.74 avg score -76.06 epsilon 0.01\n",
            "Ep  66 score -235.02 avg score -78.47 epsilon 0.01\n",
            "Ep  67 score -111.92 avg score -78.97 epsilon 0.01\n",
            "Ep  68 score -80.89 avg score -79.00 epsilon 0.01\n",
            "Ep  69 score -155.65 avg score -80.11 epsilon 0.01\n",
            "Ep  70 score 4.84 avg score -78.90 epsilon 0.01\n",
            "Ep  71 score -206.31 avg score -80.69 epsilon 0.01\n",
            "Ep  72 score -204.62 avg score -82.41 epsilon 0.01\n",
            "Ep  73 score -148.67 avg score -83.32 epsilon 0.01\n",
            "Ep  74 score -34.33 avg score -82.66 epsilon 0.01\n",
            "Ep  75 score 176.07 avg score -79.21 epsilon 0.01\n",
            "Ep  76 score 10.34 avg score -78.03 epsilon 0.01\n",
            "Ep  77 score 129.97 avg score -75.33 epsilon 0.01\n",
            "Ep  78 score 233.38 avg score -71.37 epsilon 0.01\n",
            "Ep  79 score 213.77 avg score -67.76 epsilon 0.01\n",
            "Ep  80 score 232.47 avg score -64.01 epsilon 0.01\n",
            "Ep  81 score 249.70 avg score -60.14 epsilon 0.01\n",
            "Ep  82 score -129.50 avg score -60.98 epsilon 0.01\n",
            "Ep  83 score 225.93 avg score -57.53 epsilon 0.01\n",
            "Ep  84 score -261.23 avg score -59.95 epsilon 0.01\n",
            "Ep  85 score 215.92 avg score -56.71 epsilon 0.01\n",
            "Ep  86 score 205.63 avg score -53.66 epsilon 0.01\n",
            "Ep  87 score -7.31 avg score -53.12 epsilon 0.01\n",
            "Ep  88 score -99.04 avg score -53.64 epsilon 0.01\n",
            "Ep  89 score 138.88 avg score -51.48 epsilon 0.01\n",
            "Ep  90 score -107.70 avg score -52.11 epsilon 0.01\n",
            "Ep  91 score 230.23 avg score -49.00 epsilon 0.01\n",
            "Ep  92 score 215.77 avg score -46.13 epsilon 0.01\n",
            "Ep  93 score -7.73 avg score -45.71 epsilon 0.01\n",
            "Ep  94 score 208.67 avg score -43.01 epsilon 0.01\n",
            "Ep  95 score 157.58 avg score -40.89 epsilon 0.01\n",
            "Ep  96 score -160.36 avg score -42.14 epsilon 0.01\n",
            "Ep  97 score 17.21 avg score -41.53 epsilon 0.01\n",
            "Ep  98 score 226.04 avg score -38.80 epsilon 0.01\n",
            "Ep  99 score 199.97 avg score -36.39 epsilon 0.01\n",
            "Ep  100 score -117.71 avg score -37.20 epsilon 0.01\n",
            "Ep  101 score 176.52 avg score -35.08 epsilon 0.01\n",
            "Ep  102 score 230.22 avg score -30.22 epsilon 0.01\n",
            "Ep  103 score -74.51 avg score -28.48 epsilon 0.01\n",
            "Ep  104 score -69.46 avg score -28.17 epsilon 0.01\n",
            "Ep  105 score -127.91 avg score -27.82 epsilon 0.01\n",
            "Ep  106 score -86.45 avg score -26.96 epsilon 0.01\n",
            "Ep  107 score 158.94 avg score -24.45 epsilon 0.01\n",
            "Ep  108 score 163.26 avg score -20.67 epsilon 0.01\n",
            "Ep  109 score -95.57 avg score -20.67 epsilon 0.01\n",
            "Ep  110 score -208.50 avg score -19.55 epsilon 0.01\n",
            "Ep  111 score 229.08 avg score -16.66 epsilon 0.01\n",
            "Ep  112 score 169.53 avg score -14.16 epsilon 0.01\n",
            "Ep  113 score 224.07 avg score -11.12 epsilon 0.01\n",
            "Ep  114 score -129.09 avg score -11.32 epsilon 0.01\n",
            "Ep  115 score 248.58 avg score -8.20 epsilon 0.01\n",
            "Ep  116 score -169.15 avg score -8.93 epsilon 0.01\n",
            "Ep  117 score -142.56 avg score -9.24 epsilon 0.01\n",
            "Ep  118 score -226.46 avg score -10.82 epsilon 0.01\n",
            "Ep  119 score 13.78 avg score -9.96 epsilon 0.01\n",
            "Ep  120 score 226.79 avg score -7.09 epsilon 0.01\n",
            "Ep  121 score 190.90 avg score -4.54 epsilon 0.01\n",
            "Ep  122 score 214.06 avg score -1.83 epsilon 0.01\n",
            "Ep  123 score 190.11 avg score 0.78 epsilon 0.01\n",
            "Ep  124 score 147.36 avg score 2.91 epsilon 0.01\n",
            "Ep  125 score 226.38 avg score 5.72 epsilon 0.01\n",
            "Ep  126 score 219.22 avg score 8.95 epsilon 0.01\n",
            "Ep  127 score 272.66 avg score 12.68 epsilon 0.01\n",
            "Ep  128 score 200.15 avg score 15.23 epsilon 0.01\n",
            "Ep  129 score 227.88 avg score 18.34 epsilon 0.01\n",
            "Ep  130 score 245.43 avg score 21.47 epsilon 0.01\n",
            "Ep  131 score 239.97 avg score 24.64 epsilon 0.01\n",
            "Ep  132 score 201.17 avg score 27.49 epsilon 0.01\n",
            "Ep  133 score 222.96 avg score 30.31 epsilon 0.01\n",
            "Ep  134 score 17.04 avg score 30.68 epsilon 0.01\n",
            "Ep  135 score 180.51 avg score 32.95 epsilon 0.01\n",
            "Ep  136 score 201.36 avg score 35.32 epsilon 0.01\n",
            "Ep  137 score 230.99 avg score 38.03 epsilon 0.01\n",
            "Ep  138 score 270.20 avg score 41.37 epsilon 0.01\n",
            "Ep  139 score 191.62 avg score 44.01 epsilon 0.01\n",
            "Ep  140 score 255.30 avg score 46.78 epsilon 0.01\n",
            "Ep  141 score 243.66 avg score 50.00 epsilon 0.01\n",
            "Ep  142 score 177.74 avg score 52.11 epsilon 0.01\n",
            "Ep  143 score 197.24 avg score 54.46 epsilon 0.01\n",
            "Ep  144 score 221.57 avg score 57.12 epsilon 0.01\n",
            "Ep  145 score 233.00 avg score 60.87 epsilon 0.01\n",
            "Ep  146 score 270.24 avg score 66.39 epsilon 0.01\n",
            "Ep  147 score -126.73 avg score 67.38 epsilon 0.01\n",
            "Ep  148 score 192.71 avg score 69.41 epsilon 0.01\n",
            "Ep  149 score -38.01 avg score 69.63 epsilon 0.01\n",
            "Ep  150 score -76.77 avg score 67.87 epsilon 0.01\n",
            "Ep  151 score 227.40 avg score 70.85 epsilon 0.01\n",
            "Ep  152 score -192.86 avg score 68.70 epsilon 0.01\n",
            "Ep  153 score 248.17 avg score 71.46 epsilon 0.01\n",
            "Ep  154 score 12.07 avg score 72.15 epsilon 0.01\n",
            "Ep  155 score -132.26 avg score 71.24 epsilon 0.01\n",
            "Ep  156 score -57.83 avg score 71.44 epsilon 0.01\n",
            "Ep  157 score 223.54 avg score 73.64 epsilon 0.01\n",
            "Ep  158 score -24.98 avg score 71.81 epsilon 0.01\n",
            "Ep  159 score -36.15 avg score 73.60 epsilon 0.01\n",
            "Ep  160 score 0.79 avg score 71.99 epsilon 0.01\n",
            "Ep  161 score -29.01 avg score 70.32 epsilon 0.01\n",
            "Ep  162 score 197.29 avg score 73.32 epsilon 0.01\n",
            "Ep  163 score -191.13 avg score 69.77 epsilon 0.01\n",
            "Ep  164 score 245.22 avg score 73.10 epsilon 0.01\n",
            "Ep  165 score 241.70 avg score 76.70 epsilon 0.01\n",
            "Ep  166 score 263.88 avg score 80.90 epsilon 0.01\n",
            "Ep  167 score 248.85 avg score 85.69 epsilon 0.01\n",
            "Ep  168 score 179.82 avg score 88.58 epsilon 0.01\n",
            "Ep  169 score 261.24 avg score 91.97 epsilon 0.01\n",
            "Ep  170 score 268.89 avg score 96.17 epsilon 0.01\n",
            "Ep  171 score -229.17 avg score 93.86 epsilon 0.01\n",
            "Ep  172 score -208.96 avg score 93.83 epsilon 0.01\n",
            "Ep  173 score 302.17 avg score 98.85 epsilon 0.01\n",
            "Ep  174 score 233.99 avg score 102.64 epsilon 0.01\n",
            "Ep  175 score 266.06 avg score 105.61 epsilon 0.01\n",
            "Ep  176 score 269.04 avg score 106.53 epsilon 0.01\n",
            "Ep  177 score -213.65 avg score 104.31 epsilon 0.01\n",
            "Ep  178 score 275.12 avg score 105.75 epsilon 0.01\n",
            "Ep  179 score 285.24 avg score 106.26 epsilon 0.01\n",
            "Ep  180 score 244.67 avg score 106.57 epsilon 0.01\n",
            "Ep  181 score 230.75 avg score 106.55 epsilon 0.01\n",
            "Ep  182 score 16.26 avg score 104.24 epsilon 0.01\n",
            "Ep  183 score 195.38 avg score 107.46 epsilon 0.01\n",
            "Ep  184 score -43.85 avg score 104.79 epsilon 0.01\n",
            "Ep  185 score 248.01 avg score 109.83 epsilon 0.01\n",
            "Ep  186 score 239.61 avg score 110.06 epsilon 0.01\n",
            "Ep  187 score 260.18 avg score 110.60 epsilon 0.01\n",
            "Ep  188 score 209.13 avg score 112.75 epsilon 0.01\n",
            "Ep  189 score -245.60 avg score 111.30 epsilon 0.01\n",
            "Ep  190 score 269.22 avg score 112.59 epsilon 0.01\n",
            "Ep  191 score -47.50 avg score 113.18 epsilon 0.01\n",
            "Ep  192 score 153.11 avg score 112.42 epsilon 0.01\n",
            "Ep  193 score 223.57 avg score 112.50 epsilon 0.01\n",
            "Ep  194 score -56.67 avg score 112.01 epsilon 0.01\n",
            "Ep  195 score 149.10 avg score 111.42 epsilon 0.01\n",
            "Ep  196 score 196.90 avg score 111.81 epsilon 0.01\n",
            "Ep  197 score 282.10 avg score 116.19 epsilon 0.01\n",
            "Ep  198 score 247.38 avg score 118.47 epsilon 0.01\n",
            "Ep  199 score -8.03 avg score 116.15 epsilon 0.01\n",
            "Ep  200 score 232.63 avg score 116.48 epsilon 0.01\n"
          ]
        }
      ],
      "source": [
        "from torch.utils.tensorboard import SummaryWriter\n",
        "agent=Agent(gamma=0.99,epsilon=1.0,alpha=0.001,input_dims=8,n_actions=4,batch_size=128,epsilon_end=0.01)\n",
        "#agent scores\n",
        "scores,eps_hist=[],[] #ontaining scores from each episode/epsiolon\n",
        "# scores_window =[] #every 100 epsiode\n",
        "episode=200\n",
        "for i in range(episode):\n",
        "    score=0\n",
        "    terminate=False\n",
        "    observation=env.reset()\n",
        "    while not terminate:\n",
        "        action=agent.choose_action(observation)\n",
        "        observation_,reward,terminate,info=env.step(action)\n",
        "        score+= reward\n",
        "        agent.remember(observation,action,reward,observation_,terminate)\n",
        "        observation=observation_\n",
        "        agent.learn()\n",
        "    scores.append(score)\n",
        "    eps_hist.append(agent.epsilon)\n",
        "    avg=np.mean(scores[max(0,i-100):(i+1)])#last 100 games\n",
        "    print('Ep ',i+1, 'score %.2f'%score,'avg score %.2f'%avg,'epsilon %.2f'%agent.epsilon)\n",
        "    # if i%10==0 and i>0:\n",
        "    #     agent.save_model(i)\n",
        "    # writer_score.add_image\n",
        "    # if i % 100 == 0:\n",
        "    #     print('\\rEpisode {}\\tAverage Score: {:.2f}'.format(i, np.mean(scores_window)))\n",
        "    # if np.mean(scores_window)>=200.0:\n",
        "    #     print('\\nEnvironment solved in {:d} episodes!\\tAverage Score: {:.2f}'.format(i-100, np.mean(scores_window)))\n",
        "x=[i+1 for i in range(episode)]\n",
        "env.close()"
      ]
    },
    {
      "attachments": {},
      "cell_type": "markdown",
      "metadata": {},
      "source": [
        "<h2>Moving Average across episodes"
      ]
    },
    {
      "cell_type": "code",
      "execution_count": 23,
      "metadata": {
        "colab": {
          "base_uri": "https://localhost:8080/",
          "height": 279
        },
        "id": "igDsJGLUncUB",
        "outputId": "907d7e95-1eea-4b2f-bc40-ac4fa76299f9"
      },
      "outputs": [
        {
          "data": {
            "image/png": "[encoded data removed]",
            "text/plain": [
              "<Figure size 432x288 with 1 Axes>"
            ]
          },
          "metadata": {
            "needs_background": "light"
          },
          "output_type": "display_data"
        }
      ],
      "source": [
        "def moving_average(a, n=100) : #calculating the average of a certain number of data points over a fixed period of time.\n",
        "    #average of a certain number of consecutive data points, and then sliding the window of data points over the entire dataset, \n",
        "    #updating the average as the window moves. \n",
        "    ret = np.cumsum(a, dtype=float)\n",
        "    ret[n:] = ret[n:] - ret[:-n]\n",
        "    return ret[n - 1:] / n\n",
        "def plot_scores(scores):\n",
        "    scores_ma=moving_average(scores,n=100)\n",
        "    plt.plot(np.arange(len(scores_ma)), scores_ma)\n",
        "    plt.ylabel('Score')\n",
        "    plt.xlabel('Episode')\n",
        "    plt.show()\n",
        "    \n",
        "plot_scores(scores)"
      ]
    },
    {
      "attachments": {},
      "cell_type": "markdown",
      "metadata": {},
      "source": [
        "<h2>Rewards over all Episodes"
      ]
    },
    {
      "cell_type": "code",
      "execution_count": 24,
      "metadata": {
        "colab": {
          "base_uri": "https://localhost:8080/",
          "height": 282
        },
        "id": "_deb3mcWncUC",
        "outputId": "072003cb-5d21-4d72-c41d-fabfcc6e688e"
      },
      "outputs": [
        {
          "data": {
            "text/plain": [
              "[<matplotlib.lines.Line2D at 0x7f6cf02a32b0>]"
            ]
          },
          "execution_count": 24,
          "metadata": {},
          "output_type": "execute_result"
        },
        {
          "data": {
            "image/png": "[encoded data removed]",
            "text/plain": [
              "<Figure size 432x288 with 1 Axes>"
            ]
          },
          "metadata": {
            "needs_background": "light"
          },
          "output_type": "display_data"
        }
      ],
      "source": [
        "plt.plot(x,scores)"
      ]
    },
    {
      "cell_type": "code",
      "execution_count": 24,
      "metadata": {
        "id": "Cd4lQOzaETcC"
      },
      "outputs": [],
      "source": []
    }
  ],
  "metadata": {
    "accelerator": "GPU",
    "colab": {
      "provenance": []
    },
    "gpuClass": "standard",
    "kernelspec": {
      "display_name": "tf-gpu",
      "language": "python",
      "name": "python3"
    },
    "language_info": {
      "codemirror_mode": {
        "name": "ipython",
        "version": 3
      },
      "file_extension": ".py",
      "mimetype": "text/x-python",
      "name": "python",
      "nbconvert_exporter": "python",
      "pygments_lexer": "ipython3",
      "version": "3.9.13"
    },
    "vscode": {
      "interpreter": {
        "hash": "222ffca9ce43879094c17e6b40bc3545027533de975f61fa4f3cf9869f4e486e"
      }
    }
  },
  "nbformat": 4,
  "nbformat_minor": 0
}
